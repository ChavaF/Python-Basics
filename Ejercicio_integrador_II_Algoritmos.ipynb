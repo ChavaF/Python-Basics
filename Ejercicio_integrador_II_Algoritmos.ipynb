{
  "nbformat": 4,
  "nbformat_minor": 0,
  "metadata": {
    "colab": {
      "provenance": [],
      "collapsed_sections": [
        "_kP__ZxgeLOY"
      ],
      "toc_visible": true,
      "authorship_tag": "ABX9TyO+cH9qkbvfaZCnlPt66EQU",
      "include_colab_link": true
    },
    "kernelspec": {
      "name": "python3",
      "display_name": "Python 3"
    },
    "language_info": {
      "name": "python"
    }
  },
  "cells": [
    {
      "cell_type": "markdown",
      "metadata": {
        "id": "view-in-github",
        "colab_type": "text"
      },
      "source": [
        "<a href=\"https://colab.research.google.com/github/cuauhtemocbe/Python-Basics/blob/main/Ejercicio_integrador_II_Algoritmos.ipynb\" target=\"_parent\"><img src=\"https://colab.research.google.com/assets/colab-badge.svg\" alt=\"Open In Colab\"/></a>"
      ]
    },
    {
      "cell_type": "markdown",
      "metadata": {
        "id": "CpkgjubcxEL_"
      },
      "source": [
        "# Dessarrollando un algoritmo\n",
        "Escribir un programa que pregunte al usuario el radio de un circulo, calcule y regrese el área.\n",
        "\n",
        "**»»** Pasos <br>\n",
        "1. Solicitar el valor para el radio\n",
        "2. Aplicar la fórmula\n",
        "3. Imprimir el resultado\n",
        "\n",
        "\n",
        "**»»** Fórmula <br>\n",
        "area = 3.1416 * radio * radio\n",
        "\n",
        "Pidiendo el radio, usando la función input()\n",
        "<br>\n",
        "`radio = float(input(\"Ingresa el radio:\"))`\n",
        "<br>\n",
        "<br>\n",
        "Aplicando la fórmula\n",
        "<br>\n",
        "`area = (radio * radio) * 3.1415`\n",
        "<br>\n",
        "<br>\n",
        "Imprimento el resultado\n",
        "<br>\n",
        "`print(\"El área del círculo con radio\", radio, \"es:\", area)`\n",
        "<br>\n",
        "<br>\n",
        "**»»** Ejercicio: \n",
        "1. Redondear el resultado\n",
        "2. Cambiar (radio * radio) por radio al cuadrado\n"
      ]
    },
    {
      "cell_type": "code",
      "source": [
        "radio = float(input(\"Ingresa el radio:\"))"
      ],
      "metadata": {
        "colab": {
          "base_uri": "https://localhost:8080/"
        },
        "id": "ERp98p40hPkm",
        "outputId": "c2eee774-ab58-4a89-c83f-43c7e4ede966"
      },
      "execution_count": null,
      "outputs": [
        {
          "name": "stdout",
          "output_type": "stream",
          "text": [
            "Ingresa el radio:5\n"
          ]
        }
      ]
    },
    {
      "cell_type": "code",
      "source": [
        "print(radio)"
      ],
      "metadata": {
        "colab": {
          "base_uri": "https://localhost:8080/"
        },
        "id": "MgxVJIa5hTcu",
        "outputId": "85d01392-d812-441a-9665-5a89781c6b23"
      },
      "execution_count": null,
      "outputs": [
        {
          "output_type": "stream",
          "name": "stdout",
          "text": [
            "5.0\n"
          ]
        }
      ]
    },
    {
      "cell_type": "code",
      "metadata": {
        "colab": {
          "base_uri": "https://localhost:8080/"
        },
        "id": "uT-h8K4Ro252",
        "outputId": "4a81a965-aacf-4868-9e8d-5a7f6729f206"
      },
      "source": [
        "radio = float(input(\"Ingresa el radio:\"))\n",
        "area = (radio * radio) * 3.1415\n",
        "print(\"El área del círculo con radio\", radio, \"es:\", area)"
      ],
      "execution_count": null,
      "outputs": [
        {
          "output_type": "stream",
          "name": "stdout",
          "text": [
            "Ingresa el radio:5\n",
            "El área del círculo con radio 5.0 es: 78.53750000000001\n"
          ]
        }
      ]
    },
    {
      "cell_type": "code",
      "metadata": {
        "id": "NhBsRWI10uZC"
      },
      "source": [
        "def area_circulo(radio):\n",
        "  \"\"\"Regrea el área de un circulo redondeado a dos decimales\"\"\"\n",
        "\n",
        "  area = round((radio * radio) * 3.1415, 2)\n",
        "  print(\"El área del círculo con radio\", radio, \"es:\", area)"
      ],
      "execution_count": null,
      "outputs": []
    },
    {
      "cell_type": "code",
      "source": [
        "area_circulo?"
      ],
      "metadata": {
        "id": "XkkfwkzBiJSf"
      },
      "execution_count": null,
      "outputs": []
    },
    {
      "cell_type": "code",
      "metadata": {
        "colab": {
          "base_uri": "https://localhost:8080/"
        },
        "id": "gEToS_Np05cX",
        "outputId": "0d009705-e559-4a60-a27b-1ea98807c2da"
      },
      "source": [
        "radio = float(input(\"Ingresa el radio:\"))\n",
        "area_circulo(radio)"
      ],
      "execution_count": null,
      "outputs": [
        {
          "output_type": "stream",
          "name": "stdout",
          "text": [
            "Ingresa el radio:5\n",
            "El área del círculo con radio 5.0 es: 78.54\n"
          ]
        }
      ]
    },
    {
      "cell_type": "code",
      "metadata": {
        "colab": {
          "base_uri": "https://localhost:8080/"
        },
        "id": "w3XafMl31cYP",
        "outputId": "fbb84bd9-ac22-4af7-998d-3d4c3742cf9f"
      },
      "source": [
        "# Testing\n",
        "# radio = 7, area = 153.94\n",
        "radius = 23\n",
        "area_circulo(radius)"
      ],
      "execution_count": null,
      "outputs": [
        {
          "output_type": "stream",
          "text": [
            "The area of a circle with radius 23 is: 1661.8535000000002\n"
          ],
          "name": "stdout"
        }
      ]
    },
    {
      "cell_type": "code",
      "metadata": {
        "colab": {
          "base_uri": "https://localhost:8080/"
        },
        "id": "VNbR7qpX0Mn2",
        "outputId": "4ed3a6b3-8b01-4135-abd5-f1dad4d7f076"
      },
      "source": [
        "while True:\n",
        "  radio = float(input(\"Ingresa el radio:\"))\n",
        "\n",
        "  if radio == -1:\n",
        "    break\n",
        "\n",
        "  else:\n",
        "    area_circulo(radio)\n",
        "\n",
        "print('Programa terminado')"
      ],
      "execution_count": null,
      "outputs": [
        {
          "output_type": "stream",
          "name": "stdout",
          "text": [
            "Ingresa el radio:2\n",
            "El área del círculo con radio 2.0 es: 12.566\n",
            "Ingresa el radio:3\n",
            "El área del círculo con radio 3.0 es: 28.273500000000002\n",
            "Ingresa el radio:4\n",
            "El área del círculo con radio 4.0 es: 50.264\n",
            "Ingresa el radio:0\n",
            "El área del círculo con radio 0.0 es: 0.0\n",
            "Ingresa el radio:-1\n",
            "Programa terminado\n"
          ]
        }
      ]
    },
    {
      "cell_type": "markdown",
      "source": [
        "# Ejercicios:"
      ],
      "metadata": {
        "id": "UbzA_tmH8ycd"
      }
    },
    {
      "cell_type": "markdown",
      "metadata": {
        "id": "8O9HFvr51AD5"
      },
      "source": [
        "# I. Múltiplos de 3 y 5\n",
        "\n",
        "Si enumeramos todos los números naturales **por debajo** de 10 que son **múltiplos de 3 o 5**, obtenemos 3, 5, 6 y 9. La **suma** de estos múltiplos es 23.\n",
        "\n",
        "Encuentra la **suma** de todos los múltiplos de 3 o 5 por debajo de 1000.\n",
        "\n",
        "**»»** Pasos <br>\n",
        "1. Identificar múltiplos de 3 o 5  [función es_multiplo]\n",
        "2. Obtener todos los múltiplos por debajo de 10 usando range(10)\n",
        "3. Usar un condicional para sumar los números que son múltiplos en una variable.\n",
        "\n",
        "\n",
        "**»»** Identificar si es múltiplo de 3 o 5\n",
        "<br>\n",
        "Una forma de saber si es múltiplo de un número es usando módulo, mod o el operador %, ya que el residuo será 0.\n",
        "```\n",
        "# num_test = variable, puede ser cualquier número.\n",
        "# suma = 0\n",
        "Si numero mod 3 es igual 0 ó numero mod 5 es igual a 0:\n",
        "    # sumar num_test en la variable suma\n",
        "De otro modo:\n",
        "    # pasar\n",
        "```\n",
        "\n",
        "```\n",
        ">>> print(suma) # Resultado\n",
        "233168\n",
        "\n",
        "```\n",
        "\n",
        "\n",
        "\n",
        "**»» Retos**: \n",
        "<br>\n",
        "- Escribe el código en menos de 6 líneas de código (intermedio)\n",
        "- Guarda los números que son múltiplos de 3 o 5 en una lista y después sumar los elementos de la lista.\n",
        "- Escribe tu código en 1 línea (avanzado). (Tip usa **List comprehension**)"
      ]
    },
    {
      "cell_type": "code",
      "source": [
        "# Aquí va tu código"
      ],
      "metadata": {
        "id": "fPlTiYgW97HZ"
      },
      "execution_count": null,
      "outputs": []
    },
    {
      "cell_type": "markdown",
      "metadata": {
        "id": "qHp3Rvz7RU8-"
      },
      "source": [
        "# II. Números pares Fibonacci <br>\n",
        "Cada nuevo término de la secuencia de Fibonacci se genera sumando los dos términos anteriores. Al comenzar con 1 y 2, los primeros 10 términos serán:\n",
        "\n",
        "1, 2, 3, 5, 8, 13, 21, 34, 55, 89, ...\n",
        "\n",
        "Al considerar los términos en la secuencia de Fibonacci cuyos valores no exceden los cuatro millones, encuentre la suma de los términos pares.\n",
        "\n",
        "\n",
        "**»»** Pasos <br>\n",
        "1. Crear secuencia Fibonacci para los primeros 10 términos\n",
        "2. Identificar números pares\n",
        "3. Si es número par sumar\n",
        "4. Si mi número Fibonacci es mayor o igual a cuatro millones dejar de ejecutar proceso"
      ]
    },
    {
      "cell_type": "markdown",
      "metadata": {
        "id": "1muhfLIBXFWh"
      },
      "source": [
        "#### Paso 1. Generador de números Fibonacci <br>\n"
      ]
    },
    {
      "cell_type": "markdown",
      "metadata": {
        "id": "QxLjIqgobwTN"
      },
      "source": [
        "Genera un algoritmo para obtener el número de téminos Fibonacci, solicitado <br>\n",
        "- Los primeros 3 términos son: <br>\n",
        "```\n",
        ">>> print(fibonacci_numbers(5))\n",
        "0, 1, 1, 2, 3\n",
        "```\n",
        "- Los primeros 6 términos son: <br>\n",
        "```\n",
        ">>> print(fibonacci_numbers(8))\n",
        "0, 1, 1, 2, 3, 5, 8, 13\n",
        "```\n",
        "- Los primeros 10 términos son: <br>\n",
        "```\n",
        ">>> print(fibonacci_numbers(12))\n",
        "0, 1, 1, 2, 3, 5, 8, 13, 21, 34, 55, 89\n",
        "```\n",
        "\n",
        "\n",
        "\n",
        "**»» Retos para generador de números Fibonacci**: \n",
        "<br>\n",
        "1. Genera el código en menos de 10 líneas de código (dificultad **media**) **ó** en menos de 5 líneas de código (**avanzado**)."
      ]
    },
    {
      "cell_type": "markdown",
      "metadata": {
        "id": "jM87HfatcOtM"
      },
      "source": [
        "**Tips**\n",
        "- Usa ciclo for\n",
        "- Usar 3 variables: suma, temporal, fibonacci\n",
        "- Recuerda las asignaciones múltiples"
      ]
    },
    {
      "cell_type": "markdown",
      "metadata": {
        "id": "QjAaiLXidwpK"
      },
      "source": [
        "#### Paso 2: Encontrar números pares<br>\n",
        "**Tips**\n",
        "- Usar operador mod"
      ]
    },
    {
      "cell_type": "markdown",
      "metadata": {
        "id": "touACPkteCtX"
      },
      "source": [
        "#### Paso 3: Si es par sumar\n",
        "Usa condicional if"
      ]
    },
    {
      "cell_type": "markdown",
      "metadata": {
        "id": "_kP__ZxgeLOY"
      },
      "source": [
        "#### Paso 4: Si el número fibonacci es mayor a 4, 000, 000 finalizar ejecución\n",
        "<br>\n",
        "\n",
        "**Tip**\n",
        "- Usa ciclo while\n"
      ]
    },
    {
      "cell_type": "markdown",
      "metadata": {
        "id": "Z1ztourWcC_a"
      },
      "source": [
        "Resultado esperado:\n",
        "```\n",
        ">>> print(sum)\n",
        "4613732\n",
        "```"
      ]
    },
    {
      "cell_type": "code",
      "source": [
        "# Aquí va tu código"
      ],
      "metadata": {
        "id": "z-PySw67949E"
      },
      "execution_count": null,
      "outputs": []
    },
    {
      "cell_type": "markdown",
      "metadata": {
        "id": "s_W1r-_UfbYQ"
      },
      "source": [
        "# III. Producto palíndromo más grande\n",
        "<br>\n",
        "Un número palindrómico (Capicúa) se lee igual en ambos sentidos. El palíndromo más grande hecho del producto de dos números de 2 dígitos es 9009 = 91 × 99.\n",
        "\n",
        "Encuentra el palíndromo más grande formado por el producto de dos números de 3 dígitos.\n",
        "\n",
        "**»»** Pasos <br>\n",
        "1. Identificar si un número es Capicúa\n",
        "2. Realizar combinaciones de dos números de 2 dígitos y guardar el producto con el mayor valor\n",
        "3. Obtener 9009, para validar algoritmo\n",
        "4. Realizar combinaciones para dos números de 3 dígitos"
      ]
    },
    {
      "cell_type": "markdown",
      "metadata": {
        "id": "rJgosH2xg_eJ"
      },
      "source": [
        "#### Paso 1: Identificar si es Capicúa\n",
        "Convierte el número a string y revisa si es palindromo apoyandote del truco de rebanar (**slicing**) de las listas. Recuerda que también se puede aplicar a una cadena de caracteres (dato de tipo string)."
      ]
    },
    {
      "cell_type": "markdown",
      "metadata": {
        "id": "afEdx0kwiFXW"
      },
      "source": [
        "#### Paso 2: Realizar combinaciones\n",
        "<br>\n",
        "Obtén el múltiplo de 2 números de 2 dígitos. Usa ciclo for y la función range. Recuerda usar los ciclos anidados."
      ]
    },
    {
      "cell_type": "markdown",
      "metadata": {
        "id": "Q-Rcoa9Zij9n"
      },
      "source": [
        "#### Paso 3: Prueba tu algoritmo\n",
        "Deberías obtener 9009, como el producto capicúa más grande, al usar dos números de dos digítos"
      ]
    },
    {
      "cell_type": "markdown",
      "metadata": {
        "id": "Moky8Zlkiyp6"
      },
      "source": [
        "#### Paso 4: Modifica tu código para obtener el capicúa más grande al usar dos números de 3 digítos"
      ]
    },
    {
      "cell_type": "markdown",
      "metadata": {
        "id": "E7gYJNRfjg53"
      },
      "source": [
        "```\n",
        "# Resultado para el producto capicúa más grande de dos números de tres digítos\n",
        ">>> print(capicua)\n",
        "906609\n",
        "```"
      ]
    },
    {
      "cell_type": "markdown",
      "metadata": {
        "id": "mRgyprrnjrkQ"
      },
      "source": [
        "**Retos**\n",
        "- Escribe tú código en menos de 10 líneas de código (dificultad media) o <br> \n",
        "en menos de 7 líneas de código (dificultada avanzado). Tip: Usa operador ternario https://ellibrodepython.com/if-python#operador-ternario\n",
        "- Encuentra el capicúa más grande múltiplo de 5, producto de usar dos números de tres digítos\n",
        "\n",
        "```\n",
        "# Resultado para el producto capicúa más grande de dos números de tres digítos y múltiplo de 5\n",
        ">>> print(capicua)\n",
        "595595 \n",
        "```\n"
      ]
    },
    {
      "cell_type": "code",
      "source": [
        "# Aquí va tu código"
      ],
      "metadata": {
        "id": "bQCRh-1U9v_f"
      },
      "execution_count": null,
      "outputs": []
    }
  ]
}