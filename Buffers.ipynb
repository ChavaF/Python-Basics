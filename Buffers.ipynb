{
  "nbformat": 4,
  "nbformat_minor": 0,
  "metadata": {
    "colab": {
      "name": "Buffers.ipynb",
      "provenance": [],
      "collapsed_sections": [],
      "mount_file_id": "1Py-pAm1n4KsdzuQ32LLffbJ-SOt37LIg",
      "authorship_tag": "ABX9TyOKP1vC0APm3G335Pz7CuLx",
      "include_colab_link": true
    },
    "kernelspec": {
      "name": "python3",
      "display_name": "Python 3"
    },
    "language_info": {
      "name": "python"
    }
  },
  "cells": [
    {
      "cell_type": "markdown",
      "metadata": {
        "id": "view-in-github",
        "colab_type": "text"
      },
      "source": [
        "<a href=\"https://colab.research.google.com/github/cuauhtemocbe/Python-Basics/blob/main/Buffers.ipynb\" target=\"_parent\"><img src=\"https://colab.research.google.com/assets/colab-badge.svg\" alt=\"Open In Colab\"/></a>"
      ]
    },
    {
      "cell_type": "markdown",
      "metadata": {
        "id": "Kw6rKPpFSvLc"
      },
      "source": [
        "# Creador de Buffers"
      ]
    },
    {
      "cell_type": "code",
      "metadata": {
        "id": "IdUvqDTqBIMb",
        "colab": {
          "base_uri": "https://localhost:8080/"
        },
        "outputId": "476d48f0-e36b-4688-bddc-de1d7031941b"
      },
      "source": [
        "# Instalación de librerías\n",
        "!pip install geopandas\n",
        "!pip install folium"
      ],
      "execution_count": 1,
      "outputs": [
        {
          "output_type": "stream",
          "name": "stdout",
          "text": [
            "Collecting geopandas\n",
            "  Downloading geopandas-0.9.0-py2.py3-none-any.whl (994 kB)\n",
            "\u001b[K     |████████████████████████████████| 994 kB 8.3 MB/s \n",
            "\u001b[?25hCollecting fiona>=1.8\n",
            "  Downloading Fiona-1.8.20-cp37-cp37m-manylinux1_x86_64.whl (15.4 MB)\n",
            "\u001b[K     |████████████████████████████████| 15.4 MB 37 kB/s \n",
            "\u001b[?25hRequirement already satisfied: shapely>=1.6 in /usr/local/lib/python3.7/dist-packages (from geopandas) (1.7.1)\n",
            "Collecting pyproj>=2.2.0\n",
            "  Downloading pyproj-3.2.1-cp37-cp37m-manylinux2010_x86_64.whl (6.3 MB)\n",
            "\u001b[K     |████████████████████████████████| 6.3 MB 40.1 MB/s \n",
            "\u001b[?25hRequirement already satisfied: pandas>=0.24.0 in /usr/local/lib/python3.7/dist-packages (from geopandas) (1.1.5)\n",
            "Collecting munch\n",
            "  Downloading munch-2.5.0-py2.py3-none-any.whl (10 kB)\n",
            "Requirement already satisfied: certifi in /usr/local/lib/python3.7/dist-packages (from fiona>=1.8->geopandas) (2021.5.30)\n",
            "Requirement already satisfied: attrs>=17 in /usr/local/lib/python3.7/dist-packages (from fiona>=1.8->geopandas) (21.2.0)\n",
            "Collecting cligj>=0.5\n",
            "  Downloading cligj-0.7.2-py3-none-any.whl (7.1 kB)\n",
            "Requirement already satisfied: setuptools in /usr/local/lib/python3.7/dist-packages (from fiona>=1.8->geopandas) (57.4.0)\n",
            "Collecting click-plugins>=1.0\n",
            "  Downloading click_plugins-1.1.1-py2.py3-none-any.whl (7.5 kB)\n",
            "Requirement already satisfied: six>=1.7 in /usr/local/lib/python3.7/dist-packages (from fiona>=1.8->geopandas) (1.15.0)\n",
            "Requirement already satisfied: click>=4.0 in /usr/local/lib/python3.7/dist-packages (from fiona>=1.8->geopandas) (7.1.2)\n",
            "Requirement already satisfied: pytz>=2017.2 in /usr/local/lib/python3.7/dist-packages (from pandas>=0.24.0->geopandas) (2018.9)\n",
            "Requirement already satisfied: numpy>=1.15.4 in /usr/local/lib/python3.7/dist-packages (from pandas>=0.24.0->geopandas) (1.19.5)\n",
            "Requirement already satisfied: python-dateutil>=2.7.3 in /usr/local/lib/python3.7/dist-packages (from pandas>=0.24.0->geopandas) (2.8.2)\n",
            "Installing collected packages: munch, cligj, click-plugins, pyproj, fiona, geopandas\n",
            "Successfully installed click-plugins-1.1.1 cligj-0.7.2 fiona-1.8.20 geopandas-0.9.0 munch-2.5.0 pyproj-3.2.1\n",
            "Requirement already satisfied: folium in /usr/local/lib/python3.7/dist-packages (0.8.3)\n",
            "Requirement already satisfied: requests in /usr/local/lib/python3.7/dist-packages (from folium) (2.23.0)\n",
            "Requirement already satisfied: jinja2 in /usr/local/lib/python3.7/dist-packages (from folium) (2.11.3)\n",
            "Requirement already satisfied: branca>=0.3.0 in /usr/local/lib/python3.7/dist-packages (from folium) (0.4.2)\n",
            "Requirement already satisfied: six in /usr/local/lib/python3.7/dist-packages (from folium) (1.15.0)\n",
            "Requirement already satisfied: numpy in /usr/local/lib/python3.7/dist-packages (from folium) (1.19.5)\n",
            "Requirement already satisfied: MarkupSafe>=0.23 in /usr/local/lib/python3.7/dist-packages (from jinja2->folium) (2.0.1)\n",
            "Requirement already satisfied: idna<3,>=2.5 in /usr/local/lib/python3.7/dist-packages (from requests->folium) (2.10)\n",
            "Requirement already satisfied: certifi>=2017.4.17 in /usr/local/lib/python3.7/dist-packages (from requests->folium) (2021.5.30)\n",
            "Requirement already satisfied: urllib3!=1.25.0,!=1.25.1,<1.26,>=1.21.1 in /usr/local/lib/python3.7/dist-packages (from requests->folium) (1.24.3)\n",
            "Requirement already satisfied: chardet<4,>=3.0.2 in /usr/local/lib/python3.7/dist-packages (from requests->folium) (3.0.4)\n"
          ]
        }
      ]
    },
    {
      "cell_type": "code",
      "metadata": {
        "id": "Iwmm4H-lBGgX"
      },
      "source": [
        "import os \n",
        "\n",
        "import pandas as pd\n",
        "import geopandas as gpd\n",
        "from shapely.geometry import Point, LineString, Polygon\n",
        "\n",
        "import folium\n",
        "import matplotlib.pyplot as plt\n",
        "from matplotlib.ticker import ScalarFormatter"
      ],
      "execution_count": 2,
      "outputs": []
    },
    {
      "cell_type": "code",
      "metadata": {
        "id": "WwLb3CHNDAeX"
      },
      "source": [
        "FILE_NAME = \"/content/drive/MyDrive/Colab Notebooks/Spatial Analyst/data/multiple.csv\" # [EDITABLE] Cambia por el nombre del archivo\n",
        "# SISTEMA DE COORDENADAS\n",
        "# UTM 14: 32614\n",
        "# UTM 15: 32615\n",
        "# UTM 16: 32616\n",
        "CRS = 32616 #  [EDITABLE] Cambiar por el crs de tu preferencia\n",
        "df = pd.read_csv(FILE_NAME) \n",
        "gdf = gpd.GeoDataFrame(\n",
        "    df, geometry=gpd.points_from_xy(df.X, df.Y), crs=CRS)"
      ],
      "execution_count": 4,
      "outputs": []
    },
    {
      "cell_type": "markdown",
      "metadata": {
        "id": "oy9kxqHvLJVK"
      },
      "source": [
        "## Información de tu archivo"
      ]
    },
    {
      "cell_type": "code",
      "metadata": {
        "id": "VM03ptT6LDJY",
        "colab": {
          "base_uri": "https://localhost:8080/",
          "height": 206
        },
        "outputId": "e285579f-941b-4172-8a4a-0162fbc83d40"
      },
      "source": [
        "# Para ver los primeros elementos en tu csv\n",
        "gdf.head()"
      ],
      "execution_count": 5,
      "outputs": [
        {
          "output_type": "execute_result",
          "data": {
            "text/html": [
              "<div>\n",
              "<style scoped>\n",
              "    .dataframe tbody tr th:only-of-type {\n",
              "        vertical-align: middle;\n",
              "    }\n",
              "\n",
              "    .dataframe tbody tr th {\n",
              "        vertical-align: top;\n",
              "    }\n",
              "\n",
              "    .dataframe thead th {\n",
              "        text-align: right;\n",
              "    }\n",
              "</style>\n",
              "<table border=\"1\" class=\"dataframe\">\n",
              "  <thead>\n",
              "    <tr style=\"text-align: right;\">\n",
              "      <th></th>\n",
              "      <th>ID</th>\n",
              "      <th>no_sitio</th>\n",
              "      <th>X</th>\n",
              "      <th>Y</th>\n",
              "      <th>tipo_veg</th>\n",
              "      <th>perturbacion</th>\n",
              "      <th>geometry</th>\n",
              "    </tr>\n",
              "  </thead>\n",
              "  <tbody>\n",
              "    <tr>\n",
              "      <th>0</th>\n",
              "      <td>1</td>\n",
              "      <td>1</td>\n",
              "      <td>305823</td>\n",
              "      <td>2298208</td>\n",
              "      <td>NaN</td>\n",
              "      <td>NaN</td>\n",
              "      <td>POINT (305823.000 2298208.000)</td>\n",
              "    </tr>\n",
              "    <tr>\n",
              "      <th>1</th>\n",
              "      <td>2</td>\n",
              "      <td>2</td>\n",
              "      <td>305807</td>\n",
              "      <td>2298309</td>\n",
              "      <td>NaN</td>\n",
              "      <td>NaN</td>\n",
              "      <td>POINT (305807.000 2298309.000)</td>\n",
              "    </tr>\n",
              "    <tr>\n",
              "      <th>2</th>\n",
              "      <td>3</td>\n",
              "      <td>3</td>\n",
              "      <td>305844</td>\n",
              "      <td>2298433</td>\n",
              "      <td>NaN</td>\n",
              "      <td>NaN</td>\n",
              "      <td>POINT (305844.000 2298433.000)</td>\n",
              "    </tr>\n",
              "    <tr>\n",
              "      <th>3</th>\n",
              "      <td>4</td>\n",
              "      <td>48</td>\n",
              "      <td>371146</td>\n",
              "      <td>2294158</td>\n",
              "      <td>veg secundaria SBC</td>\n",
              "      <td>NaN</td>\n",
              "      <td>POINT (371146.000 2294158.000)</td>\n",
              "    </tr>\n",
              "    <tr>\n",
              "      <th>4</th>\n",
              "      <td>5</td>\n",
              "      <td>51</td>\n",
              "      <td>371092</td>\n",
              "      <td>2294247</td>\n",
              "      <td>veg secundaria SMC</td>\n",
              "      <td>NaN</td>\n",
              "      <td>POINT (371092.000 2294247.000)</td>\n",
              "    </tr>\n",
              "  </tbody>\n",
              "</table>\n",
              "</div>"
            ],
            "text/plain": [
              "   ID  no_sitio  ...  perturbacion                        geometry\n",
              "0   1         1  ...           NaN  POINT (305823.000 2298208.000)\n",
              "1   2         2  ...           NaN  POINT (305807.000 2298309.000)\n",
              "2   3         3  ...           NaN  POINT (305844.000 2298433.000)\n",
              "3   4        48  ...           NaN  POINT (371146.000 2294158.000)\n",
              "4   5        51  ...           NaN  POINT (371092.000 2294247.000)\n",
              "\n",
              "[5 rows x 7 columns]"
            ]
          },
          "metadata": {},
          "execution_count": 5
        }
      ]
    },
    {
      "cell_type": "markdown",
      "metadata": {
        "id": "OcGii-ntLNzb"
      },
      "source": [
        "# Creación del buffer"
      ]
    },
    {
      "cell_type": "code",
      "metadata": {
        "id": "-tjlatESI3O8"
      },
      "source": [
        "buffer_size = 10 #  [EDITABLE], valor por defaul 10 metros\n",
        "gdf['geometry'] = gdf.buffer(buffer_size)"
      ],
      "execution_count": 6,
      "outputs": []
    },
    {
      "cell_type": "markdown",
      "metadata": {
        "id": "s25HInz0LWEp"
      },
      "source": [
        "# Guardar tu shape"
      ]
    },
    {
      "cell_type": "code",
      "metadata": {
        "id": "jhY9u6AdLVqs",
        "colab": {
          "base_uri": "https://localhost:8080/",
          "height": 571
        },
        "outputId": "f21cc394-5b3c-45ee-b829-fab8d287d93f"
      },
      "source": [
        "NAME = \"buffers\"  #  [EDITABLE], cambia por el nombre que quieres\n",
        "os.makedirs('buffer')\n",
        "gdf.to_file('tmp/' + NAME + \".shp\")"
      ],
      "execution_count": 7,
      "outputs": [
        {
          "output_type": "stream",
          "name": "stderr",
          "text": [
            "/usr/local/lib/python3.7/dist-packages/ipykernel_launcher.py:3: UserWarning: Column names longer than 10 characters will be truncated when saved to ESRI Shapefile.\n",
            "  This is separate from the ipykernel package so we can avoid doing imports until\n"
          ]
        },
        {
          "output_type": "error",
          "ename": "DriverIOError",
          "evalue": "ignored",
          "traceback": [
            "\u001b[0;31m---------------------------------------------------------------------------\u001b[0m",
            "\u001b[0;31mCPLE_AppDefinedError\u001b[0m                      Traceback (most recent call last)",
            "\u001b[0;32mfiona/ogrext.pyx\u001b[0m in \u001b[0;36mfiona.ogrext.WritingSession.start\u001b[0;34m()\u001b[0m\n",
            "\u001b[0;32mfiona/_err.pyx\u001b[0m in \u001b[0;36mfiona._err.exc_wrap_pointer\u001b[0;34m()\u001b[0m\n",
            "\u001b[0;31mCPLE_AppDefinedError\u001b[0m: Failed to create file tmp/buffers.shp: No such file or directory",
            "\nDuring handling of the above exception, another exception occurred:\n",
            "\u001b[0;31mDriverIOError\u001b[0m                             Traceback (most recent call last)",
            "\u001b[0;32m<ipython-input-7-7c6a8c7a64c0>\u001b[0m in \u001b[0;36m<module>\u001b[0;34m()\u001b[0m\n\u001b[1;32m      1\u001b[0m \u001b[0mNAME\u001b[0m \u001b[0;34m=\u001b[0m \u001b[0;34m\"buffers\"\u001b[0m  \u001b[0;31m#  [EDITABLE], cambia por el nombre que quieres\u001b[0m\u001b[0;34m\u001b[0m\u001b[0;34m\u001b[0m\u001b[0m\n\u001b[1;32m      2\u001b[0m \u001b[0mos\u001b[0m\u001b[0;34m.\u001b[0m\u001b[0mmakedirs\u001b[0m\u001b[0;34m(\u001b[0m\u001b[0;34m'buffer'\u001b[0m\u001b[0;34m)\u001b[0m\u001b[0;34m\u001b[0m\u001b[0;34m\u001b[0m\u001b[0m\n\u001b[0;32m----> 3\u001b[0;31m \u001b[0mgdf\u001b[0m\u001b[0;34m.\u001b[0m\u001b[0mto_file\u001b[0m\u001b[0;34m(\u001b[0m\u001b[0;34m'tmp/'\u001b[0m \u001b[0;34m+\u001b[0m \u001b[0mNAME\u001b[0m \u001b[0;34m+\u001b[0m \u001b[0;34m\".shp\"\u001b[0m\u001b[0;34m)\u001b[0m\u001b[0;34m\u001b[0m\u001b[0;34m\u001b[0m\u001b[0m\n\u001b[0m",
            "\u001b[0;32m/usr/local/lib/python3.7/dist-packages/geopandas/geodataframe.py\u001b[0m in \u001b[0;36mto_file\u001b[0;34m(self, filename, driver, schema, index, **kwargs)\u001b[0m\n\u001b[1;32m   1084\u001b[0m         \u001b[0;32mfrom\u001b[0m \u001b[0mgeopandas\u001b[0m\u001b[0;34m.\u001b[0m\u001b[0mio\u001b[0m\u001b[0;34m.\u001b[0m\u001b[0mfile\u001b[0m \u001b[0;32mimport\u001b[0m \u001b[0m_to_file\u001b[0m\u001b[0;34m\u001b[0m\u001b[0;34m\u001b[0m\u001b[0m\n\u001b[1;32m   1085\u001b[0m \u001b[0;34m\u001b[0m\u001b[0m\n\u001b[0;32m-> 1086\u001b[0;31m         \u001b[0m_to_file\u001b[0m\u001b[0;34m(\u001b[0m\u001b[0mself\u001b[0m\u001b[0;34m,\u001b[0m \u001b[0mfilename\u001b[0m\u001b[0;34m,\u001b[0m \u001b[0mdriver\u001b[0m\u001b[0;34m,\u001b[0m \u001b[0mschema\u001b[0m\u001b[0;34m,\u001b[0m \u001b[0mindex\u001b[0m\u001b[0;34m,\u001b[0m \u001b[0;34m**\u001b[0m\u001b[0mkwargs\u001b[0m\u001b[0;34m)\u001b[0m\u001b[0;34m\u001b[0m\u001b[0;34m\u001b[0m\u001b[0m\n\u001b[0m\u001b[1;32m   1087\u001b[0m \u001b[0;34m\u001b[0m\u001b[0m\n\u001b[1;32m   1088\u001b[0m     \u001b[0;32mdef\u001b[0m \u001b[0mset_crs\u001b[0m\u001b[0;34m(\u001b[0m\u001b[0mself\u001b[0m\u001b[0;34m,\u001b[0m \u001b[0mcrs\u001b[0m\u001b[0;34m=\u001b[0m\u001b[0;32mNone\u001b[0m\u001b[0;34m,\u001b[0m \u001b[0mepsg\u001b[0m\u001b[0;34m=\u001b[0m\u001b[0;32mNone\u001b[0m\u001b[0;34m,\u001b[0m \u001b[0minplace\u001b[0m\u001b[0;34m=\u001b[0m\u001b[0;32mFalse\u001b[0m\u001b[0;34m,\u001b[0m \u001b[0mallow_override\u001b[0m\u001b[0;34m=\u001b[0m\u001b[0;32mFalse\u001b[0m\u001b[0;34m)\u001b[0m\u001b[0;34m:\u001b[0m\u001b[0;34m\u001b[0m\u001b[0;34m\u001b[0m\u001b[0m\n",
            "\u001b[0;32m/usr/local/lib/python3.7/dist-packages/geopandas/io/file.py\u001b[0m in \u001b[0;36m_to_file\u001b[0;34m(df, filename, driver, schema, index, mode, crs, **kwargs)\u001b[0m\n\u001b[1;32m    326\u001b[0m             \u001b[0mcrs_wkt\u001b[0m \u001b[0;34m=\u001b[0m \u001b[0mcrs\u001b[0m\u001b[0;34m.\u001b[0m\u001b[0mto_wkt\u001b[0m\u001b[0;34m(\u001b[0m\u001b[0;34m\"WKT1_GDAL\"\u001b[0m\u001b[0;34m)\u001b[0m\u001b[0;34m\u001b[0m\u001b[0;34m\u001b[0m\u001b[0m\n\u001b[1;32m    327\u001b[0m         with fiona.open(\n\u001b[0;32m--> 328\u001b[0;31m             \u001b[0mfilename\u001b[0m\u001b[0;34m,\u001b[0m \u001b[0mmode\u001b[0m\u001b[0;34m=\u001b[0m\u001b[0mmode\u001b[0m\u001b[0;34m,\u001b[0m \u001b[0mdriver\u001b[0m\u001b[0;34m=\u001b[0m\u001b[0mdriver\u001b[0m\u001b[0;34m,\u001b[0m \u001b[0mcrs_wkt\u001b[0m\u001b[0;34m=\u001b[0m\u001b[0mcrs_wkt\u001b[0m\u001b[0;34m,\u001b[0m \u001b[0mschema\u001b[0m\u001b[0;34m=\u001b[0m\u001b[0mschema\u001b[0m\u001b[0;34m,\u001b[0m \u001b[0;34m**\u001b[0m\u001b[0mkwargs\u001b[0m\u001b[0;34m\u001b[0m\u001b[0;34m\u001b[0m\u001b[0m\n\u001b[0m\u001b[1;32m    329\u001b[0m         ) as colxn:\n\u001b[1;32m    330\u001b[0m             \u001b[0mcolxn\u001b[0m\u001b[0;34m.\u001b[0m\u001b[0mwriterecords\u001b[0m\u001b[0;34m(\u001b[0m\u001b[0mdf\u001b[0m\u001b[0;34m.\u001b[0m\u001b[0miterfeatures\u001b[0m\u001b[0;34m(\u001b[0m\u001b[0;34m)\u001b[0m\u001b[0;34m)\u001b[0m\u001b[0;34m\u001b[0m\u001b[0;34m\u001b[0m\u001b[0m\n",
            "\u001b[0;32m/usr/local/lib/python3.7/dist-packages/fiona/env.py\u001b[0m in \u001b[0;36mwrapper\u001b[0;34m(*args, **kwargs)\u001b[0m\n\u001b[1;32m    406\u001b[0m     \u001b[0;32mdef\u001b[0m \u001b[0mwrapper\u001b[0m\u001b[0;34m(\u001b[0m\u001b[0;34m*\u001b[0m\u001b[0margs\u001b[0m\u001b[0;34m,\u001b[0m \u001b[0;34m**\u001b[0m\u001b[0mkwargs\u001b[0m\u001b[0;34m)\u001b[0m\u001b[0;34m:\u001b[0m\u001b[0;34m\u001b[0m\u001b[0;34m\u001b[0m\u001b[0m\n\u001b[1;32m    407\u001b[0m         \u001b[0;32mif\u001b[0m \u001b[0mlocal\u001b[0m\u001b[0;34m.\u001b[0m\u001b[0m_env\u001b[0m\u001b[0;34m:\u001b[0m\u001b[0;34m\u001b[0m\u001b[0;34m\u001b[0m\u001b[0m\n\u001b[0;32m--> 408\u001b[0;31m             \u001b[0;32mreturn\u001b[0m \u001b[0mf\u001b[0m\u001b[0;34m(\u001b[0m\u001b[0;34m*\u001b[0m\u001b[0margs\u001b[0m\u001b[0;34m,\u001b[0m \u001b[0;34m**\u001b[0m\u001b[0mkwargs\u001b[0m\u001b[0;34m)\u001b[0m\u001b[0;34m\u001b[0m\u001b[0;34m\u001b[0m\u001b[0m\n\u001b[0m\u001b[1;32m    409\u001b[0m         \u001b[0;32melse\u001b[0m\u001b[0;34m:\u001b[0m\u001b[0;34m\u001b[0m\u001b[0;34m\u001b[0m\u001b[0m\n\u001b[1;32m    410\u001b[0m             \u001b[0;32mif\u001b[0m \u001b[0misinstance\u001b[0m\u001b[0;34m(\u001b[0m\u001b[0margs\u001b[0m\u001b[0;34m[\u001b[0m\u001b[0;36m0\u001b[0m\u001b[0;34m]\u001b[0m\u001b[0;34m,\u001b[0m \u001b[0mstr\u001b[0m\u001b[0;34m)\u001b[0m\u001b[0;34m:\u001b[0m\u001b[0;34m\u001b[0m\u001b[0;34m\u001b[0m\u001b[0m\n",
            "\u001b[0;32m/usr/local/lib/python3.7/dist-packages/fiona/__init__.py\u001b[0m in \u001b[0;36mopen\u001b[0;34m(fp, mode, driver, schema, crs, encoding, layer, vfs, enabled_drivers, crs_wkt, **kwargs)\u001b[0m\n\u001b[1;32m    272\u001b[0m             c = Collection(path, mode, crs=crs, driver=driver, schema=this_schema,\n\u001b[1;32m    273\u001b[0m                            \u001b[0mencoding\u001b[0m\u001b[0;34m=\u001b[0m\u001b[0mencoding\u001b[0m\u001b[0;34m,\u001b[0m \u001b[0mlayer\u001b[0m\u001b[0;34m=\u001b[0m\u001b[0mlayer\u001b[0m\u001b[0;34m,\u001b[0m \u001b[0menabled_drivers\u001b[0m\u001b[0;34m=\u001b[0m\u001b[0menabled_drivers\u001b[0m\u001b[0;34m,\u001b[0m \u001b[0mcrs_wkt\u001b[0m\u001b[0;34m=\u001b[0m\u001b[0mcrs_wkt\u001b[0m\u001b[0;34m,\u001b[0m\u001b[0;34m\u001b[0m\u001b[0;34m\u001b[0m\u001b[0m\n\u001b[0;32m--> 274\u001b[0;31m                            **kwargs)\n\u001b[0m\u001b[1;32m    275\u001b[0m         \u001b[0;32melse\u001b[0m\u001b[0;34m:\u001b[0m\u001b[0;34m\u001b[0m\u001b[0;34m\u001b[0m\u001b[0m\n\u001b[1;32m    276\u001b[0m             raise ValueError(\n",
            "\u001b[0;32m/usr/local/lib/python3.7/dist-packages/fiona/collection.py\u001b[0m in \u001b[0;36m__init__\u001b[0;34m(self, path, mode, driver, schema, crs, encoding, layer, vsi, archive, enabled_drivers, crs_wkt, ignore_fields, ignore_geometry, **kwargs)\u001b[0m\n\u001b[1;32m    163\u001b[0m             \u001b[0;32melif\u001b[0m \u001b[0mself\u001b[0m\u001b[0;34m.\u001b[0m\u001b[0mmode\u001b[0m \u001b[0;32min\u001b[0m \u001b[0;34m(\u001b[0m\u001b[0;34m'a'\u001b[0m\u001b[0;34m,\u001b[0m \u001b[0;34m'w'\u001b[0m\u001b[0;34m)\u001b[0m\u001b[0;34m:\u001b[0m\u001b[0;34m\u001b[0m\u001b[0;34m\u001b[0m\u001b[0m\n\u001b[1;32m    164\u001b[0m                 \u001b[0mself\u001b[0m\u001b[0;34m.\u001b[0m\u001b[0msession\u001b[0m \u001b[0;34m=\u001b[0m \u001b[0mWritingSession\u001b[0m\u001b[0;34m(\u001b[0m\u001b[0;34m)\u001b[0m\u001b[0;34m\u001b[0m\u001b[0;34m\u001b[0m\u001b[0m\n\u001b[0;32m--> 165\u001b[0;31m                 \u001b[0mself\u001b[0m\u001b[0;34m.\u001b[0m\u001b[0msession\u001b[0m\u001b[0;34m.\u001b[0m\u001b[0mstart\u001b[0m\u001b[0;34m(\u001b[0m\u001b[0mself\u001b[0m\u001b[0;34m,\u001b[0m \u001b[0;34m**\u001b[0m\u001b[0mkwargs\u001b[0m\u001b[0;34m)\u001b[0m\u001b[0;34m\u001b[0m\u001b[0;34m\u001b[0m\u001b[0m\n\u001b[0m\u001b[1;32m    166\u001b[0m         \u001b[0;32mexcept\u001b[0m \u001b[0mIOError\u001b[0m\u001b[0;34m:\u001b[0m\u001b[0;34m\u001b[0m\u001b[0;34m\u001b[0m\u001b[0m\n\u001b[1;32m    167\u001b[0m             \u001b[0mself\u001b[0m\u001b[0;34m.\u001b[0m\u001b[0msession\u001b[0m \u001b[0;34m=\u001b[0m \u001b[0;32mNone\u001b[0m\u001b[0;34m\u001b[0m\u001b[0;34m\u001b[0m\u001b[0m\n",
            "\u001b[0;32mfiona/ogrext.pyx\u001b[0m in \u001b[0;36mfiona.ogrext.WritingSession.start\u001b[0;34m()\u001b[0m\n",
            "\u001b[0;31mDriverIOError\u001b[0m: Failed to create file tmp/buffers.shp: No such file or directory"
          ]
        }
      ]
    },
    {
      "cell_type": "markdown",
      "metadata": {
        "id": "DoNCaWrjMY-p"
      },
      "source": [
        "# Mapa"
      ]
    },
    {
      "cell_type": "code",
      "metadata": {
        "id": "LI9WeyHF49cC",
        "colab": {
          "base_uri": "https://localhost:8080/",
          "height": 206
        },
        "outputId": "13b4fd74-c708-485f-eea2-edf1afca28c4"
      },
      "source": [
        "gdf.head()"
      ],
      "execution_count": 8,
      "outputs": [
        {
          "output_type": "execute_result",
          "data": {
            "text/html": [
              "<div>\n",
              "<style scoped>\n",
              "    .dataframe tbody tr th:only-of-type {\n",
              "        vertical-align: middle;\n",
              "    }\n",
              "\n",
              "    .dataframe tbody tr th {\n",
              "        vertical-align: top;\n",
              "    }\n",
              "\n",
              "    .dataframe thead th {\n",
              "        text-align: right;\n",
              "    }\n",
              "</style>\n",
              "<table border=\"1\" class=\"dataframe\">\n",
              "  <thead>\n",
              "    <tr style=\"text-align: right;\">\n",
              "      <th></th>\n",
              "      <th>ID</th>\n",
              "      <th>no_sitio</th>\n",
              "      <th>X</th>\n",
              "      <th>Y</th>\n",
              "      <th>tipo_veg</th>\n",
              "      <th>perturbacion</th>\n",
              "      <th>geometry</th>\n",
              "    </tr>\n",
              "  </thead>\n",
              "  <tbody>\n",
              "    <tr>\n",
              "      <th>0</th>\n",
              "      <td>1</td>\n",
              "      <td>1</td>\n",
              "      <td>305823</td>\n",
              "      <td>2298208</td>\n",
              "      <td>NaN</td>\n",
              "      <td>NaN</td>\n",
              "      <td>POLYGON ((305833.000 2298208.000, 305832.952 2...</td>\n",
              "    </tr>\n",
              "    <tr>\n",
              "      <th>1</th>\n",
              "      <td>2</td>\n",
              "      <td>2</td>\n",
              "      <td>305807</td>\n",
              "      <td>2298309</td>\n",
              "      <td>NaN</td>\n",
              "      <td>NaN</td>\n",
              "      <td>POLYGON ((305817.000 2298309.000, 305816.952 2...</td>\n",
              "    </tr>\n",
              "    <tr>\n",
              "      <th>2</th>\n",
              "      <td>3</td>\n",
              "      <td>3</td>\n",
              "      <td>305844</td>\n",
              "      <td>2298433</td>\n",
              "      <td>NaN</td>\n",
              "      <td>NaN</td>\n",
              "      <td>POLYGON ((305854.000 2298433.000, 305853.952 2...</td>\n",
              "    </tr>\n",
              "    <tr>\n",
              "      <th>3</th>\n",
              "      <td>4</td>\n",
              "      <td>48</td>\n",
              "      <td>371146</td>\n",
              "      <td>2294158</td>\n",
              "      <td>veg secundaria SBC</td>\n",
              "      <td>NaN</td>\n",
              "      <td>POLYGON ((371156.000 2294158.000, 371155.952 2...</td>\n",
              "    </tr>\n",
              "    <tr>\n",
              "      <th>4</th>\n",
              "      <td>5</td>\n",
              "      <td>51</td>\n",
              "      <td>371092</td>\n",
              "      <td>2294247</td>\n",
              "      <td>veg secundaria SMC</td>\n",
              "      <td>NaN</td>\n",
              "      <td>POLYGON ((371102.000 2294247.000, 371101.952 2...</td>\n",
              "    </tr>\n",
              "  </tbody>\n",
              "</table>\n",
              "</div>"
            ],
            "text/plain": [
              "   ID  no_sitio  ...  perturbacion                                           geometry\n",
              "0   1         1  ...           NaN  POLYGON ((305833.000 2298208.000, 305832.952 2...\n",
              "1   2         2  ...           NaN  POLYGON ((305817.000 2298309.000, 305816.952 2...\n",
              "2   3         3  ...           NaN  POLYGON ((305854.000 2298433.000, 305853.952 2...\n",
              "3   4        48  ...           NaN  POLYGON ((371156.000 2294158.000, 371155.952 2...\n",
              "4   5        51  ...           NaN  POLYGON ((371102.000 2294247.000, 371101.952 2...\n",
              "\n",
              "[5 rows x 7 columns]"
            ]
          },
          "metadata": {},
          "execution_count": 8
        }
      ]
    },
    {
      "cell_type": "code",
      "metadata": {
        "id": "TGvl7BBW5Esc"
      },
      "source": [
        "POINT_ID = 0\n",
        "try:\n",
        "  point = gdf.loc[[POINT_ID]].to_crs(4326)['geometry'][POINT_ID].centroid\n",
        "except:\n",
        "  print(f'Valor máximo permitido es {gdf.shape[0]}')"
      ],
      "execution_count": 11,
      "outputs": []
    },
    {
      "cell_type": "code",
      "metadata": {
        "id": "Fh2e1xzYI8UM",
        "colab": {
          "base_uri": "https://localhost:8080/",
          "height": 1000
        },
        "outputId": "387c6699-4750-427a-ec5d-aefc9809ac0a"
      },
      "source": [
        "# Niveles de zoom\n",
        "# 1: Todo el mundo\n",
        "# 4: México\n",
        "# 8: Estado\n",
        "# 12: Municipio\n",
        "ZOOM = 8  #  [EDITABLE]\n",
        "layer_gj = gdf.to_crs(epsg='4326').to_json()\n",
        "mapa = folium.Map(location=[point.y, point.x],\n",
        "                  zoom_start=ZOOM,\n",
        "                  tiles='cartodbpositron')\n",
        "\n",
        "points = folium.features.GeoJson(layer_gj)\n",
        "mapa.add_child(points)\n",
        "mapa"
      ],
      "execution_count": 12,
      "outputs": [
        {
          "output_type": "execute_result",
          "data": {
            "text/html": [
              "<div style=\"width:100%;\"><div style=\"position:relative;width:100%;height:0;padding-bottom:60%;\"><span style=\"color:#565656\">Make this Notebook Trusted to load map: File -> Trust Notebook</span><iframe src=\"about:blank\" style=\"position:absolute;width:100%;height:100%;left:0;top:0;border:none !important;\" data-html=%3C%21DOCTYPE%20html%3E%0A%3Chead%3E%20%20%20%20%0A%20%20%20%20%3Cmeta%20http-equiv%3D%22content-type%22%20content%3D%22text/html%3B%20charset%3DUTF-8%22%20/%3E%0A%20%20%20%20%3Cscript%3EL_PREFER_CANVAS%3Dfalse%3B%20L_NO_TOUCH%3Dfalse%3B%20L_DISABLE_3D%3Dfalse%3B%3C/script%3E%0A%20%20%20%20%3Cscript%20src%3D%22https%3A//cdn.jsdelivr.net/npm/leaflet%401.4.0/dist/leaflet.js%22%3E%3C/script%3E%0A%20%20%20%20%3Cscript%20src%3D%22https%3A//code.jquery.com/jquery-1.12.4.min.js%22%3E%3C/script%3E%0A%20%20%20%20%3Cscript%20src%3D%22https%3A//maxcdn.bootstrapcdn.com/bootstrap/3.2.0/js/bootstrap.min.js%22%3E%3C/script%3E%0A%20%20%20%20%3Cscript%20src%3D%22https%3A//cdnjs.cloudflare.com/ajax/libs/Leaflet.awesome-markers/2.0.2/leaflet.awesome-markers.js%22%3E%3C/script%3E%0A%20%20%20%20%3Clink%20rel%3D%22stylesheet%22%20href%3D%22https%3A//cdn.jsdelivr.net/npm/leaflet%401.4.0/dist/leaflet.css%22/%3E%0A%20%20%20%20%3Clink%20rel%3D%22stylesheet%22%20href%3D%22https%3A//maxcdn.bootstrapcdn.com/bootstrap/3.2.0/css/bootstrap.min.css%22/%3E%0A%20%20%20%20%3Clink%20rel%3D%22stylesheet%22%20href%3D%22https%3A//maxcdn.bootstrapcdn.com/bootstrap/3.2.0/css/bootstrap-theme.min.css%22/%3E%0A%20%20%20%20%3Clink%20rel%3D%22stylesheet%22%20href%3D%22https%3A//maxcdn.bootstrapcdn.com/font-awesome/4.6.3/css/font-awesome.min.css%22/%3E%0A%20%20%20%20%3Clink%20rel%3D%22stylesheet%22%20href%3D%22https%3A//cdnjs.cloudflare.com/ajax/libs/Leaflet.awesome-markers/2.0.2/leaflet.awesome-markers.css%22/%3E%0A%20%20%20%20%3Clink%20rel%3D%22stylesheet%22%20href%3D%22https%3A//rawcdn.githack.com/python-visualization/folium/master/folium/templates/leaflet.awesome.rotate.css%22/%3E%0A%20%20%20%20%3Cstyle%3Ehtml%2C%20body%20%7Bwidth%3A%20100%25%3Bheight%3A%20100%25%3Bmargin%3A%200%3Bpadding%3A%200%3B%7D%3C/style%3E%0A%20%20%20%20%3Cstyle%3E%23map%20%7Bposition%3Aabsolute%3Btop%3A0%3Bbottom%3A0%3Bright%3A0%3Bleft%3A0%3B%7D%3C/style%3E%0A%20%20%20%20%0A%20%20%20%20%3Cmeta%20name%3D%22viewport%22%20content%3D%22width%3Ddevice-width%2C%0A%20%20%20%20%20%20%20%20initial-scale%3D1.0%2C%20maximum-scale%3D1.0%2C%20user-scalable%3Dno%22%20/%3E%0A%20%20%20%20%3Cstyle%3E%23map_861d0ff50f1a47f7a8a03d3d1f1b3f72%20%7B%0A%20%20%20%20%20%20%20%20position%3A%20relative%3B%0A%20%20%20%20%20%20%20%20width%3A%20100.0%25%3B%0A%20%20%20%20%20%20%20%20height%3A%20100.0%25%3B%0A%20%20%20%20%20%20%20%20left%3A%200.0%25%3B%0A%20%20%20%20%20%20%20%20top%3A%200.0%25%3B%0A%20%20%20%20%20%20%20%20%7D%0A%20%20%20%20%3C/style%3E%0A%3C/head%3E%0A%3Cbody%3E%20%20%20%20%0A%20%20%20%20%0A%20%20%20%20%3Cdiv%20class%3D%22folium-map%22%20id%3D%22map_861d0ff50f1a47f7a8a03d3d1f1b3f72%22%20%3E%3C/div%3E%0A%3C/body%3E%0A%3Cscript%3E%20%20%20%20%0A%20%20%20%20%0A%20%20%20%20%0A%20%20%20%20%20%20%20%20var%20bounds%20%3D%20null%3B%0A%20%20%20%20%0A%0A%20%20%20%20var%20map_861d0ff50f1a47f7a8a03d3d1f1b3f72%20%3D%20L.map%28%0A%20%20%20%20%20%20%20%20%27map_861d0ff50f1a47f7a8a03d3d1f1b3f72%27%2C%20%7B%0A%20%20%20%20%20%20%20%20center%3A%20%5B20.773554835537816%2C%20-88.86531786347533%5D%2C%0A%20%20%20%20%20%20%20%20zoom%3A%208%2C%0A%20%20%20%20%20%20%20%20maxBounds%3A%20bounds%2C%0A%20%20%20%20%20%20%20%20layers%3A%20%5B%5D%2C%0A%20%20%20%20%20%20%20%20worldCopyJump%3A%20false%2C%0A%20%20%20%20%20%20%20%20crs%3A%20L.CRS.EPSG3857%2C%0A%20%20%20%20%20%20%20%20zoomControl%3A%20true%2C%0A%20%20%20%20%20%20%20%20%7D%29%3B%0A%0A%0A%20%20%20%20%0A%20%20%20%20var%20tile_layer_47097589356c4a20b4d3ed1260f41ebf%20%3D%20L.tileLayer%28%0A%20%20%20%20%20%20%20%20%27https%3A//cartodb-basemaps-%7Bs%7D.global.ssl.fastly.net/light_all/%7Bz%7D/%7Bx%7D/%7By%7D.png%27%2C%0A%20%20%20%20%20%20%20%20%7B%0A%20%20%20%20%20%20%20%20%22attribution%22%3A%20null%2C%0A%20%20%20%20%20%20%20%20%22detectRetina%22%3A%20false%2C%0A%20%20%20%20%20%20%20%20%22maxNativeZoom%22%3A%2018%2C%0A%20%20%20%20%20%20%20%20%22maxZoom%22%3A%2018%2C%0A%20%20%20%20%20%20%20%20%22minZoom%22%3A%200%2C%0A%20%20%20%20%20%20%20%20%22noWrap%22%3A%20false%2C%0A%20%20%20%20%20%20%20%20%22opacity%22%3A%201%2C%0A%20%20%20%20%20%20%20%20%22subdomains%22%3A%20%22abc%22%2C%0A%20%20%20%20%20%20%20%20%22tms%22%3A%20false%0A%7D%29.addTo%28map_861d0ff50f1a47f7a8a03d3d1f1b3f72%29%3B%0A%20%20%20%20%0A%20%20%20%20%20%20%20%20var%20geo_json_ee60708e890344119a37c206d2f014f4%20%3D%20L.geoJson%28%0A%20%20%20%20%20%20%20%20%20%20%20%20%7B%22features%22%3A%20%5B%7B%22geometry%22%3A%20%7B%22coordinates%22%3A%20%5B%5B%5B-88.8652218390976%2C%2020.773555878678433%5D%2C%20%5B-88.86522219276902%2C%2020.773547021653588%5D%2C%20%5B-88.86522346780158%2C%2020.77353823988092%5D%2C%20%5B-88.86522565191588%2C%2020.773529617933672%5D%2C%20%5B-88.86522872407755%2C%2020.773521238845905%5D%2C%20%5B-88.86523265469984%2C%2020.773513183312776%5D%2C%20%5B-88.8652374059286%2C%2020.773505528913425%5D%2C%20%5B-88.86524293200681%2C%2020.77349834936383%5D%2C%20%5B-88.86524917971528%2C%2020.773491713806923%5D%2C%20%5B-88.86525608888509%2C%2020.77348568614667%5D%2C%20%5B-88.86526359297717%2C%2020.773480324432658%5D%2C%20%5B-88.86527161972306%2C%2020.773475680301054%5D%2C%20%5B-88.86528009182085%2C%2020.7734717984773%5D%2C%20%5B-88.8652889276797%2C%2020.773468716345423%5D%2C%20%5B-88.86529804220558%2C%2020.773466463587976%5D%2C%20%5B-88.86530734762074%2C%2020.7734650619002%5D%2C%20%5B-88.86531675430912%2C%2020.773464524781083%5D%2C%20%5B-88.8653261716793%2C%2020.773464857403354%5D%2C%20%5B-88.86533550903705%2C%2020.773466056563667%5D%2C%20%5B-88.86534467645865%2C%2020.773468110713463%5D%2C%20%5B-88.86535358565696%2C%2020.773471000070174%5D%2C%20%5B-88.86536215083167%2C%2020.773474696807764%5D%2C%20%5B-88.8653702894956%2C%2020.773479165324662%5D%2C%20%5B-88.86537792326904%2C%2020.773484362586686%5D%2C%20%5B-88.86538497863465%2C%2020.7734902385414%5D%2C%20%5B-88.86539138764542%2C%2020.773496736600258%5D%2C%20%5B-88.8653970885791%2C%2020.773503794183444%5D%2C%20%5B-88.86540202653252%2C%2020.77351134332267%5D%2C%20%5B-88.86540615395045%2C%2020.773519311315656%5D%2C%20%5B-88.86540943108349%2C%2020.773527621426346%5D%2C%20%5B-88.86541182637099%2C%2020.773536193623894%5D%2C%20%5B-88.86541331674482%2C%2020.773544945353393%5D%2C%20%5B-88.86541388785176%2C%2020.77355379233094%5D%2C%20%5B-88.86541353419159%2C%2020.77356264935532%5D%2C%20%5B-88.86541225917004%2C%2020.773571431128566%5D%2C%20%5B-88.86541007506615%2C%2020.773580053077385%5D%2C%20%5B-88.86540700291387%2C%2020.773588432167678%5D%2C%20%5B-88.86540307229957%2C%2020.77359648770418%5D%2C%20%5B-88.8653983210771%2C%2020.77360414210763%5D%2C%20%5B-88.86539279500323%2C%2020.77361132166187%5D%2C%20%5B-88.86538654729704%2C%2020.773617957223816%5D%2C%20%5B-88.86537963812728%2C%2020.773623984889298%5D%2C%20%5B-88.86537213403307%2C%2020.773629346608523%5D%2C%20%5B-88.86536410728294%2C%2020.77363399074514%5D%2C%20%5B-88.86535563517896%2C%2020.77363787257349%5D%2C%20%5B-88.8653467993122%2C%2020.773640954709396%5D%2C%20%5B-88.86533768477702%2C%2020.773643207470126%5D%2C%20%5B-88.8653283793515%2C%2020.773644609160325%5D%2C%20%5B-88.8653189726521%2C%2020.773645146280913%5D%2C%20%5B-88.86530955527067%2C%2020.773644813659104%5D%2C%20%5B-88.8653002179019%2C%2020.773643614498223%5D%2C%20%5B-88.8652910504699%2C%2020.773641560346856%5D%2C%20%5B-88.86528214126221%2C%2020.773638670987612%5D%2C%20%5B-88.8652735760795%2C%2020.773634974246654%5D%2C%20%5B-88.86526543740928%2C%2020.773630505725656%5D%2C%20%5B-88.86525780363148%2C%2020.77362530845899%5D%2C%20%5B-88.86525074826363%2C%2020.773619432499224%5D%2C%20%5B-88.86524433925278%2C%2020.773612934435143%5D%2C%20%5B-88.86523863832124%2C%2020.773605876846737%5D%2C%20%5B-88.86523370037207%2C%2020.773598327702512%5D%2C%20%5B-88.86522957296033%2C%2020.77359035970492%5D%2C%20%5B-88.86522629583519%2C%2020.773582049590207%5D%2C%20%5B-88.86522390055703%2C%2020.77357347738937%5D%2C%20%5B-88.86522241019354%2C%2020.773564725657447%5D%2C%20%5B-88.8652218390976%2C%2020.773555878678433%5D%5D%5D%2C%20%22type%22%3A%20%22Polygon%22%7D%2C%20%22id%22%3A%20%220%22%2C%20%22properties%22%3A%20%7B%22ID%22%3A%201%2C%20%22X%22%3A%20305823%2C%20%22Y%22%3A%202298208%2C%20%22highlight%22%3A%20%7B%7D%2C%20%22no_sitio%22%3A%201%2C%20%22perturbacion%22%3A%20null%2C%20%22style%22%3A%20%7B%7D%2C%20%22tipo_veg%22%3A%20null%7D%2C%20%22type%22%3A%20%22Feature%22%7D%2C%20%7B%22geometry%22%3A%20%7B%22coordinates%22%3A%20%5B%5B%5B-88.86538668138277%2C%2020.77446634811046%5D%2C%20%5B-88.86538703504213%2C%2020.77445749108674%5D%2C%20%5B-88.86538831006818%2C%2020.774448709313862%5D%2C%20%5B-88.8653904941816%2C%2020.774440087365104%5D%2C%20%5B-88.86539356634802%2C%2020.774431708274513%5D%2C%20%5B-88.86539749698068%2C%2020.774423652737298%5D%2C%20%5B-88.86540224822531%2C%2020.774415998332618%5D%2C%20%5B-88.86540777432471%2C%2020.77440881877651%5D%2C%20%5B-88.86541402205951%2C%2020.77440218321197%5D%2C%20%5B-88.86542093126056%2C%2020.774396155543037%5D%2C%20%5B-88.86542843538845%2C%2020.774390793819382%5D%2C%20%5B-88.86543646217439%2C%2020.77438614967726%5D%2C%20%5B-88.86544493431609%2C%2020.77438226784222%5D%2C%20%5B-88.86545377022229%2C%2020.7743791856984%5D%2C%20%5B-88.86546288479848%2C%2020.774376932928458%5D%2C%20%5B-88.86547219026644%2C%2020.77437553122777%5D%2C%20%5B-88.86548159700962%2C%2020.774374994095435%5D%2C%20%5B-88.86549101443605%2C%2020.774375326704313%5D%2C%20%5B-88.86550035185094%2C%2020.77437652585118%5D%2C%20%5B-88.86550951933006%2C%2020.774378579987623%5D%2C%20%5B-88.8655184285857%2C%2020.7743814693312%5D%2C%20%5B-88.86552699381701%2C%2020.77438516605599%5D%2C%20%5B-88.86553513253624%2C%2020.77438963456055%5D%2C%20%5B-88.86554276636316%2C%2020.77439483181081%5D%2C%20%5B-88.86554982177991%2C%2020.774400707754477%5D%2C%20%5B-88.865556230839%2C%2020.774407205803065%5D%2C%20%5B-88.8655619318177%2C%2020.7744142633769%5D%2C%20%5B-88.86556686981243%2C%2020.774421812507747%5D%2C%20%5B-88.86557099726753%2C%2020.77442978049344%5D%2C%20%5B-88.86557427443326%2C%2020.774438090597968%5D%2C%20%5B-88.86557666974863%2C%2020.77444666279056%5D%2C%20%5B-88.86557816014529%2C%2020.774455414516353%5D%2C%20%5B-88.86557873126978%2C%2020.774464261491474%5D%2C%20%5B-88.86557837762167%2C%2020.774473118514734%5D%2C%20%5B-88.86557710260665%2C%2020.774481900288183%5D%2C%20%5B-88.86557491850364%2C%2020.774490522238526%5D%2C%20%5B-88.8655718463466%2C%2020.77449890133163%5D%2C%20%5B-88.86556791572193%2C%2020.774506956872223%5D%2C%20%5B-88.8655631644836%2C%2020.774514611280996%5D%2C%20%5B-88.86555763838854%2C%2020.774521790841757%5D%2C%20%5B-88.865551390656%2C%2020.774528426411337%5D%2C%20%5B-88.865544481455%2C%2020.774534454085497%5D%2C%20%5B-88.86553697732498%2C%2020.77453981581437%5D%2C%20%5B-88.86552895053481%2C%2020.774544459961504%5D%2C%20%5B-88.86552047838691%2C%2020.77454834180114%5D%2C%20%5B-88.86551164247281%2C%2020.774551423948985%5D%2C%20%5B-88.86550252788732%2C%2020.77455367672221%5D%2C%20%5B-88.86549322240899%2C%2020.774555078425323%5D%2C%20%5B-88.86548381565481%2C%2020.774555615559127%5D%2C%20%5B-88.86547439821713%2C%2020.774555282950708%5D%2C%20%5B-88.8654650607912%2C%2020.77455408380327%5D%2C%20%5B-88.86545589330167%2C%2020.77455202966525%5D%2C%20%5B-88.86544698403665%2C%2020.774549140319156%5D%2C%20%5B-88.86543841879735%2C%2020.774545443591%5D%2C%20%5B-88.86543028007183%2C%2020.774540975082342%5D%2C%20%5B-88.86542264624056%2C%2020.77453577782742%5D%2C%20%5B-88.86541559082156%2C%2020.774529901878715%5D%2C%20%5B-88.8654091817624%2C%2020.774523403824894%5D%2C%20%5B-88.86540348078583%2C%2020.77451634624585%5D%2C%20%5B-88.86539854279536%2C%2020.774508797109995%5D%2C%20%5B-88.86539441534646%2C%2020.774500829119702%5D%2C%20%5B-88.86539113818863%2C%2020.774492519011147%5D%2C%20%5B-88.86538874288256%2C%2020.774483946815266%5D%2C%20%5B-88.86538725249626%2C%2020.774475195087053%5D%2C%20%5B-88.86538668138277%2C%2020.77446634811046%5D%5D%5D%2C%20%22type%22%3A%20%22Polygon%22%7D%2C%20%22id%22%3A%20%221%22%2C%20%22properties%22%3A%20%7B%22ID%22%3A%202%2C%20%22X%22%3A%20305807%2C%20%22Y%22%3A%202298309%2C%20%22highlight%22%3A%20%7B%7D%2C%20%22no_sitio%22%3A%202%2C%20%22perturbacion%22%3A%20null%2C%20%22style%22%3A%20%7B%7D%2C%20%22tipo_veg%22%3A%20null%7D%2C%20%22type%22%3A%20%22Feature%22%7D%2C%20%7B%22geometry%22%3A%20%7B%22coordinates%22%3A%20%5B%5B%5B-88.86504514176195%2C%2020.775590061075714%5D%2C%20%5B-88.8650454954383%2C%2020.775581204052074%5D%2C%20%5B-88.86504677048819%2C%2020.775572422280614%5D%2C%20%5B-88.86504895463209%2C%2020.77556380033457%5D%2C%20%5B-88.8650520268353%2C%2020.775555421247976%5D%2C%20%5B-88.86505595751073%2C%2020.775547365715997%5D%2C%20%5B-88.86506070880372%2C%2020.775539711317744%5D%2C%20%5B-88.8650662349566%2C%2020.775532531769198%5D%2C%20%5B-88.86507248274944%2C%2020.775525896213278%5D%2C%20%5B-88.86507939201255%2C%2020.775519868553932%5D%2C%20%5B-88.86508689620595%2C%2020.775514506840743%5D%2C%20%5B-88.86509492306018%2C%2020.775509862709875%5D%2C%20%5B-88.86510339527231%2C%2020.775505980886763%5D%2C%20%5B-88.86511223125041%2C%2020.775502898755423%5D%2C%20%5B-88.86512134589928%2C%2020.7755006459984%5D%2C%20%5B-88.86513065144001%2C%2020.77549924431093%5D%2C%20%5B-88.86514005825529%2C%2020.77549870719202%5D%2C%20%5B-88.86514947575252%2C%2020.77549903981436%5D%2C%20%5B-88.8651588132362%2C%2020.775500238974633%5D%2C%20%5B-88.86516798078145%2C%2020.77550229312427%5D%2C%20%5B-88.8651768900999%2C%2020.77550518248071%5D%2C%20%5B-88.86518545539012%2C%2020.775508879217906%5D%2C%20%5B-88.86519359416378%2C%2020.77551334773431%5D%2C%20%5B-88.86520122804012%2C%2020.775518544995723%5D%2C%20%5B-88.86520828350082%2C%2020.775524420949743%5D%2C%20%5B-88.86521469259796%2C%2020.7755309190078%5D%2C%20%5B-88.86522039360844%2C%2020.775537976590112%5D%2C%20%5B-88.86522533162837%2C%2020.77554552572836%5D%2C%20%5B-88.86522945910185%2C%2020.77555349372032%5D%2C%20%5B-88.86523273627898%2C%2020.775561803829927%5D%2C%20%5B-88.86523513159867%2C%2020.775570376026348%5D%2C%20%5B-88.86523662199248%2C%2020.77557912775467%5D%2C%20%5B-88.86523719310699%2C%2020.775587974731028%5D%2C%20%5B-88.8652368394419%2C%2020.775596831754203%5D%2C%20%5B-88.86523556440304%2C%2020.77560561352624%5D%2C%20%5B-88.86523338026956%2C%2020.77561423547386%5D%2C%20%5B-88.8652303080757%2C%2020.775622614562973%5D%2C%20%5B-88.86522637740826%2C%2020.775630670098327%5D%2C%20%5B-88.86522162612158%2C%2020.775638324500676%5D%2C%20%5B-88.86521609997305%2C%2020.775645504053877%5D%2C%20%5B-88.86520985218247%2C%2020.775652139614838%5D%2C%20%5B-88.86520294291942%2C%2020.77565816727941%5D%2C%20%5B-88.8651954387239%2C%2020.775663528997814%5D%2C%20%5B-88.8651874118654%2C%2020.775668173133695%5D%2C%20%5B-88.86517893964708%2C%2020.77567205496141%5D%2C%20%5B-88.86517010366107%2C%2020.775675137096776%5D%2C%20%5B-88.8651609890029%2C%2020.77567738985708%5D%2C%20%5B-88.86515168345181%2C%2020.775678791546962%5D%2C%20%5B-88.86514227662552%2C%2020.775679328667355%5D%2C%20%5B-88.86513285911705%2C%2020.775678996045468%5D%2C%20%5B-88.86512352162232%2C%2020.775677796884626%5D%2C%20%5B-88.86511435406669%2C%2020.775675742733412%5D%2C%20%5B-88.86510544473884%2C%2020.775672853374452%5D%2C%20%5B-88.86509687944064%2C%2020.77566915663388%5D%2C%20%5B-88.8650887406607%2C%2020.77566468811338%5D%2C%20%5B-88.86508110678%2C%2020.775659490847318%5D%2C%20%5B-88.86507405131704%2C%2020.775653614888252%5D%2C%20%5B-88.86506764221983%2C%2020.775647116824974%5D%2C%20%5B-88.86506194121151%2C%2020.77564005923745%5D%2C%20%5B-88.86505700319582%2C%2020.775632510094187%5D%2C%20%5B-88.86505287572851%2C%2020.77562454209762%5D%2C%20%5B-88.86504959855928%2C%2020.775616231983992%5D%2C%20%5B-88.86504720324892%2C%2020.77560765978429%5D%2C%20%5B-88.86504571286547%2C%2020.775598908053535%5D%2C%20%5B-88.86504514176195%2C%2020.775590061075714%5D%5D%5D%2C%20%22type%22%3A%20%22Polygon%22%7D%2C%20%22id%22%3A%20%222%22%2C%20%22properties%22%3A%20%7B%22ID%22%3A%203%2C%20%22X%22%3A%20305844%2C%20%22Y%22%3A%202298433%2C%20%22highlight%22%3A%20%7B%7D%2C%20%22no_sitio%22%3A%203%2C%20%22perturbacion%22%3A%20null%2C%20%22style%22%3A%20%7B%7D%2C%20%22tipo_veg%22%3A%20null%7D%2C%20%22type%22%3A%20%22Feature%22%7D%2C%20%7B%22geometry%22%3A%20%7B%22coordinates%22%3A%20%5B%5B%5B-88.2375515601608%2C%2020.74263816327268%5D%2C%20%5B-88.23755195056935%2C%2020.742629305270377%5D%2C%20%5B-88.237553262073%2C%2020.74262052591901%5D%2C%20%5B-88.23755548204109%2C%2020.742611909768513%5D%2C%20%5B-88.23755858909396%2C%2020.74260353979709%5D%2C%20%5B-88.23756255330886%2C%2020.742595496612125%5D%2C%20%5B-88.23756733650812%2C%2020.74258785767381%5D%2C%20%5B-88.23757289262686%2C%2020.74258069654927%5D%2C%20%5B-88.23757916815651%2C%2020.74257408220393%5D%2C%20%5B-88.23758610266032%2C%2020.742568078337516%5D%2C%20%5B-88.23759362935519%2C%2020.74256274277046%5D%2C%20%5B-88.23760167575499%2C%2020.74255812688711%5D%2C%20%5B-88.23761016436855%2C%2020.742554275140886%5D%2C%20%5B-88.23761901344595%2C%2020.742551224626133%5D%2C%20%5B-88.23762813776591%2C%2020.74254900472093%5D%2C%20%5B-88.23763744945634%2C%2020.74254763680414%5D%2C%20%5B-88.23764685884073%2C%2020.742547134049513%5D%2C%20%5B-88.23765627530173%2C%2020.74254750129883%5D%2C%20%5B-88.23766560815382%2C%2020.742548735015284%5D%2C%20%5B-88.2376747675167%2C%2020.742550823317522%5D%2C%20%5B-88.23768366518084%2C%2020.74255374609407%5D%2C%20%5B-88.237692215457%2C%2020.742557475197046%5D%2C%20%5B-88.23770033600147%2C%2020.7425619747132%5D%2C%20%5B-88.23770794860903%2C%2020.74256720130978%5D%2C%20%5B-88.2377149799662%2C%2020.742573104651886%5D%2C%20%5B-88.23772136235716%2C%2020.742579627887174%5D%2C%20%5B-88.23772703431601%2C%2020.74258670819339%5D%2C%20%5B-88.23773194121864%2C%2020.7425942773834%5D%2C%20%5B-88.23773603580884%2C%2020.742602262561828%5D%2C%20%5B-88.23773927865335%2C%2020.74261058682711%5D%2C%20%5B-88.23774163852173%2C%2020.742619170012077%5D%2C%20%5B-88.23774309268697%2C%2020.742627929456006%5D%2C%20%5B-88.23774362714455%2C%2020.74263678080068%5D%2C%20%5B-88.23774323674719%2C%2020.74264563880285%5D%2C%20%5B-88.23774192525447%2C%2020.7426544181551%5D%2C%20%5B-88.2377397052966%2C%2020.742663034307466%5D%2C%20%5B-88.23773659825285%2C%2020.742671404281662%5D%2C%20%5B-88.23773263404563%2C%2020.742679447470206%5D%2C%20%5B-88.23772785085231%2C%2020.742687086412758%5D%2C%20%5B-88.23772229473755%2C%2020.742694247542065%5D%2C%20%5B-88.23771601920976%2C%2020.74270086189247%5D%2C%20%5B-88.23770908470563%2C%2020.74270686576408%5D%2C%20%5B-88.23770155800825%2C%2020.74271220133626%5D%2C%20%5B-88.23769351160388%2C%2020.742716817224462%5D%2C%20%5B-88.23768502298384%2C%2020.742720668975082%5D%2C%20%5B-88.23767617389825%2C%2020.742723719493597%5D%2C%20%5B-88.23766704956883%2C%2020.7427259394018%5D%2C%20%5B-88.23765773786793%2C%2020.74272730732071%5D%2C%20%5B-88.23764832847249%2C%2020.742727810076477%5D%2C%20%5B-88.2376389120003%2C%2020.7427274428273%5D%2C%20%5B-88.2376295791373%2C%2020.742726209109964%5D%2C%20%5B-88.23762041976421%2C%2020.74272412080586%5D%2C%20%5B-88.23761152209096%2C%2020.742721198026533%5D%2C%20%5B-88.2376029718071%2C%2020.742717468919977%5D%2C%20%5B-88.23759485125669%2C%2020.74271296939958%5D%2C%20%5B-88.23758723864515%2C%2020.74270774279825%5D%2C%20%5B-88.23758020728611%2C%2020.742701839451072%5D%2C%20%5B-88.23757382489549%2C%2020.74269531621059%5D%2C%20%5B-88.23756815293915%2C%2020.742688235899244%5D%2C%20%5B-88.23756324604109%2C%2020.742680666704384%5D%2C%20%5B-88.23755915145739%2C%2020.742672681521565%5D%2C%20%5B-88.237555908621%2C%2020.742664357252508%5D%2C%20%5B-88.23755354876214%2C%2020.742655774064545%5D%2C%20%5B-88.23755209460734%2C%2020.742647014618512%5D%2C%20%5B-88.2375515601608%2C%2020.74263816327268%5D%5D%5D%2C%20%22type%22%3A%20%22Polygon%22%7D%2C%20%22id%22%3A%20%223%22%2C%20%22properties%22%3A%20%7B%22ID%22%3A%204%2C%20%22X%22%3A%20371146%2C%20%22Y%22%3A%202294158%2C%20%22highlight%22%3A%20%7B%7D%2C%20%22no_sitio%22%3A%2048%2C%20%22perturbacion%22%3A%20null%2C%20%22style%22%3A%20%7B%7D%2C%20%22tipo_veg%22%3A%20%22veg%20secundaria%20SBC%22%7D%2C%20%22type%22%3A%20%22Feature%22%7D%2C%20%7B%22geometry%22%3A%20%7B%22coordinates%22%3A%20%5B%5B%5B-88.23807668322935%2C%2020.743438438259133%5D%2C%20%5B-88.23807707360665%2C%2020.74342958025788%5D%2C%20%5B-88.23807838508402%2C%2020.743420800904488%5D%2C%20%5B-88.23808060503107%2C%2020.743412184748895%5D%2C%20%5B-88.23808371206835%2C%2020.743403814769387%5D%2C%20%5B-88.23808767627322%2C%2020.743395771573383%5D%2C%20%5B-88.23809245946816%2C%2020.743388132621217%5D%2C%20%5B-88.23809801558829%2C%2020.743380971480118%5D%2C%20%5B-88.23810429112505%2C%2020.74337435711569%5D%2C%20%5B-88.23811122564159%2C%2020.743368353227854%5D%2C%20%5B-88.23811875235474%2C%2020.743363017637215%5D%2C%20%5B-88.23812679877814%2C%2020.743358401728383%5D%2C%20%5B-88.23813528742043%2C%2020.74335454995499%5D%2C%20%5B-88.23814413653142%2C%2020.743351499411663%5D%2C%20%5B-88.23815326088946%2C%2020.74334927947676%5D%2C%20%5B-88.23816257262212%2C%2020.743347911529412%5D%2C%20%5B-88.23817198205248%2C%2020.743347408743677%5D%2C%20%5B-88.23818139856276%2C%2020.743347775961627%5D%2C%20%5B-88.23819073146694%2C%2020.743349009646764%5D%2C%20%5B-88.23819989088426%2C%2020.743351097918037%5D%2C%20%5B-88.23820878860462%2C%2020.74335402066427%5D%2C%20%5B-88.23821733893827%2C%2020.743357749737868%5D%2C%20%5B-88.23822545954093%2C%2020.74336224922586%5D%2C%20%5B-88.23823307220682%2C%2020.743367475795786%5D%2C%20%5B-88.2382401036219%2C%2020.743373379112974%5D%2C%20%5B-88.23824648606981%2C%2020.74337990232534%5D%2C%20%5B-88.23825215808408%2C%2020.74338698261085%5D%2C%20%5B-88.23825706504007%2C%2020.74339455178256%5D%2C%20%5B-88.23826115968106%2C%2020.74340253694528%5D%2C%20%5B-88.23826440257332%2C%2020.74341086119759%5D%2C%20%5B-88.23826676248589%2C%2020.743419444372446%5D%2C%20%5B-88.23826821669141%2C%2020.743428203809216%5D%2C%20%5B-88.23826875118492%2C%2020.74343705514978%5D%2C%20%5B-88.23826836081882%2C%2020.743445913150893%5D%2C%20%5B-88.23826704935234%2C%2020.74345469250517%5D%2C%20%5B-88.23826482941553%2C%2020.743463308662623%5D%2C%20%5B-88.23826172238738%2C%2020.743471678644916%5D%2C%20%5B-88.23825775819017%2C%2020.743479721844498%5D%2C%20%5B-88.23825297500117%2C%2020.74348736080091%5D%2C%20%5B-88.23824741888504%2C%2020.743494521946765%5D%2C%20%5B-88.23824114335014%2C%2020.74350113631625%5D%2C%20%5B-88.23823420883328%2C%2020.743507140209292%5D%2C%20%5B-88.23822668211763%2C%2020.743512475805048%5D%2C%20%5B-88.23821863568962%2C%2020.743517091718743%5D%2C%20%5B-88.23821014704085%2C%2020.743520943496534%5D%2C%20%5B-88.23820129792172%2C%2020.743523994043624%5D%2C%20%5B-88.23819217355418%2C%2020.743526213981532%5D%2C%20%5B-88.23818286181107%2C%2020.74352758193099%5D%2C%20%5B-88.23817345236965%2C%2020.743528084717877%5D%2C%20%5B-88.23816403584819%2C%2020.743527717500058%5D%2C%20%5B-88.23815470293307%2C%2020.743526483814037%5D%2C%20%5B-88.23814554350557%2C%2020.743524395540906%5D%2C%20%5B-88.23813664577607%2C%2020.74352147279189%5D%2C%20%5B-88.23812809543475%2C%2020.743517743714715%5D%2C%20%5B-88.23811997482613%2C%2020.74351324422247%5D%2C%20%5B-88.23811236215624%2C%2020.743508017647798%5D%2C%20%5B-88.23810533073932%2C%2020.743502114325537%5D%2C%20%5B-88.23809894829174%2C%2020.743495591107976%5D%2C%20%5B-88.23809327627997%2C%2020.74348851081734%5D%2C%20%5B-88.23808836932857%2C%2020.74348094164078%5D%2C%20%5B-88.23808427469406%2C%2020.743472956473667%5D%2C%20%5B-88.23808103180997%2C%2020.743464632217584%5D%2C%20%5B-88.23807867190688%2C%2020.743456049039732%5D%2C%20%5B-88.23807721771182%2C%2020.743447289600848%5D%2C%20%5B-88.23807668322935%2C%2020.743438438259133%5D%5D%5D%2C%20%22type%22%3A%20%22Polygon%22%7D%2C%20%22id%22%3A%20%224%22%2C%20%22properties%22%3A%20%7B%22ID%22%3A%205%2C%20%22X%22%3A%20371092%2C%20%22Y%22%3A%202294247%2C%20%22highlight%22%3A%20%7B%7D%2C%20%22no_sitio%22%3A%2051%2C%20%22perturbacion%22%3A%20null%2C%20%22style%22%3A%20%7B%7D%2C%20%22tipo_veg%22%3A%20%22veg%20secundaria%20SMC%22%7D%2C%20%22type%22%3A%20%22Feature%22%7D%2C%20%7B%22geometry%22%3A%20%7B%22coordinates%22%3A%20%5B%5B%5B-88.23812573885503%2C%2020.74710602153861%5D%2C%20%5B-88.2381261292267%2C%2020.7470971635406%5D%2C%20%5B-88.23812744072077%2C%2020.747088384189027%5D%2C%20%5B-88.23812966070669%2C%2020.74707976803383%5D%2C%20%5B-88.23813276780461%2C%2020.747071398053272%5D%2C%20%5B-88.23813673209138%2C%2020.74706335485479%5D%2C%20%5B-88.2381415153886%2C%2020.747055715898746%5D%2C%20%5B-88.23814707163045%2C%2020.747048554752393%5D%2C%20%5B-88.23815334730722%2C%2020.7470419403814%5D%2C%20%5B-88.23816028198067%2C%2020.747035936485737%5D%2C%20%5B-88.23816780886614%2C%2020.747030600886102%5D%2C%20%5B-88.2381758554756%2C%2020.747025984967173%5D%2C%20%5B-88.2381843443159%2C%2020.74702213318269%5D%2C%20%5B-88.23819319363496%2C%2020.747019082627396%5D%2C%20%5B-88.2382023182091%2C%2020.74701686267974%5D%2C%20%5B-88.23821163016383%2C%2020.74701549471899%5D%2C%20%5B-88.23822103982008%2C%2020.747014991919333%5D%2C%20%5B-88.23823045655789%2C%2020.747015359122983%5D%2C%20%5B-88.23823978968909%2C%2020.747016592793564%5D%2C%20%5B-88.23824894933065%2C%2020.74701868105017%5D%2C%20%5B-88.2382578472704%2C%2020.747021603781775%5D%2C%20%5B-88.23826639781642%2C%2020.747025332840916%5D%2C%20%5B-88.2382745186224%2C%2020.747029832314762%5D%2C%20%5B-88.23828213148063%2C%2020.747035058870985%5D%2C%20%5B-88.23828916307518%2C%2020.747040962175053%5D%2C%20%5B-88.23829554568795%2C%2020.747047485375013%5D%2C%20%5B-88.23830121785093%2C%2020.747054565648938%5D%2C%20%5B-88.23830612493802%2C%2020.747062134809998%5D%2C%20%5B-88.23831021969123%2C%2020.747070119963112%5D%2C%20%5B-88.23831346267578%2C%2020.74707844420695%5D%2C%20%5B-88.23831582265979%2C%2020.74708702737454%5D%2C%20%5B-88.23831727691523%2C%2020.747095786805346%5D%2C%20%5B-88.23831781143666%2C%2020.747104638141277%5D%2C%20%5B-88.23831742107618%2C%2020.747113496139146%5D%2C%20%5B-88.23831610959301%2C%2020.747122275491602%5D%2C%20%5B-88.23831388961732%2C%2020.747130891648663%5D%2C%20%5B-88.23831078252852%2C%2020.747139261632%5D%2C%20%5B-88.23830681824944%2C%2020.747147304834062%5D%2C%20%5B-88.23830203495817%2C%2020.747154943794357%5D%2C%20%5B-88.23829647872029%2C%2020.74716210494546%5D%2C%20%5B-88.2382902030454%2C%2020.747168719321515%5D%2C%20%5B-88.2382832683716%2C%2020.747174723222383%5D%2C%20%5B-88.23827574148365%2C%2020.747180058827137%5D%2C%20%5B-88.23826769486958%2C%2020.74718467475093%5D%2C%20%5B-88.23825920602279%2C%2020.7471885265398%5D%2C%20%5B-88.23825035669559%2C%2020.747191577098874%5D%2C%20%5B-88.23824123211197%2C%2020.74719379704953%5D%2C%20%5B-88.23823192014676%2C%2020.74719516501239%5D%2C%20%5B-88.23822251047946%2C%2020.74719566781319%5D%2C%20%5B-88.23821309373045%2C%2020.74719530060968%5D%2C%20%5B-88.23820376058835%2C%2020.747194066938217%5D%2C%20%5B-88.23819460093657%2C%2020.747191978679748%5D%2C%20%5B-88.23818570298769%2C%2020.747189055945363%5D%2C%20%5B-88.23817715243399%2C%2020.74718532688264%5D%2C%20%5B-88.23816903162205%2C%2020.747180827404552%5D%2C%20%5B-88.23816141875984%2C%2020.74717560084358%5D%2C%20%5B-88.23815438716343%2C%2020.74716969753444%5D%2C%20%5B-88.23814800455098%2C%2020.747163174329277%5D%2C%20%5B-88.23814233239052%2C%2020.74715609405023%5D%2C%20%5B-88.23813742530801%2C%2020.747148524884317%5D%2C%20%5B-88.23813333056128%2C%2020.7471405397268%5D%2C%20%5B-88.23813008758489%2C%2020.74713221547919%5D%2C%20%5B-88.23812772761038%2C%2020.747123632308597%5D%2C%20%5B-88.23812627336541%2C%2020.747114872875684%5D%2C%20%5B-88.23812573885503%2C%2020.74710602153861%5D%5D%5D%2C%20%22type%22%3A%20%22Polygon%22%7D%2C%20%22id%22%3A%20%225%22%2C%20%22properties%22%3A%20%7B%22ID%22%3A%206%2C%20%22X%22%3A%20371090%2C%20%22Y%22%3A%202294653%2C%20%22highlight%22%3A%20%7B%7D%2C%20%22no_sitio%22%3A%2019%2C%20%22perturbacion%22%3A%20null%2C%20%22style%22%3A%20%7B%7D%2C%20%22tipo_veg%22%3A%20%22veg%20secundaria%20SMC%22%7D%2C%20%22type%22%3A%20%22Feature%22%7D%2C%20%7B%22geometry%22%3A%20%7B%22coordinates%22%3A%20%5B%5B%5B-88.2379211691281%2C%2020.74557165931564%5D%2C%20%5B-88.23792155951287%2C%2020.74556280131615%5D%2C%20%5B-88.23792287101065%2C%2020.74555402196469%5D%2C%20%5B-88.23792509099088%2C%2020.745545405811182%5D%2C%20%5B-88.23792819807375%2C%2020.745537035833873%5D%2C%20%5B-88.23793216233622%2C%2020.745528992640182%5D%2C%20%5B-88.2379369456002%2C%2020.745521353690414%5D%2C%20%5B-88.23794250180012%2C%2020.745514192551767%5D%2C%20%5B-88.2379487774267%2C%2020.74550757818985%5D%2C%20%5B-88.2379557120422%2C%2020.745501574304512%5D%2C%20%5B-88.23796323886248%2C%2020.745496238716377%5D%2C%20%5B-88.23797128540016%2C%2020.74549162281%5D%2C%20%5B-88.23797977416281%2C%2020.745487771039013%5D%2C%20%5B-88.23798862339903%2C%2020.745484720498013%5D%2C%20%5B-88.23799774788601%2C%2020.745482500565323%5D%2C%20%5B-88.23800705975006%2C%2020.74548113262007%5D%2C%20%5B-88.238016469313%2C%2020.745480629836287%5D%2C%20%5B-88.23802588595574%2C%2020.74548099705602%5D%2C%20%5B-88.23803521899102%2C%2020.745482230742763%5D%2C%20%5B-88.2380443785368%2C%2020.745484319015436%5D%2C%20%5B-88.23805327638176%2C%2020.74548724176287%5D%2C%20%5B-88.23806182683495%2C%2020.74549097083744%5D%2C%20%5B-88.23806994755091%2C%2020.745495470326183%5D%2C%20%5B-88.23807756032281%2C%2020.7455006968966%5D%2C%20%5B-88.23808459183556%2C%2020.745506600214057%5D%2C%20%5B-88.23809097437186%2C%2020.745513123426427%5D%2C%20%5B-88.23809664646438%2C%2020.74552020371171%5D%2C%20%5B-88.23810155348778%2C%2020.74552777288294%5D%2C%20%5B-88.23810564818463%2C%2020.74553575804495%5D%2C%20%5B-88.23810889112067%2C%2020.745544082296306%5D%2C%20%5B-88.23811125106455%2C%2020.745552665469997%5D%2C%20%5B-88.2381127052886%2C%2020.745561424905386%5D%2C%20%5B-88.23811323978767%2C%2020.745570276244365%5D%2C%20%5B-88.2381128494141%2C%2020.74557913424372%5D%2C%20%5B-88.23811153792721%2C%2020.74558791359607%5D%2C%20%5B-88.23810931795721%2C%2020.74559652975144%5D%2C%20%5B-88.23810621088347%2C%2020.745604899731525%5D%2C%20%5B-88.23810224662869%2C%2020.745612942928794%5D%2C%20%5B-88.23809746337065%2C%2020.745620581882807%5D%2C%20%5B-88.23809190717472%2C%2020.74562774302621%5D%2C%20%5B-88.23808563154999%2C%2020.7456343573932%5D%2C%20%5B-88.23807869693418%2C%2020.745640361283733%5D%2C%20%5B-88.2380711701114%2C%2020.745645696876995%5D%2C%20%5B-88.23806312356909%2C%2020.74565031278822%5D%2C%20%5B-88.23805463479998%2C%2020.74565416456361%5D%2C%20%5B-88.2380457855556%2C%2020.745657215108373%5D%2C%20%5B-88.23803666105913%2C%2020.745659435044065%5D%2C%20%5B-88.23802734918462%2C%2020.745660802991424%5D%2C%20%5B-88.23801793961066%2C%2020.745661305776363%5D%2C%20%5B-88.23800852295672%2C%2020.745660938556757%5D%2C%20%5B-88.2379991899105%2C%2020.74565970486914%5D%2C%20%5B-88.23799003035451%2C%2020.745657616594603%5D%2C%20%5B-88.23798113250042%2C%2020.745654693844394%5D%2C%20%5B-88.23797258203955%2C%2020.745650964766245%5D%2C%20%5B-88.23796446131765%2C%2020.745646465273257%5D%2C%20%5B-88.23795684854177%2C%2020.745641238698077%5D%2C%20%5B-88.23794981702716%2C%2020.74563533537556%5D%2C%20%5B-88.23794343449119%2C%2020.74562881215798%5D%2C%20%5B-88.23793776240115%2C%2020.745621731867576%5D%2C%20%5B-88.23793285538235%2C%2020.745614162691492%5D%2C%20%5B-88.237928760692%2C%2020.74560617752509%5D%2C%20%5B-88.2379255177641%2C%2020.74559785326996%5D%2C%20%5B-88.2379231578297%2C%2020.745589270093273%5D%2C%20%5B-88.23792170361612%2C%2020.745580510655767%5D%2C%20%5B-88.2379211691281%2C%2020.74557165931564%5D%5D%5D%2C%20%22type%22%3A%20%22Polygon%22%7D%2C%20%22id%22%3A%20%226%22%2C%20%22properties%22%3A%20%7B%22ID%22%3A%207%2C%20%22X%22%3A%20371110%2C%20%22Y%22%3A%202294483%2C%20%22highlight%22%3A%20%7B%7D%2C%20%22no_sitio%22%3A%2017%2C%20%22perturbacion%22%3A%20null%2C%20%22style%22%3A%20%7B%7D%2C%20%22tipo_veg%22%3A%20%22veg%20secundaria%20SMC%22%7D%2C%20%22type%22%3A%20%22Feature%22%7D%2C%20%7B%22geometry%22%3A%20%7B%22coordinates%22%3A%20%5B%5B%5B-88.2375515601608%2C%2020.74263816327268%5D%2C%20%5B-88.23755195056935%2C%2020.742629305270377%5D%2C%20%5B-88.237553262073%2C%2020.74262052591901%5D%2C%20%5B-88.23755548204109%2C%2020.742611909768513%5D%2C%20%5B-88.23755858909396%2C%2020.74260353979709%5D%2C%20%5B-88.23756255330886%2C%2020.742595496612125%5D%2C%20%5B-88.23756733650812%2C%2020.74258785767381%5D%2C%20%5B-88.23757289262686%2C%2020.74258069654927%5D%2C%20%5B-88.23757916815651%2C%2020.74257408220393%5D%2C%20%5B-88.23758610266032%2C%2020.742568078337516%5D%2C%20%5B-88.23759362935519%2C%2020.74256274277046%5D%2C%20%5B-88.23760167575499%2C%2020.74255812688711%5D%2C%20%5B-88.23761016436855%2C%2020.742554275140886%5D%2C%20%5B-88.23761901344595%2C%2020.742551224626133%5D%2C%20%5B-88.23762813776591%2C%2020.74254900472093%5D%2C%20%5B-88.23763744945634%2C%2020.74254763680414%5D%2C%20%5B-88.23764685884073%2C%2020.742547134049513%5D%2C%20%5B-88.23765627530173%2C%2020.74254750129883%5D%2C%20%5B-88.23766560815382%2C%2020.742548735015284%5D%2C%20%5B-88.2376747675167%2C%2020.742550823317522%5D%2C%20%5B-88.23768366518084%2C%2020.74255374609407%5D%2C%20%5B-88.237692215457%2C%2020.742557475197046%5D%2C%20%5B-88.23770033600147%2C%2020.7425619747132%5D%2C%20%5B-88.23770794860903%2C%2020.74256720130978%5D%2C%20%5B-88.2377149799662%2C%2020.742573104651886%5D%2C%20%5B-88.23772136235716%2C%2020.742579627887174%5D%2C%20%5B-88.23772703431601%2C%2020.74258670819339%5D%2C%20%5B-88.23773194121864%2C%2020.7425942773834%5D%2C%20%5B-88.23773603580884%2C%2020.742602262561828%5D%2C%20%5B-88.23773927865335%2C%2020.74261058682711%5D%2C%20%5B-88.23774163852173%2C%2020.742619170012077%5D%2C%20%5B-88.23774309268697%2C%2020.742627929456006%5D%2C%20%5B-88.23774362714455%2C%2020.74263678080068%5D%2C%20%5B-88.23774323674719%2C%2020.74264563880285%5D%2C%20%5B-88.23774192525447%2C%2020.7426544181551%5D%2C%20%5B-88.2377397052966%2C%2020.742663034307466%5D%2C%20%5B-88.23773659825285%2C%2020.742671404281662%5D%2C%20%5B-88.23773263404563%2C%2020.742679447470206%5D%2C%20%5B-88.23772785085231%2C%2020.742687086412758%5D%2C%20%5B-88.23772229473755%2C%2020.742694247542065%5D%2C%20%5B-88.23771601920976%2C%2020.74270086189247%5D%2C%20%5B-88.23770908470563%2C%2020.74270686576408%5D%2C%20%5B-88.23770155800825%2C%2020.74271220133626%5D%2C%20%5B-88.23769351160388%2C%2020.742716817224462%5D%2C%20%5B-88.23768502298384%2C%2020.742720668975082%5D%2C%20%5B-88.23767617389825%2C%2020.742723719493597%5D%2C%20%5B-88.23766704956883%2C%2020.7427259394018%5D%2C%20%5B-88.23765773786793%2C%2020.74272730732071%5D%2C%20%5B-88.23764832847249%2C%2020.742727810076477%5D%2C%20%5B-88.2376389120003%2C%2020.7427274428273%5D%2C%20%5B-88.2376295791373%2C%2020.742726209109964%5D%2C%20%5B-88.23762041976421%2C%2020.74272412080586%5D%2C%20%5B-88.23761152209096%2C%2020.742721198026533%5D%2C%20%5B-88.2376029718071%2C%2020.742717468919977%5D%2C%20%5B-88.23759485125669%2C%2020.74271296939958%5D%2C%20%5B-88.23758723864515%2C%2020.74270774279825%5D%2C%20%5B-88.23758020728611%2C%2020.742701839451072%5D%2C%20%5B-88.23757382489549%2C%2020.74269531621059%5D%2C%20%5B-88.23756815293915%2C%2020.742688235899244%5D%2C%20%5B-88.23756324604109%2C%2020.742680666704384%5D%2C%20%5B-88.23755915145739%2C%2020.742672681521565%5D%2C%20%5B-88.237555908621%2C%2020.742664357252508%5D%2C%20%5B-88.23755354876214%2C%2020.742655774064545%5D%2C%20%5B-88.23755209460734%2C%2020.742647014618512%5D%2C%20%5B-88.2375515601608%2C%2020.74263816327268%5D%5D%5D%2C%20%22type%22%3A%20%22Polygon%22%7D%2C%20%22id%22%3A%20%227%22%2C%20%22properties%22%3A%20%7B%22ID%22%3A%208%2C%20%22X%22%3A%20371146%2C%20%22Y%22%3A%202294158%2C%20%22highlight%22%3A%20%7B%7D%2C%20%22no_sitio%22%3A%209%2C%20%22perturbacion%22%3A%20%22residuos%20solidos%22%2C%20%22style%22%3A%20%7B%7D%2C%20%22tipo_veg%22%3A%20%22veg%20secundaria%20SBC%22%7D%2C%20%22type%22%3A%20%22Feature%22%7D%2C%20%7B%22geometry%22%3A%20%7B%22coordinates%22%3A%20%5B%5B%5B-88.23807668322935%2C%2020.743438438259133%5D%2C%20%5B-88.23807707360665%2C%2020.74342958025788%5D%2C%20%5B-88.23807838508402%2C%2020.743420800904488%5D%2C%20%5B-88.23808060503107%2C%2020.743412184748895%5D%2C%20%5B-88.23808371206835%2C%2020.743403814769387%5D%2C%20%5B-88.23808767627322%2C%2020.743395771573383%5D%2C%20%5B-88.23809245946816%2C%2020.743388132621217%5D%2C%20%5B-88.23809801558829%2C%2020.743380971480118%5D%2C%20%5B-88.23810429112505%2C%2020.74337435711569%5D%2C%20%5B-88.23811122564159%2C%2020.743368353227854%5D%2C%20%5B-88.23811875235474%2C%2020.743363017637215%5D%2C%20%5B-88.23812679877814%2C%2020.743358401728383%5D%2C%20%5B-88.23813528742043%2C%2020.74335454995499%5D%2C%20%5B-88.23814413653142%2C%2020.743351499411663%5D%2C%20%5B-88.23815326088946%2C%2020.74334927947676%5D%2C%20%5B-88.23816257262212%2C%2020.743347911529412%5D%2C%20%5B-88.23817198205248%2C%2020.743347408743677%5D%2C%20%5B-88.23818139856276%2C%2020.743347775961627%5D%2C%20%5B-88.23819073146694%2C%2020.743349009646764%5D%2C%20%5B-88.23819989088426%2C%2020.743351097918037%5D%2C%20%5B-88.23820878860462%2C%2020.74335402066427%5D%2C%20%5B-88.23821733893827%2C%2020.743357749737868%5D%2C%20%5B-88.23822545954093%2C%2020.74336224922586%5D%2C%20%5B-88.23823307220682%2C%2020.743367475795786%5D%2C%20%5B-88.2382401036219%2C%2020.743373379112974%5D%2C%20%5B-88.23824648606981%2C%2020.74337990232534%5D%2C%20%5B-88.23825215808408%2C%2020.74338698261085%5D%2C%20%5B-88.23825706504007%2C%2020.74339455178256%5D%2C%20%5B-88.23826115968106%2C%2020.74340253694528%5D%2C%20%5B-88.23826440257332%2C%2020.74341086119759%5D%2C%20%5B-88.23826676248589%2C%2020.743419444372446%5D%2C%20%5B-88.23826821669141%2C%2020.743428203809216%5D%2C%20%5B-88.23826875118492%2C%2020.74343705514978%5D%2C%20%5B-88.23826836081882%2C%2020.743445913150893%5D%2C%20%5B-88.23826704935234%2C%2020.74345469250517%5D%2C%20%5B-88.23826482941553%2C%2020.743463308662623%5D%2C%20%5B-88.23826172238738%2C%2020.743471678644916%5D%2C%20%5B-88.23825775819017%2C%2020.743479721844498%5D%2C%20%5B-88.23825297500117%2C%2020.74348736080091%5D%2C%20%5B-88.23824741888504%2C%2020.743494521946765%5D%2C%20%5B-88.23824114335014%2C%2020.74350113631625%5D%2C%20%5B-88.23823420883328%2C%2020.743507140209292%5D%2C%20%5B-88.23822668211763%2C%2020.743512475805048%5D%2C%20%5B-88.23821863568962%2C%2020.743517091718743%5D%2C%20%5B-88.23821014704085%2C%2020.743520943496534%5D%2C%20%5B-88.23820129792172%2C%2020.743523994043624%5D%2C%20%5B-88.23819217355418%2C%2020.743526213981532%5D%2C%20%5B-88.23818286181107%2C%2020.74352758193099%5D%2C%20%5B-88.23817345236965%2C%2020.743528084717877%5D%2C%20%5B-88.23816403584819%2C%2020.743527717500058%5D%2C%20%5B-88.23815470293307%2C%2020.743526483814037%5D%2C%20%5B-88.23814554350557%2C%2020.743524395540906%5D%2C%20%5B-88.23813664577607%2C%2020.74352147279189%5D%2C%20%5B-88.23812809543475%2C%2020.743517743714715%5D%2C%20%5B-88.23811997482613%2C%2020.74351324422247%5D%2C%20%5B-88.23811236215624%2C%2020.743508017647798%5D%2C%20%5B-88.23810533073932%2C%2020.743502114325537%5D%2C%20%5B-88.23809894829174%2C%2020.743495591107976%5D%2C%20%5B-88.23809327627997%2C%2020.74348851081734%5D%2C%20%5B-88.23808836932857%2C%2020.74348094164078%5D%2C%20%5B-88.23808427469406%2C%2020.743472956473667%5D%2C%20%5B-88.23808103180997%2C%2020.743464632217584%5D%2C%20%5B-88.23807867190688%2C%2020.743456049039732%5D%2C%20%5B-88.23807721771182%2C%2020.743447289600848%5D%2C%20%5B-88.23807668322935%2C%2020.743438438259133%5D%5D%5D%2C%20%22type%22%3A%20%22Polygon%22%7D%2C%20%22id%22%3A%20%228%22%2C%20%22properties%22%3A%20%7B%22ID%22%3A%209%2C%20%22X%22%3A%20371092%2C%20%22Y%22%3A%202294247%2C%20%22highlight%22%3A%20%7B%7D%2C%20%22no_sitio%22%3A%2013%2C%20%22perturbacion%22%3A%20%22residuos%20solidos%20y%20tala%22%2C%20%22style%22%3A%20%7B%7D%2C%20%22tipo_veg%22%3A%20%22veg%20secundaria%20SMC%22%7D%2C%20%22type%22%3A%20%22Feature%22%7D%2C%20%7B%22geometry%22%3A%20%7B%22coordinates%22%3A%20%5B%5B%5B-88.23786354792716%2C%2020.74557207419521%5D%2C%20%5B-88.2378639383153%2C%2020.745563216195677%5D%2C%20%5B-88.23786524981644%2C%2020.745554436844486%5D%2C%20%5B-88.23786746979997%2C%2020.745545820691554%5D%2C%20%5B-88.23787057688608%2C%2020.74553745071513%5D%2C%20%5B-88.23787454115168%2C%2020.745529407522618%5D%2C%20%5B-88.23787932441866%2C%2020.74552176857431%5D%2C%20%5B-88.23788488062141%2C%2020.745514607437386%5D%2C%20%5B-88.23789115625063%2C%2020.745507993077442%5D%2C%20%5B-88.23789809086855%2C%2020.745501989194313%5D%2C%20%5B-88.23790561769101%2C%2020.7454966536086%5D%2C%20%5B-88.23791366423065%2C%2020.745492037704828%5D%2C%20%5B-88.23792215299491%2C%2020.745488185936612%5D%2C%20%5B-88.23793100223249%2C%2020.74548513539852%5D%2C%20%5B-88.2379401267205%2C%2020.745482915468852%5D%2C%20%5B-88.23794943858528%2C%2020.745481547526694%5D%2C%20%5B-88.23795884814861%2C%2020.74548104474605%5D%2C%20%5B-88.2379682647914%2C%2020.745481411968946%5D%2C%20%5B-88.23797759782644%2C%2020.745482645658843%5D%2C%20%5B-88.23798675737163%2C%2020.745484733934624%5D%2C%20%5B-88.23799565521568%2C%2020.745487656685093%5D%2C%20%5B-88.23800420566764%2C%2020.7454913857626%5D%2C%20%5B-88.23801232638208%2C%2020.745495885254147%5D%2C%20%5B-88.23801993915217%2C%2020.74550111182722%5D%2C%20%5B-88.23802697066283%2C%2020.74550701514714%5D%2C%20%5B-88.2380333531968%2C%2020.74551353836178%5D%2C%20%5B-88.23803902528677%2C%2020.745520618649095%5D%2C%20%5B-88.23804393230739%2C%2020.745528187822114%5D%2C%20%5B-88.2380480270013%2C%2020.745536172985652%5D%2C%20%5B-88.23805126993427%2C%2020.745544497238253%5D%2C%20%5B-88.23805362987497%2C%2020.745553080412897%5D%2C%20%5B-88.23805508409572%2C%2020.745561839848936%5D%2C%20%5B-88.23805561859145%2C%2020.745570691188266%5D%2C%20%5B-88.2380552282145%2C%2020.74557954918766%5D%2C%20%5B-88.23805391672427%2C%2020.745588328539736%5D%2C%20%5B-88.23805169675097%2C%2020.745596944694533%5D%2C%20%5B-88.23804858967398%2C%2020.745605314673732%5D%2C%20%5B-88.23804462541607%2C%2020.745613357869825%5D%2C%20%5B-88.23803984215505%2C%2020.745620996822378%5D%2C%20%5B-88.23803428595626%2C%2020.745628157964056%5D%2C%20%5B-88.2380280103289%2C%2020.745634772329073%5D%2C%20%5B-88.23802107571065%2C%2020.745640776217396%5D%2C%20%5B-88.23801354888569%2C%2020.745646111808234%5D%2C%20%5B-88.23800550234148%2C%2020.745650727716857%5D%2C%20%5B-88.23799701357072%2C%2020.745654579489468%5D%2C%20%5B-88.23798816432497%2C%2020.745657630031328%5D%2C%20%5B-88.23797903982748%2C%2020.745659849964%5D%2C%20%5B-88.23796972795225%2C%2020.745661217908275%5D%2C%20%5B-88.23796031837787%2C%2020.745661720690066%5D%2C%20%5B-88.23795090172388%2C%2020.745661353467302%5D%2C%20%5B-88.23794156867793%2C%2020.745660119776527%5D%2C%20%5B-88.23793240912252%2C%2020.745658031498877%5D%2C%20%5B-88.23792351126934%2C%2020.74565510874563%5D%2C%20%5B-88.2379149608097%2C%2020.745651379664544%5D%2C%20%5B-88.23790684008932%2C%2020.745646880168753%5D%2C%20%5B-88.23789922731525%2C%2020.745641653590923%5D%2C%20%5B-88.23789219580273%2C%2020.745635750265937%5D%2C%20%5B-88.23788581326909%2C%2020.745629227046095%5D%2C%20%5B-88.2378801411816%2C%2020.745622146753654%5D%2C%20%5B-88.23787523416559%2C%2020.745614577575786%5D%2C%20%5B-88.23787113947816%2C%2020.745606592407857%5D%2C%20%5B-88.23786789655334%2C%2020.745598268151475%5D%2C%20%5B-88.23786553662212%2C%2020.745589684973844%5D%2C%20%5B-88.23786408241185%2C%2020.74558092553568%5D%2C%20%5B-88.23786354792716%2C%2020.74557207419521%5D%5D%5D%2C%20%22type%22%3A%20%22Polygon%22%7D%2C%20%22id%22%3A%20%229%22%2C%20%22properties%22%3A%20%7B%22ID%22%3A%2010%2C%20%22X%22%3A%20371116%2C%20%22Y%22%3A%202294483%2C%20%22highlight%22%3A%20%7B%7D%2C%20%22no_sitio%22%3A%2017%2C%20%22perturbacion%22%3A%20null%2C%20%22style%22%3A%20%7B%7D%2C%20%22tipo_veg%22%3A%20%22veg%20secundaria%20SMC%22%7D%2C%20%22type%22%3A%20%22Feature%22%7D%5D%2C%20%22type%22%3A%20%22FeatureCollection%22%7D%2C%0A%20%20%20%20%20%20%20%20%20%20%20%20%7B%0A%20%20%20%20%20%20%20%20%20%20%20%20%7D%0A%20%20%20%20%20%20%20%20%29.addTo%28map_861d0ff50f1a47f7a8a03d3d1f1b3f72%20%29%3B%0A%20%20%20%20%20%20%20%20geo_json_ee60708e890344119a37c206d2f014f4.setStyle%28function%28feature%29%20%7Breturn%20feature.properties.style%3B%7D%29%3B%0A%20%20%20%20%20%20%20%20%0A%3C/script%3E onload=\"this.contentDocument.open();this.contentDocument.write(    decodeURIComponent(this.getAttribute('data-html')));this.contentDocument.close();\" allowfullscreen webkitallowfullscreen mozallowfullscreen></iframe></div></div>"
            ],
            "text/plain": [
              "<folium.folium.Map at 0x7fb5facb4fd0>"
            ]
          },
          "metadata": {},
          "execution_count": 12
        }
      ]
    },
    {
      "cell_type": "code",
      "metadata": {
        "id": "RKnioG3wUIV2"
      },
      "source": [
        ""
      ],
      "execution_count": null,
      "outputs": []
    }
  ]
}