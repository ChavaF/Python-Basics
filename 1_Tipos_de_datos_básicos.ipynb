{
  "nbformat": 4,
  "nbformat_minor": 0,
  "metadata": {
    "colab": {
      "provenance": [],
      "collapsed_sections": [],
      "mount_file_id": "1M0Bi6-x7TXZcIIGK32q-v4kPDE7QbWVL",
      "authorship_tag": "ABX9TyMDq8DtxcofVvHZ/oYUeZfg",
      "include_colab_link": true
    },
    "kernelspec": {
      "name": "python3",
      "display_name": "Python 3"
    },
    "language_info": {
      "name": "python"
    }
  },
  "cells": [
    {
      "cell_type": "markdown",
      "metadata": {
        "id": "view-in-github",
        "colab_type": "text"
      },
      "source": [
        "<a href=\"https://colab.research.google.com/github/cuauhtemocbe/Python-Basics/blob/main/1_Tipos_de_datos_b%C3%A1sicos.ipynb\" target=\"_parent\"><img src=\"https://colab.research.google.com/assets/colab-badge.svg\" alt=\"Open In Colab\"/></a>"
      ]
    },
    {
      "cell_type": "markdown",
      "source": [
        "## Tipos de Datos\n",
        "\n",
        "Los tipos de datos son un conjunto de valores con características y propiedades determinadas. \n",
        "\n",
        "Los datos básicos son:\n",
        "\n",
        "1. **Booleanos :** *bool* = True, False\n",
        "2. **Númericos:**\n",
        "  - **Enteros :** *int* = 10\n",
        "  - **Flotantes :** *float* = 10.4\n",
        "3. **Cadenas de caracteres:** *str* = \"Hola, mundo!\"\n",
        "\n",
        "## Variables\n",
        "\n",
        "Es una \"caja\" en la que podemos guardar un valor. Esta \"caja\" tiene un espacio en la memoria.\n",
        "\n",
        "Se pueden represtarn con letras, palabras completas. Ej.\n",
        "\n",
        "- x = 1\n",
        "- y = 2.0\n",
        "- capital_mexico = \"cdmx\"\n",
        "- bebo_poco = True\n",
        "\n",
        "**Nombres NO válidos:**\n",
        "\n",
        "- Números: 1, 2, 3, ..., n\n",
        "- Palabras **reservadas** o **integradas** (built-in) en Python: str, int, float, print\n",
        "\n",
        "\n",
        "## Funciones\n",
        "Son instrucciones de código reutilizables que llevan a cabo una tarea en particular\n",
        "\n",
        "1. **type** - Regresa el tipo de dato del objeto\n",
        "2. **print** - Función que envía la información solicitada a la ventana de consola"
      ],
      "metadata": {
        "id": "APXg8hLYmKBs"
      }
    },
    {
      "cell_type": "code",
      "metadata": {
        "id": "ya_NFZO-3mBl"
      },
      "source": [
        "# !cp /content/drive/MyDrive/Colab\\ Notebooks/Python\\ Basics/1.Python\\ basics\\ -\\ Introducción.ipynb ./"
      ],
      "execution_count": null,
      "outputs": []
    },
    {
      "cell_type": "code",
      "metadata": {
        "id": "RqU0SIR442Yp"
      },
      "source": [
        "# !jupyter nbconvert --to html \"1.Python_basics.ipynb\""
      ],
      "execution_count": null,
      "outputs": []
    },
    {
      "cell_type": "code",
      "metadata": {
        "id": "rcnfIrI2iyU5"
      },
      "source": [
        "!ls"
      ],
      "execution_count": null,
      "outputs": []
    },
    {
      "cell_type": "code",
      "metadata": {
        "id": "B-ywbICJfe9Q"
      },
      "source": [
        "!python --version"
      ],
      "execution_count": null,
      "outputs": []
    },
    {
      "cell_type": "code",
      "metadata": {
        "id": "i5dQTzU6fkvF",
        "colab": {
          "base_uri": "https://localhost:8080/"
        },
        "outputId": "a078dec5-2dee-4d5c-a97a-45707b355663"
      },
      "source": [
        "print('Hello, World!')"
      ],
      "execution_count": null,
      "outputs": [
        {
          "output_type": "stream",
          "name": "stdout",
          "text": [
            "Hello, World!\n"
          ]
        }
      ]
    },
    {
      "cell_type": "code",
      "metadata": {
        "id": "Wl2BHoz3gD5H"
      },
      "source": [
        "print(10 * 'Hello, World!')"
      ],
      "execution_count": null,
      "outputs": []
    },
    {
      "cell_type": "code",
      "metadata": {
        "id": "KW6Aru-tguob"
      },
      "source": [
        "print(10*'Hello, World! \\n')"
      ],
      "execution_count": null,
      "outputs": []
    },
    {
      "cell_type": "code",
      "metadata": {
        "id": "-xfYlbrpjcBk"
      },
      "source": [
        "world = 'world'\n",
        "print(world)"
      ],
      "execution_count": null,
      "outputs": []
    },
    {
      "cell_type": "code",
      "metadata": {
        "id": "kfObfgFQjdza"
      },
      "source": [
        "hello = 'hello'\n",
        "helloworld = hello + \"_\" + world\n",
        "print(helloworld)"
      ],
      "execution_count": null,
      "outputs": []
    },
    {
      "cell_type": "code",
      "metadata": {
        "id": "uF_w1RG9jiz7"
      },
      "source": [
        "type(helloworld)"
      ],
      "execution_count": null,
      "outputs": []
    },
    {
      "cell_type": "code",
      "metadata": {
        "id": "8LZDfE1pjtiK"
      },
      "source": [
        "a, b, d = 2, 3, 5\n",
        "c = a + b + d\n",
        "print(c)"
      ],
      "execution_count": null,
      "outputs": []
    },
    {
      "cell_type": "code",
      "metadata": {
        "id": "KHI43Yjwk3G8"
      },
      "source": [
        "one = 1\n",
        "print(type(one))\n",
        "one_str = str(1)\n",
        "print(type(one_str))"
      ],
      "execution_count": null,
      "outputs": []
    },
    {
      "cell_type": "code",
      "metadata": {
        "id": "DSJsnu3QlY3a"
      },
      "source": [
        "one_str"
      ],
      "execution_count": null,
      "outputs": []
    },
    {
      "cell_type": "code",
      "metadata": {
        "id": "_vBnXJW2ne-P"
      },
      "source": [
        "one = int('1')\n",
        "type(one)"
      ],
      "execution_count": null,
      "outputs": []
    },
    {
      "cell_type": "code",
      "metadata": {
        "id": "oBSqOMghj4qq"
      },
      "source": [
        "# This will not work!\n",
        "one = '1'\n",
        "two = 2\n",
        "hello = \"hello\"\n",
        "\n",
        "# print(one + two + hello)"
      ],
      "execution_count": null,
      "outputs": []
    },
    {
      "cell_type": "code",
      "metadata": {
        "id": "AJQwgPaeoSgZ"
      },
      "source": [
        "radius = float(input(\"Enter the radius:\"))"
      ],
      "execution_count": null,
      "outputs": []
    },
    {
      "cell_type": "code",
      "metadata": {
        "id": "_4Y__wM2mjwO"
      },
      "source": [
        "print(type(radius))"
      ],
      "execution_count": null,
      "outputs": []
    },
    {
      "cell_type": "code",
      "metadata": {
        "id": "y8jcaxdroZYy"
      },
      "source": [
        "area = (radius * radius) * 3.1415"
      ],
      "execution_count": null,
      "outputs": []
    },
    {
      "cell_type": "code",
      "metadata": {
        "id": "JXgzu1v5lYJ2"
      },
      "source": [
        "print(\"The area of a circle with radius\", radius,\"is:\",area)"
      ],
      "execution_count": null,
      "outputs": []
    },
    {
      "cell_type": "code",
      "metadata": {
        "id": "Y8WVDg-isZdK"
      },
      "source": [
        "def print_welcome_text(name):\n",
        "  \"\"\"Es una función que imprime algo\"\"\"\n",
        "  print(f'{name} , te doy la bienvenida a este curso. Espero que aprendaas'\n",
        "      'muucho y te inicie en la zenda del programador')"
      ],
      "execution_count": null,
      "outputs": []
    },
    {
      "cell_type": "code",
      "metadata": {
        "id": "WTyvzFN1rJWr"
      },
      "source": [
        "for name_tmp in ['Martha', 'Violeta', 'Cuau']:\n",
        "  print_welcome_text(name_tmp)"
      ],
      "execution_count": null,
      "outputs": []
    },
    {
      "cell_type": "code",
      "metadata": {
        "id": "0I4a2qWismbe"
      },
      "source": [],
      "execution_count": null,
      "outputs": []
    }
  ]
}