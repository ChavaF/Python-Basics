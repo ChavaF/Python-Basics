{
  "nbformat": 4,
  "nbformat_minor": 0,
  "metadata": {
    "colab": {
      "provenance": [],
      "collapsed_sections": [],
      "toc_visible": true,
      "mount_file_id": "1M0Bi6-x7TXZcIIGK32q-v4kPDE7QbWVL",
      "authorship_tag": "ABX9TyMdv40Ueoo8a3AdX+tjSDKL",
      "include_colab_link": true
    },
    "kernelspec": {
      "name": "python3",
      "display_name": "Python 3"
    },
    "language_info": {
      "name": "python"
    }
  },
  "cells": [
    {
      "cell_type": "markdown",
      "metadata": {
        "id": "view-in-github",
        "colab_type": "text"
      },
      "source": [
        "<a href=\"https://colab.research.google.com/github/cuauhtemocbe/Python-Basics/blob/main/1_Tipos_de_datos_b%C3%A1sicos.ipynb\" target=\"_parent\"><img src=\"https://colab.research.google.com/assets/colab-badge.svg\" alt=\"Open In Colab\"/></a>"
      ]
    },
    {
      "cell_type": "markdown",
      "source": [
        "# Tipos de Datos\n",
        "\n",
        "Los tipos de datos son un conjunto de valores con características y propiedades determinadas. \n",
        "\n",
        "Los datos básicos son:\n",
        "\n",
        "1. **Booleanos :** *bool* = True, False\n",
        "2. **Númericos:**\n",
        "  - **Enteros :** *int* = 10\n",
        "  - **Flotantes :** *float* = 10.4\n",
        "3. **Cadenas de caracteres:** *str* = \"Hola, mundo!\""
      ],
      "metadata": {
        "id": "APXg8hLYmKBs"
      }
    },
    {
      "cell_type": "markdown",
      "source": [
        "# Variables\n",
        "\n",
        "Es una \"caja\" en la que podemos guardar un valor. Esta \"caja\" tiene un espacio en la memoria.\n",
        "\n",
        "Se pueden represtarn con letras, palabras completas. Ej.\n",
        "\n",
        "- x = 1\n",
        "- precio_dolar = 19.94\n",
        "- capital_mexico = \"cdmx\"\n",
        "- bebo_poco = True\n",
        "\n",
        "**Nombres NO válidos:**\n",
        "\n",
        "- Números: 1, 2, 3, ..., n\n",
        "- Palabras **reservadas** o **integradas** (built-in) en Python: str, int, float, print"
      ],
      "metadata": {
        "id": "oxkzSu-A4IXf"
      }
    },
    {
      "cell_type": "markdown",
      "source": [
        "# Funciones\n",
        "Son instrucciones de código reutilizables que llevan a cabo una tarea en particular\n",
        "\n",
        "1. **type** - Regresa el tipo de dato del objeto\n",
        "2. **print** - Función que envía la información solicitada a la ventana de consola"
      ],
      "metadata": {
        "id": "S-YitxWB4LJ_"
      }
    },
    {
      "cell_type": "markdown",
      "source": [
        "# Lab: Tipos de Datos"
      ],
      "metadata": {
        "id": "XYfFbvFx4RCk"
      }
    },
    {
      "cell_type": "markdown",
      "source": [
        "## Tipo int"
      ],
      "metadata": {
        "id": "lSptwM-1uJpF"
      }
    },
    {
      "cell_type": "code",
      "source": [
        "entero = 124"
      ],
      "metadata": {
        "id": "ddr_Tf7HtPsp"
      },
      "execution_count": null,
      "outputs": []
    },
    {
      "cell_type": "code",
      "source": [
        "print(entero)"
      ],
      "metadata": {
        "id": "xO1Mzw9ytZjU"
      },
      "execution_count": null,
      "outputs": []
    },
    {
      "cell_type": "code",
      "source": [
        "print(type(entero))"
      ],
      "metadata": {
        "id": "GuLtDXTGtdDM"
      },
      "execution_count": null,
      "outputs": []
    },
    {
      "cell_type": "markdown",
      "source": [
        "## Tipo float"
      ],
      "metadata": {
        "id": "OxlrU3cyuMmk"
      }
    },
    {
      "cell_type": "code",
      "source": [
        "dolar = 19.94"
      ],
      "metadata": {
        "id": "z3lbzYrGtrwA"
      },
      "execution_count": null,
      "outputs": []
    },
    {
      "cell_type": "code",
      "source": [
        "print(dolar)"
      ],
      "metadata": {
        "id": "sL3quT1ptutM"
      },
      "execution_count": null,
      "outputs": []
    },
    {
      "cell_type": "code",
      "source": [
        "print(type(dolar))"
      ],
      "metadata": {
        "id": "t2JeNBCkt1B2"
      },
      "execution_count": null,
      "outputs": []
    },
    {
      "cell_type": "markdown",
      "source": [
        "## Tipo bool"
      ],
      "metadata": {
        "id": "FJwbKG4guSDd"
      }
    },
    {
      "cell_type": "code",
      "source": [
        "bebo_poco = True"
      ],
      "metadata": {
        "id": "CRTByLzbt4Kx"
      },
      "execution_count": null,
      "outputs": []
    },
    {
      "cell_type": "code",
      "source": [
        "print(bebo_poco)"
      ],
      "metadata": {
        "id": "AVcjHGWYt_cr"
      },
      "execution_count": null,
      "outputs": []
    },
    {
      "cell_type": "code",
      "source": [
        "print(type(bebo_poco))"
      ],
      "metadata": {
        "id": "J7o4Fm3XuA_D"
      },
      "execution_count": null,
      "outputs": []
    },
    {
      "cell_type": "markdown",
      "source": [
        "## Tipo str"
      ],
      "metadata": {
        "id": "J8xuyvN2uUj1"
      }
    },
    {
      "cell_type": "code",
      "source": [
        "capital_mexico = \"cdmx\""
      ],
      "metadata": {
        "id": "PQw5jCwPuWGl"
      },
      "execution_count": null,
      "outputs": []
    },
    {
      "cell_type": "code",
      "source": [
        "capital_mexico = 'cdmx'"
      ],
      "metadata": {
        "id": "XHG6ikRauZVA"
      },
      "execution_count": null,
      "outputs": []
    },
    {
      "cell_type": "code",
      "source": [
        "print(capital_mexico)"
      ],
      "metadata": {
        "id": "A6zHpvkmubol"
      },
      "execution_count": null,
      "outputs": []
    },
    {
      "cell_type": "code",
      "source": [
        "print(type(capital_mexico))"
      ],
      "metadata": {
        "id": "KRDly-fduld2"
      },
      "execution_count": null,
      "outputs": []
    },
    {
      "cell_type": "markdown",
      "source": [
        "## Casteo\n",
        "\n",
        "Nos permite convertir de un tipo de dato a otro. Para ello usamos **constructor functions**:\n",
        "- int()\n",
        "- float()\n",
        "- str()"
      ],
      "metadata": {
        "id": "F9PEnVRIxlaR"
      }
    },
    {
      "cell_type": "code",
      "source": [
        "x = '2'\n",
        "print(x)"
      ],
      "metadata": {
        "id": "PWxOFceWx_y0"
      },
      "execution_count": null,
      "outputs": []
    },
    {
      "cell_type": "code",
      "source": [
        "print(x * 3)"
      ],
      "metadata": {
        "id": "NUeZMwpxyfXl"
      },
      "execution_count": null,
      "outputs": []
    },
    {
      "cell_type": "code",
      "source": [
        "y = 2\n",
        "print(y)"
      ],
      "metadata": {
        "id": "x83RQgxOyLLl"
      },
      "execution_count": null,
      "outputs": []
    },
    {
      "cell_type": "code",
      "source": [
        "x_int = int(x)"
      ],
      "metadata": {
        "id": "Ha0tjbqoyCvv"
      },
      "execution_count": null,
      "outputs": []
    },
    {
      "cell_type": "code",
      "source": [
        "print(x_int)"
      ],
      "metadata": {
        "id": "mGw9W3qfylp4"
      },
      "execution_count": null,
      "outputs": []
    },
    {
      "cell_type": "code",
      "source": [
        "print(type(x_int))"
      ],
      "metadata": {
        "id": "UnGRXuy4yGvu"
      },
      "execution_count": null,
      "outputs": []
    },
    {
      "cell_type": "code",
      "source": [
        "dolar = float(19.94)"
      ],
      "metadata": {
        "id": "MrBK1IYm5TGP"
      },
      "execution_count": null,
      "outputs": []
    },
    {
      "cell_type": "code",
      "source": [
        "print(type(dolar))"
      ],
      "metadata": {
        "id": "EhGW3xJg5XA_"
      },
      "execution_count": null,
      "outputs": []
    },
    {
      "cell_type": "markdown",
      "source": [
        "# Built-in Exceptions\n",
        "Algunos errores de sintaxis levantaran una \"Excepción\".\n",
        "\n",
        "\n",
        "- **NameError**: Ocurre cuando intetamos acceder a una variable o función que **aún no está definida**. \n",
        "- **SyntaxError:** EOL while scanning string literal. EOL (End of line). Python llégo al final de una línea mientras pasaba por una cadena de caracteres. Recuerda siempre cerrar las \"comillas\".\n",
        "- **SyntaxError:** unexpected EOF while parsing. Puede deberse a que no cerramos con un paréntesis."
      ],
      "metadata": {
        "id": "HVajGk_nuy6R"
      }
    },
    {
      "cell_type": "markdown",
      "source": [
        "## NameError"
      ],
      "metadata": {
        "id": "Zl6l9Tow4BnC"
      }
    },
    {
      "cell_type": "code",
      "source": [
        "Print()"
      ],
      "metadata": {
        "id": "teYP0AM0u3fv"
      },
      "execution_count": null,
      "outputs": []
    },
    {
      "cell_type": "markdown",
      "source": [
        "## SyntaxError"
      ],
      "metadata": {
        "id": "CPHc-Kqr4det"
      }
    },
    {
      "cell_type": "markdown",
      "source": [
        "Al no cerrar las comillas"
      ],
      "metadata": {
        "id": "3-J0-3pP4iRQ"
      }
    },
    {
      "cell_type": "code",
      "source": [
        "print('Hola, mundo)"
      ],
      "metadata": {
        "id": "TTOVrt4Tv6h4"
      },
      "execution_count": null,
      "outputs": []
    },
    {
      "cell_type": "markdown",
      "source": [
        "Al no cerrar paréntesis"
      ],
      "metadata": {
        "id": "Ob0Lqc4r4p78"
      }
    },
    {
      "cell_type": "code",
      "source": [
        "print('Hola, mundo'"
      ],
      "metadata": {
        "id": "pJ1ZCCxTv-sq"
      },
      "execution_count": null,
      "outputs": []
    },
    {
      "cell_type": "markdown",
      "source": [
        "# Ejercicio\n",
        "\n",
        "Depurar el código, para ejecutar el siguiente bloque de código SIN errores.\n",
        "\n",
        "**Valor esperado:** 12.5664\n"
      ],
      "metadata": {
        "id": "u7_rStJNxOFV"
      }
    },
    {
      "cell_type": "code",
      "source": [
        "print(area_circulo)\n",
        "\n",
        "pi = '3.1416'\n",
        "radio = 2\n",
        "\n",
        "area_circulo = pi * radio * radio\n",
        "\n",
        "prinT('El área del circulo es: \")"
      ],
      "metadata": {
        "id": "3vg1VO3AxMVK"
      },
      "execution_count": null,
      "outputs": []
    }
  ]
}