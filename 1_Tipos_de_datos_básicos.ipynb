{
  "nbformat": 4,
  "nbformat_minor": 0,
  "metadata": {
    "colab": {
      "provenance": [],
      "collapsed_sections": [],
      "mount_file_id": "1M0Bi6-x7TXZcIIGK32q-v4kPDE7QbWVL",
      "authorship_tag": "ABX9TyNHgPGo353CUwGW7XRGUC7r",
      "include_colab_link": true
    },
    "kernelspec": {
      "name": "python3",
      "display_name": "Python 3"
    },
    "language_info": {
      "name": "python"
    }
  },
  "cells": [
    {
      "cell_type": "markdown",
      "metadata": {
        "id": "view-in-github",
        "colab_type": "text"
      },
      "source": [
        "<a href=\"https://colab.research.google.com/github/cuauhtemocbe/Python-Basics/blob/main/1_Tipos_de_datos_b%C3%A1sicos.ipynb\" target=\"_parent\"><img src=\"https://colab.research.google.com/assets/colab-badge.svg\" alt=\"Open In Colab\"/></a>"
      ]
    },
    {
      "cell_type": "markdown",
      "source": [
        "## Tipos de Datos\n",
        "\n",
        "Los tipos de datos son un conjunto de valores con características y propiedades determinadas. \n",
        "\n",
        "Los datos básicos son:\n",
        "\n",
        "1. **Booleanos :** *bool* = True, False\n",
        "2. **Númericos:**\n",
        "  - **Enteros :** *int* = 10\n",
        "  - **Flotantes :** *float* = 10.4\n",
        "3. **Cadenas de caracteres:** *str* = \"Hola, mundo!\"\n",
        "\n",
        "## Variables\n",
        "\n",
        "Es una \"caja\" en la que podemos guardar un valor. Esta \"caja\" tiene un espacio en la memoria.\n",
        "\n",
        "Se pueden represtarn con letras, palabras completas. Ej.\n",
        "\n",
        "- x = 1\n",
        "- precio_dolar = 19.94\n",
        "- capital_mexico = \"cdmx\"\n",
        "- bebo_poco = True\n",
        "\n",
        "**Nombres NO válidos:**\n",
        "\n",
        "- Números: 1, 2, 3, ..., n\n",
        "- Palabras **reservadas** o **integradas** (built-in) en Python: str, int, float, print\n",
        "\n",
        "\n",
        "## Funciones\n",
        "Son instrucciones de código reutilizables que llevan a cabo una tarea en particular\n",
        "\n",
        "1. **type** - Regresa el tipo de dato del objeto\n",
        "2. **print** - Función que envía la información solicitada a la ventana de consola"
      ],
      "metadata": {
        "id": "APXg8hLYmKBs"
      }
    },
    {
      "cell_type": "markdown",
      "source": [
        "### Tipo int"
      ],
      "metadata": {
        "id": "lSptwM-1uJpF"
      }
    },
    {
      "cell_type": "code",
      "source": [
        "entero = 124"
      ],
      "metadata": {
        "id": "ddr_Tf7HtPsp"
      },
      "execution_count": 7,
      "outputs": []
    },
    {
      "cell_type": "code",
      "source": [
        "print(entero)"
      ],
      "metadata": {
        "id": "xO1Mzw9ytZjU",
        "outputId": "9f3cd7bd-0a42-4434-c1f7-8fc80eec6ba1",
        "colab": {
          "base_uri": "https://localhost:8080/"
        }
      },
      "execution_count": 8,
      "outputs": [
        {
          "output_type": "stream",
          "name": "stdout",
          "text": [
            "124\n"
          ]
        }
      ]
    },
    {
      "cell_type": "code",
      "source": [
        "print(type(entero))"
      ],
      "metadata": {
        "id": "GuLtDXTGtdDM",
        "outputId": "61ff8791-7d08-48a3-a192-5152300a2e63",
        "colab": {
          "base_uri": "https://localhost:8080/"
        }
      },
      "execution_count": 9,
      "outputs": [
        {
          "output_type": "stream",
          "name": "stdout",
          "text": [
            "<class 'int'>\n"
          ]
        }
      ]
    },
    {
      "cell_type": "markdown",
      "source": [
        "### Tipo float"
      ],
      "metadata": {
        "id": "OxlrU3cyuMmk"
      }
    },
    {
      "cell_type": "code",
      "source": [
        "dolar = 19.94"
      ],
      "metadata": {
        "id": "z3lbzYrGtrwA"
      },
      "execution_count": 11,
      "outputs": []
    },
    {
      "cell_type": "code",
      "source": [
        "print(dolar)"
      ],
      "metadata": {
        "id": "sL3quT1ptutM",
        "outputId": "7e346127-5db5-4630-cc6a-00b0faf7c51b",
        "colab": {
          "base_uri": "https://localhost:8080/"
        }
      },
      "execution_count": 12,
      "outputs": [
        {
          "output_type": "stream",
          "name": "stdout",
          "text": [
            "19.94\n"
          ]
        }
      ]
    },
    {
      "cell_type": "code",
      "source": [
        "print(type(dolar))"
      ],
      "metadata": {
        "id": "t2JeNBCkt1B2",
        "outputId": "251a853e-e22e-4cb3-8ff6-f3d0e0f86844",
        "colab": {
          "base_uri": "https://localhost:8080/"
        }
      },
      "execution_count": 13,
      "outputs": [
        {
          "output_type": "stream",
          "name": "stdout",
          "text": [
            "<class 'float'>\n"
          ]
        }
      ]
    },
    {
      "cell_type": "markdown",
      "source": [
        "### Tipo bool"
      ],
      "metadata": {
        "id": "FJwbKG4guSDd"
      }
    },
    {
      "cell_type": "code",
      "source": [
        "bebo_poco = True"
      ],
      "metadata": {
        "id": "CRTByLzbt4Kx"
      },
      "execution_count": 14,
      "outputs": []
    },
    {
      "cell_type": "code",
      "source": [
        "print(bebo_poco)"
      ],
      "metadata": {
        "id": "AVcjHGWYt_cr",
        "outputId": "e61ce30a-0ca9-4c79-8176-d2a478bd1137",
        "colab": {
          "base_uri": "https://localhost:8080/"
        }
      },
      "execution_count": 15,
      "outputs": [
        {
          "output_type": "stream",
          "name": "stdout",
          "text": [
            "True\n"
          ]
        }
      ]
    },
    {
      "cell_type": "code",
      "source": [
        "print(type(bebo_poco))"
      ],
      "metadata": {
        "id": "J7o4Fm3XuA_D",
        "outputId": "49a64428-1b4f-466f-9f4e-54b4c393430a",
        "colab": {
          "base_uri": "https://localhost:8080/"
        }
      },
      "execution_count": 16,
      "outputs": [
        {
          "output_type": "stream",
          "name": "stdout",
          "text": [
            "<class 'bool'>\n"
          ]
        }
      ]
    },
    {
      "cell_type": "markdown",
      "source": [
        "### Tipo str"
      ],
      "metadata": {
        "id": "J8xuyvN2uUj1"
      }
    },
    {
      "cell_type": "code",
      "source": [
        "capital_mexico = \"cdmx\""
      ],
      "metadata": {
        "id": "PQw5jCwPuWGl"
      },
      "execution_count": 17,
      "outputs": []
    },
    {
      "cell_type": "code",
      "source": [
        "capital_mexico = 'cdmx'"
      ],
      "metadata": {
        "id": "XHG6ikRauZVA"
      },
      "execution_count": 18,
      "outputs": []
    },
    {
      "cell_type": "code",
      "source": [
        "print(capital_mexico)"
      ],
      "metadata": {
        "id": "A6zHpvkmubol",
        "outputId": "f9fbf7bb-0eba-4b57-ffe4-417e4e38c542",
        "colab": {
          "base_uri": "https://localhost:8080/"
        }
      },
      "execution_count": 19,
      "outputs": [
        {
          "output_type": "stream",
          "name": "stdout",
          "text": [
            "cdmx\n"
          ]
        }
      ]
    },
    {
      "cell_type": "code",
      "source": [
        "print(type(capital_mexico))"
      ],
      "metadata": {
        "id": "KRDly-fduld2",
        "outputId": "b9e63010-1030-4932-b5db-3b36572e4661",
        "colab": {
          "base_uri": "https://localhost:8080/"
        }
      },
      "execution_count": 20,
      "outputs": [
        {
          "output_type": "stream",
          "name": "stdout",
          "text": [
            "<class 'str'>\n"
          ]
        }
      ]
    },
    {
      "cell_type": "markdown",
      "source": [
        "## Casteo\n",
        "\n",
        "Nos permite convertir de un tipo de dato a otro. Para ello usamos **constructor functions**:\n",
        "- int()\n",
        "- float()\n",
        "- str()"
      ],
      "metadata": {
        "id": "F9PEnVRIxlaR"
      }
    },
    {
      "cell_type": "code",
      "source": [
        "x = '2'\n",
        "print(x)"
      ],
      "metadata": {
        "id": "PWxOFceWx_y0",
        "outputId": "a2302f64-18f4-4715-b686-b4714130f2dc",
        "colab": {
          "base_uri": "https://localhost:8080/"
        }
      },
      "execution_count": 27,
      "outputs": [
        {
          "output_type": "stream",
          "name": "stdout",
          "text": [
            "2\n"
          ]
        }
      ]
    },
    {
      "cell_type": "code",
      "source": [
        "print(x * 3)"
      ],
      "metadata": {
        "id": "NUeZMwpxyfXl",
        "outputId": "c73805cd-c2c6-4f9a-e729-01e7dbad6edd",
        "colab": {
          "base_uri": "https://localhost:8080/"
        }
      },
      "execution_count": 32,
      "outputs": [
        {
          "output_type": "stream",
          "name": "stdout",
          "text": [
            "222\n"
          ]
        }
      ]
    },
    {
      "cell_type": "code",
      "source": [
        "y = 2\n",
        "print(y)"
      ],
      "metadata": {
        "id": "x83RQgxOyLLl",
        "outputId": "1f305db8-e3f9-4bf4-b74f-15e3c8b4c5bf",
        "colab": {
          "base_uri": "https://localhost:8080/"
        }
      },
      "execution_count": 29,
      "outputs": [
        {
          "output_type": "stream",
          "name": "stdout",
          "text": [
            "2\n"
          ]
        }
      ]
    },
    {
      "cell_type": "code",
      "source": [
        "x_int = int(x)"
      ],
      "metadata": {
        "id": "Ha0tjbqoyCvv"
      },
      "execution_count": 33,
      "outputs": []
    },
    {
      "cell_type": "code",
      "source": [
        "print(x_int)"
      ],
      "metadata": {
        "id": "mGw9W3qfylp4",
        "outputId": "f3488912-064b-41eb-85a7-a415848bd3b2",
        "colab": {
          "base_uri": "https://localhost:8080/"
        }
      },
      "execution_count": 34,
      "outputs": [
        {
          "output_type": "stream",
          "name": "stdout",
          "text": [
            "2\n"
          ]
        }
      ]
    },
    {
      "cell_type": "code",
      "source": [
        "print(type(x_int))"
      ],
      "metadata": {
        "id": "UnGRXuy4yGvu",
        "outputId": "dce3f590-0a07-4247-d88c-44cec6ffe791",
        "colab": {
          "base_uri": "https://localhost:8080/"
        }
      },
      "execution_count": 35,
      "outputs": [
        {
          "output_type": "stream",
          "name": "stdout",
          "text": [
            "<class 'int'>\n"
          ]
        }
      ]
    },
    {
      "cell_type": "markdown",
      "source": [
        "## Built-in Exceptions\n",
        "Algunos errores de sintaxis levantaran una \"Excepción\".\n",
        "\n",
        "\n",
        "- **NameError**: Ocurre cuando intetamos acceder a una variable o función que **aún no está definida**. \n",
        "- **SyntaxError:** EOL while scanning string literal. EOL (End of line). Python llégo al final de una línea mientras pasaba por una cadena de caracteres. Recuerda siempre cerrar las \"comillas\".\n",
        "- **SyntaxError:** unexpected EOF while parsing. Puede deberse a que no cerramos con un paréntesis."
      ],
      "metadata": {
        "id": "HVajGk_nuy6R"
      }
    },
    {
      "cell_type": "code",
      "source": [
        "Print()"
      ],
      "metadata": {
        "id": "teYP0AM0u3fv",
        "outputId": "1de95489-5279-4c2d-fec5-6ce4bd97e397",
        "colab": {
          "base_uri": "https://localhost:8080/",
          "height": 170
        }
      },
      "execution_count": 22,
      "outputs": [
        {
          "output_type": "error",
          "ename": "NameError",
          "evalue": "ignored",
          "traceback": [
            "\u001b[0;31m---------------------------------------------------------------------------\u001b[0m",
            "\u001b[0;31mNameError\u001b[0m                                 Traceback (most recent call last)",
            "\u001b[0;32m<ipython-input-22-16a7674feaa5>\u001b[0m in \u001b[0;36m<module>\u001b[0;34m\u001b[0m\n\u001b[0;32m----> 1\u001b[0;31m \u001b[0mPrint\u001b[0m\u001b[0;34m(\u001b[0m\u001b[0;34m)\u001b[0m\u001b[0;34m\u001b[0m\u001b[0;34m\u001b[0m\u001b[0m\n\u001b[0m",
            "\u001b[0;31mNameError\u001b[0m: name 'Print' is not defined"
          ]
        }
      ]
    },
    {
      "cell_type": "code",
      "source": [
        "print('Hola, mundo)"
      ],
      "metadata": {
        "id": "TTOVrt4Tv6h4",
        "outputId": "917cb9a3-434d-4b9b-d0a1-343ac16bfd38",
        "colab": {
          "base_uri": "https://localhost:8080/",
          "height": 134
        }
      },
      "execution_count": 23,
      "outputs": [
        {
          "output_type": "error",
          "ename": "SyntaxError",
          "evalue": "ignored",
          "traceback": [
            "\u001b[0;36m  File \u001b[0;32m\"<ipython-input-23-8ff7366cc425>\"\u001b[0;36m, line \u001b[0;32m1\u001b[0m\n\u001b[0;31m    print('Hola, mundo)\u001b[0m\n\u001b[0m                       ^\u001b[0m\n\u001b[0;31mSyntaxError\u001b[0m\u001b[0;31m:\u001b[0m EOL while scanning string literal\n"
          ]
        }
      ]
    },
    {
      "cell_type": "code",
      "source": [
        "print('Hola, mundo'"
      ],
      "metadata": {
        "id": "pJ1ZCCxTv-sq",
        "outputId": "3e1c2970-25b4-4fc6-e7bc-88f67b43a73f",
        "colab": {
          "base_uri": "https://localhost:8080/",
          "height": 134
        }
      },
      "execution_count": 24,
      "outputs": [
        {
          "output_type": "error",
          "ename": "SyntaxError",
          "evalue": "ignored",
          "traceback": [
            "\u001b[0;36m  File \u001b[0;32m\"<ipython-input-24-227742645cdb>\"\u001b[0;36m, line \u001b[0;32m1\u001b[0m\n\u001b[0;31m    print('Hola, mundo'\u001b[0m\n\u001b[0m                       ^\u001b[0m\n\u001b[0;31mSyntaxError\u001b[0m\u001b[0;31m:\u001b[0m unexpected EOF while parsing\n"
          ]
        }
      ]
    },
    {
      "cell_type": "markdown",
      "source": [
        "### Ejercicio\n",
        "\n",
        "Ejecuta SIN errores el siguiente bloque de código:"
      ],
      "metadata": {
        "id": "u7_rStJNxOFV"
      }
    },
    {
      "cell_type": "code",
      "source": [
        "print(area_circulo)\n",
        "\n",
        "pi = '3.1416'\n",
        "radio = 2\n",
        "\n",
        "area_circulo = pi * radio * radio\n",
        "\n",
        "prinT('El área del circulo es: )"
      ],
      "metadata": {
        "id": "3vg1VO3AxMVK",
        "outputId": "46294d01-99cf-446b-d54f-9e63a4dd8114",
        "colab": {
          "base_uri": "https://localhost:8080/",
          "height": 224
        }
      },
      "execution_count": 7,
      "outputs": [
        {
          "output_type": "stream",
          "name": "stdout",
          "text": [
            "3.14163.14163.14163.1416\n"
          ]
        },
        {
          "output_type": "error",
          "ename": "NameError",
          "evalue": "ignored",
          "traceback": [
            "\u001b[0;31m---------------------------------------------------------------------------\u001b[0m",
            "\u001b[0;31mNameError\u001b[0m                                 Traceback (most recent call last)",
            "\u001b[0;32m<ipython-input-7-9ad2021f74e9>\u001b[0m in \u001b[0;36m<module>\u001b[0;34m\u001b[0m\n\u001b[1;32m      6\u001b[0m \u001b[0marea_circulo\u001b[0m \u001b[0;34m=\u001b[0m \u001b[0mpi\u001b[0m \u001b[0;34m*\u001b[0m \u001b[0mradio\u001b[0m \u001b[0;34m*\u001b[0m \u001b[0mradio\u001b[0m\u001b[0;34m\u001b[0m\u001b[0;34m\u001b[0m\u001b[0m\n\u001b[1;32m      7\u001b[0m \u001b[0;34m\u001b[0m\u001b[0m\n\u001b[0;32m----> 8\u001b[0;31m \u001b[0mprinT\u001b[0m\u001b[0;34m(\u001b[0m\u001b[0;34m'El área del circulo es: '\u001b[0m\u001b[0;34m)\u001b[0m\u001b[0;34m\u001b[0m\u001b[0;34m\u001b[0m\u001b[0m\n\u001b[0m",
            "\u001b[0;31mNameError\u001b[0m: name 'prinT' is not defined"
          ]
        }
      ]
    }
  ]
}