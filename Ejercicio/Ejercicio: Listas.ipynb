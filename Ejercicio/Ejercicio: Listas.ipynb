{
  "nbformat": 4,
  "nbformat_minor": 0,
  "metadata": {
    "colab": {
      "provenance": [],
      "authorship_tag": "ABX9TyNRxL6fN+4R0SjIU0g/JJVW",
      "include_colab_link": true
    },
    "kernelspec": {
      "name": "python3",
      "display_name": "Python 3"
    },
    "language_info": {
      "name": "python"
    }
  },
  "cells": [
    {
      "cell_type": "markdown",
      "metadata": {
        "id": "view-in-github",
        "colab_type": "text"
      },
      "source": [
        "<a href=\"https://colab.research.google.com/github/cuauhtemocbe/Python-Basics/blob/main/Ejercicio/Ejercicio:%20Listas.ipynb\" target=\"_parent\"><img src=\"https://colab.research.google.com/assets/colab-badge.svg\" alt=\"Open In Colab\"/></a>"
      ]
    },
    {
      "cell_type": "markdown",
      "source": [
        "# Ejercicios con listas"
      ],
      "metadata": {
        "id": "JnAaAHKbtTkr"
      }
    },
    {
      "cell_type": "markdown",
      "source": [
        "1. Redes sociales\n",
        "> a) Crea una lista con el nombre de 5 redes sociales.<br> \n",
        "b) Ordena la lista\n",
        "c) Imprime la lista"
      ],
      "metadata": {
        "id": "fbz409a_tWyY"
      }
    },
    {
      "cell_type": "code",
      "execution_count": null,
      "metadata": {
        "id": "d884EGfGtR3z"
      },
      "outputs": [],
      "source": []
    },
    {
      "cell_type": "markdown",
      "source": [
        "2. Dioses griegos <br>\n",
        "a) Crea una lista con los siguientes dioses griegos: Zeus, Poseidón, Hades, Hermes, Hera, Atenea, Artemisa <br>\n",
        "b) Ordena la lista <br>\n",
        "c) ¿Cuántos dioses hay en la lista? <br>\n",
        "d) Imprime el valor Atenea\n"
      ],
      "metadata": {
        "id": "smSUQ_vu75RJ"
      }
    },
    {
      "cell_type": "code",
      "source": [],
      "metadata": {
        "id": "rnC7g7hJuagx"
      },
      "execution_count": null,
      "outputs": []
    },
    {
      "cell_type": "markdown",
      "source": [
        "2. Planetas\n",
        "a) Convierte el siguiente string `\"Marte|Venus|Tierra|Júpiter|Saturno\"`en una lista. Usa el método split <br>\n",
        "b) Ordena la lista <br>\n",
        "c) Crea un algoritmo para revisar si un planeta dado es gaseoso o rocos. <br>\n",
        ">Los planetas **rocosos** son: Mercurio, Venus, La Tierra y Marte. Los planetas **gaseosos** son: Júpiter, Saturno, Urano y Neptuno "
      ],
      "metadata": {
        "id": "fPOaXheNtitm"
      }
    },
    {
      "cell_type": "code",
      "source": [],
      "metadata": {
        "id": "W3HTA51IuQD0"
      },
      "execution_count": null,
      "outputs": []
    },
    {
      "cell_type": "markdown",
      "source": [
        "3. Calificaciones\n",
        "> a) Crear una lista de números flotantes: 9.0, 2.0, 5.0, 9.0, 10.0, 8.5<br>\n",
        "b) Obtén el promedio redondeado a dos dígitos"
      ],
      "metadata": {
        "id": "SFmwUcUDubdw"
      }
    },
    {
      "cell_type": "code",
      "source": [],
      "metadata": {
        "id": "gpMyuBYE72GC"
      },
      "execution_count": null,
      "outputs": []
    }
  ]
}
