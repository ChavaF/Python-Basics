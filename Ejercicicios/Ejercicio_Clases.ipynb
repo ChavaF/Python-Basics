{
  "nbformat": 4,
  "nbformat_minor": 0,
  "metadata": {
    "colab": {
      "provenance": [],
      "authorship_tag": "ABX9TyPnYcOQamEAAzbMtPRNyjDn",
      "include_colab_link": true
    },
    "kernelspec": {
      "name": "python3",
      "display_name": "Python 3"
    },
    "language_info": {
      "name": "python"
    }
  },
  "cells": [
    {
      "cell_type": "markdown",
      "metadata": {
        "id": "view-in-github",
        "colab_type": "text"
      },
      "source": [
        "<a href=\"https://colab.research.google.com/github/cuauhtemocbe/Python-Basics/blob/main/Ejercicicios/Ejercicio_Clases.ipynb\" target=\"_parent\"><img src=\"https://colab.research.google.com/assets/colab-badge.svg\" alt=\"Open In Colab\"/></a>"
      ]
    },
    {
      "cell_type": "markdown",
      "source": [
        "1. Desarrolla una función para obtener el área de un cuadrado"
      ],
      "metadata": {
        "id": "nX5yDjkKtw0Z"
      }
    },
    {
      "cell_type": "code",
      "execution_count": null,
      "metadata": {
        "id": "kp8dM_Cdtrnl"
      },
      "outputs": [],
      "source": []
    },
    {
      "cell_type": "markdown",
      "source": [
        "2. Desarrolla una clase para obtener el área de un cuadrado:\n",
        "\n",
        "- Recuerda usar las siguientes palabras clave: class, __init__, self"
      ],
      "metadata": {
        "id": "SSS2eUMLt1rT"
      }
    },
    {
      "cell_type": "code",
      "source": [],
      "metadata": {
        "id": "xZImLx_UuNiG"
      },
      "execution_count": null,
      "outputs": []
    },
    {
      "cell_type": "markdown",
      "source": [
        "2.1 Agrega las siguientes variables (atributos) a la clase:\n",
        "- color\n",
        "- ancho de la línea\n",
        "- relleno"
      ],
      "metadata": {
        "id": "kr8Ig-XGuOay"
      }
    },
    {
      "cell_type": "code",
      "source": [],
      "metadata": {
        "id": "FJdM_i34ufVJ"
      },
      "execution_count": null,
      "outputs": []
    }
  ]
}