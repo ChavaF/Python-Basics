{
  "nbformat": 4,
  "nbformat_minor": 0,
  "metadata": {
    "colab": {
      "provenance": [],
      "authorship_tag": "ABX9TyOD9Ib3BLmsQ0Q9ChFxaxba",
      "include_colab_link": true
    },
    "kernelspec": {
      "name": "python3",
      "display_name": "Python 3"
    },
    "language_info": {
      "name": "python"
    }
  },
  "cells": [
    {
      "cell_type": "markdown",
      "metadata": {
        "id": "view-in-github",
        "colab_type": "text"
      },
      "source": [
        "<a href=\"https://colab.research.google.com/github/cuauhtemocbe/Python-Basics/blob/main/Ejercicios/Ejercicio%3A%20bucles.ipynb\" target=\"_parent\"><img src=\"https://colab.research.google.com/assets/colab-badge.svg\" alt=\"Open In Colab\"/></a>"
      ]
    },
    {
      "cell_type": "markdown",
      "source": [
        "1. Promedio Artesanal <br>\n",
        "a) Obtén el promedio de la siguiente lista: 1.67, 1.67, 1.62, 0.5, 1.45, 6.05, 7.64, 7.23, 4.44, 7.63, 4.54, 5.55, 6.87, 4.3, 4.23, 8.34, 8.88, 9.95, 9.86, 8.56 <br>\n",
        "b) No puedes usar la función len ni sum. <br>\n",
        "c) Usa el ciclo for <br>\n",
        "d) Redondea el resultado a dos digítos <br>\n",
        "e) Usa f-string para dar formato al print <br>"
      ],
      "metadata": {
        "id": "U5RD2F5bFLan"
      }
    },
    {
      "cell_type": "code",
      "execution_count": null,
      "metadata": {
        "id": "pZf3XaXTFINu"
      },
      "outputs": [],
      "source": []
    },
    {
      "cell_type": "markdown",
      "source": [
        "2. Tablas del 2 <br>\n",
        "a) Usando un ciclo for, genera la tabla de multiplicar del 2. <br>\n",
        "b) Recuerda usar los f-string para manejar los prints <br>\n",
        "\n",
        "Ejemplo del output esperado:\n",
        "\n",
        "```\n",
        "Tabla del 2 \n",
        "\n",
        "2 x 1 = 2\n",
        "2 x 2 = 4\n",
        "2 x 3 = 6\n",
        "2 x 4 = 8\n",
        "2 x 5 = 10\n",
        "2 x 6 = 12\n",
        "2 x 7 = 14\n",
        "2 x 8 = 16\n",
        "2 x 9 = 18\n",
        "2 x 10 = 20\n",
        "```"
      ],
      "metadata": {
        "id": "wRsHVh-mHGHT"
      }
    },
    {
      "cell_type": "code",
      "source": [],
      "metadata": {
        "id": "qEZUlaEBHFwi"
      },
      "execution_count": null,
      "outputs": []
    },
    {
      "cell_type": "markdown",
      "source": [
        "3. Patrones\n",
        "\n",
        "a) Imprime el siguiente patrón usando un ciclo for.\n",
        "\n",
        "```\n",
        "+\n",
        "++\n",
        "+++\n",
        "++++\n",
        "+++++\n",
        "```"
      ],
      "metadata": {
        "id": "mu_I9C0qHuAr"
      }
    },
    {
      "cell_type": "markdown",
      "source": [
        "4. Patrones avanzados\n",
        "\n",
        "a) Imprime el siguiente patrón usando un ciclo for:\n",
        "\n",
        "```\n",
        "@\n",
        "++\n",
        "+++\n",
        "++++\n",
        "+++++\n",
        "++++\n",
        "+++\n",
        "++\n",
        "@\n",
        "```\n",
        "b) Recuerda que puedes usar condicionales"
      ],
      "metadata": {
        "id": "3bQD3tJpH_57"
      }
    },
    {
      "cell_type": "code",
      "source": [],
      "metadata": {
        "id": "J9l26dvNIlHN"
      },
      "execution_count": null,
      "outputs": []
    },
    {
      "cell_type": "markdown",
      "source": [
        "5. Tablas de multiplicar <br>\n",
        "a) Usando un ciclo for, para genera las tablas de multiplicar del 1 al 10. <br>\n",
        "b) Usa un ciclo for anidado <br>\n",
        "c) Recuerda usar los f-string para manejar los prints <br>\n",
        "\n",
        "Ejemplo del output esperado:\n",
        "\n",
        "```\n",
        "== Tabla del 2 ==\n",
        "\n",
        "2 x 1 = 2\n",
        ".\n",
        ".\n",
        ".\n",
        "2 x 10 = 20\n",
        "\n",
        "== Tabla del 3 ==\n",
        "\n",
        "3 x 1 = 3\n",
        ".\n",
        ".\n",
        ".\n",
        "3 x 10 = 30\n",
        "\n",
        "```"
      ],
      "metadata": {
        "id": "vNgpV4vRFsVO"
      }
    },
    {
      "cell_type": "code",
      "source": [],
      "metadata": {
        "id": "Ed3rzg6uGkZ6"
      },
      "execution_count": null,
      "outputs": []
    }
  ]
}