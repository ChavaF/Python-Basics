{
  "nbformat": 4,
  "nbformat_minor": 0,
  "metadata": {
    "colab": {
      "provenance": [],
      "authorship_tag": "ABX9TyOUMdZx3FCtjtwU9RJD3VMr",
      "include_colab_link": true
    },
    "kernelspec": {
      "name": "python3",
      "display_name": "Python 3"
    },
    "language_info": {
      "name": "python"
    }
  },
  "cells": [
    {
      "cell_type": "markdown",
      "metadata": {
        "id": "view-in-github",
        "colab_type": "text"
      },
      "source": [
        "<a href=\"https://colab.research.google.com/github/cuauhtemocbe/Python-Basics/blob/main/Ejercicios/Ejercicios_Funciones.ipynb\" target=\"_parent\"><img src=\"https://colab.research.google.com/assets/colab-badge.svg\" alt=\"Open In Colab\"/></a>"
      ]
    },
    {
      "cell_type": "markdown",
      "source": [
        "1. Crea una función para identificar si un número es par o no lo es. <br>\n",
        "inputs: número <br>\n",
        "outputs: booleano"
      ],
      "metadata": {
        "id": "SUclDSgsmy7l"
      }
    },
    {
      "cell_type": "code",
      "execution_count": null,
      "metadata": {
        "id": "8LWjoAZSmvw1"
      },
      "outputs": [],
      "source": []
    },
    {
      "cell_type": "markdown",
      "source": [
        "2. Crea una función para convertir de grados centigrados a Fahrenheit. <br>\n",
        "inputs: número <br>\n",
        "outputs: número <br>\n",
        "\n",
        "Prueba la función dentro de un ciclo for con los siguientes números: 0, 10, 35.7, 60"
      ],
      "metadata": {
        "id": "QVc92hdzmzM-"
      }
    },
    {
      "cell_type": "code",
      "source": [],
      "metadata": {
        "id": "pqubZ32gnLjR"
      },
      "execution_count": null,
      "outputs": []
    },
    {
      "cell_type": "markdown",
      "source": [
        "3. Crea una función para convertir de grados fahrenheit a centigrados . <br>\n",
        "\n",
        "inputs: número <br>\n",
        "outputs: número"
      ],
      "metadata": {
        "id": "hc3rLQYDnL5V"
      }
    },
    {
      "cell_type": "code",
      "source": [],
      "metadata": {
        "id": "_nze66NvnZ41"
      },
      "execution_count": null,
      "outputs": []
    },
    {
      "cell_type": "markdown",
      "source": [
        "4. Crea una función para generar una secuencia fibonacci para la cantidad de número fibonacci solicitados:\n",
        "```\n",
        ">>> fibonacci(8)\n",
        "[0, 1, 1, 2, 3, 5, 8, 13]\n",
        "```\n",
        "\n",
        "inputs: número <br>\n",
        "outputs: lista"
      ],
      "metadata": {
        "id": "x9FVWNBYnb1W"
      }
    },
    {
      "cell_type": "code",
      "source": [],
      "metadata": {
        "id": "IaruCbCQnbQ1"
      },
      "execution_count": null,
      "outputs": []
    }
  ]
}