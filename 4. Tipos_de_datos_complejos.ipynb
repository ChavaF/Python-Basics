{
  "nbformat": 4,
  "nbformat_minor": 0,
  "metadata": {
    "colab": {
      "provenance": [],
      "collapsed_sections": [],
      "authorship_tag": "ABX9TyPAP0nnq1d+shm71KaNokHw",
      "include_colab_link": true
    },
    "kernelspec": {
      "name": "python3",
      "display_name": "Python 3"
    },
    "language_info": {
      "name": "python"
    }
  },
  "cells": [
    {
      "cell_type": "markdown",
      "metadata": {
        "id": "view-in-github",
        "colab_type": "text"
      },
      "source": [
        "<a href=\"https://colab.research.google.com/github/cuauhtemocbe/Python-Basics/blob/main/4. Tipos_de_datos_complejos.ipynb\" target=\"_parent\"><img src=\"https://colab.research.google.com/assets/colab-badge.svg\" alt=\"Open In Colab\"/></a>"
      ]
    },
    {
      "cell_type": "markdown",
      "source": [
        "## Tipos de datos complejos\n",
        "\n",
        "Son tipos de datos más avanzados que str, float, int o bool. <br>\n",
        "\n",
        "Son muy útiles para almacenar elementos (items) de una forma ordenada. \n",
        "\n",
        "**Palabras clave:** list, dict, set, range <br>\n",
        "**Vocabulario:** índice, heterogeneidad, mutables, llaves (keys), duplicados"
      ],
      "metadata": {
        "id": "nBKAPTioALGz"
      }
    },
    {
      "cell_type": "markdown",
      "metadata": {
        "id": "TuXvj2G5V6K_"
      },
      "source": [
        "# Listas"
      ]
    },
    {
      "cell_type": "markdown",
      "metadata": {
        "id": "pJk9JeyjWBEz"
      },
      "source": [
        "La **lista** en Python son un tipo de dato muy útil para almacenar datos. <br>\n",
        "De manera interna python asigna cada elemento a un índice. <br>\n",
        "Nota: Un array o matriz/vector es una serie de elementos ordenados en filas o columnas."
      ]
    },
    {
      "cell_type": "markdown",
      "metadata": {
        "id": "OJdOYljzYFew"
      },
      "source": [
        "Las listas son muy vérsatiles. Para crear una lista se mete la secuencia de datos dentro de corchetes **[ ]**"
      ]
    },
    {
      "cell_type": "code",
      "metadata": {
        "id": "CxzMzj8aYEoe",
        "colab": {
          "base_uri": "https://localhost:8080/"
        },
        "outputId": "aeac9c69-4015-4ba0-febf-08cbf43c3c5f"
      },
      "source": [
        "mi_primer_lista = []\n",
        "print('mi primera lista:', mi_primer_lista)\n",
        "print(type(mi_primer_lista))"
      ],
      "execution_count": null,
      "outputs": [
        {
          "output_type": "stream",
          "name": "stdout",
          "text": [
            "mi primera lista: []\n",
            "<class 'list'>\n"
          ]
        }
      ]
    },
    {
      "cell_type": "code",
      "metadata": {
        "id": "jVktw5M6CXLU",
        "colab": {
          "base_uri": "https://localhost:8080/"
        },
        "outputId": "86ecf868-1232-4231-f948-96d2e825dd0d"
      },
      "source": [
        "mi_segunda_lista = ['estoy adentro de la lista']\n",
        "print(mi_segunda_lista)"
      ],
      "execution_count": null,
      "outputs": [
        {
          "output_type": "stream",
          "name": "stdout",
          "text": [
            "['estoy adentro de la lista']\n"
          ]
        }
      ]
    },
    {
      "cell_type": "code",
      "metadata": {
        "id": "NwnTODZSrcZu",
        "colab": {
          "base_uri": "https://localhost:8080/"
        },
        "outputId": "b938c386-4122-46d3-a862-9ae1f87ba334"
      },
      "source": [
        "mi_tercera_lista = ['estoy', 'adentro', 'de', 'la', 'lista']\n",
        "print(mi_tercera_lista)"
      ],
      "execution_count": null,
      "outputs": [
        {
          "output_type": "stream",
          "name": "stdout",
          "text": [
            "['estoy', 'adentro', 'de', 'la', 'lista']\n"
          ]
        }
      ]
    },
    {
      "cell_type": "markdown",
      "metadata": {
        "id": "7XSkwBUBY1KM"
      },
      "source": [
        "Las listas en Python son:\n",
        "\n",
        "- **heterogéneas**: pueden estar conformadas por elementos de distintos tipo, incluidos otras listas.\n",
        "- **ordenadas**: La información se guarda mediante índices (index)\n",
        "- **mutables**: sus elementos pueden modificarse."
      ]
    },
    {
      "cell_type": "markdown",
      "metadata": {
        "id": "TD_tubqxZU95"
      },
      "source": [
        "### Heterogeneidad"
      ]
    },
    {
      "cell_type": "code",
      "metadata": {
        "id": "Vqk44wq5WA15",
        "colab": {
          "base_uri": "https://localhost:8080/"
        },
        "outputId": "fa8562ed-3073-44f2-89d3-54570ea9dec9"
      },
      "source": [
        "# Secuencia de elementos del mismo tipo\n",
        "nombres_paises_lista = ['Angola', 'Alemania', 'Brasil', 'México']\n",
        "print(type(nombres_paises_lista))\n",
        "print(nombres_paises_lista)"
      ],
      "execution_count": null,
      "outputs": [
        {
          "output_type": "stream",
          "name": "stdout",
          "text": [
            "<class 'list'>\n",
            "['Angola', 'Alemania', 'Brasil', 'México']\n"
          ]
        }
      ]
    },
    {
      "cell_type": "code",
      "metadata": {
        "id": "L5PaTx9OXoE8",
        "outputId": "4486bccc-1172-495a-a594-865a4b31098b",
        "colab": {
          "base_uri": "https://localhost:8080/"
        }
      },
      "source": [
        "# Secuencia de elementos de diferentes tipos\n",
        "mix_datos_lista = [1, 'Alameda', None, True, 10_000.05]\n",
        "print(type(mix_datos_lista))\n",
        "print(mix_datos_lista)"
      ],
      "execution_count": 1,
      "outputs": [
        {
          "output_type": "stream",
          "name": "stdout",
          "text": [
            "<class 'list'>\n",
            "[1, 'Alameda', None, True, 10000.05]\n"
          ]
        }
      ]
    },
    {
      "cell_type": "markdown",
      "metadata": {
        "id": "PXLaOL0_ZZbV"
      },
      "source": [
        "### Orden <br>\n",
        "Los elementos de una lista pueden accederse mediante su índice, siendo 0 el índice del primer elemento."
      ]
    },
    {
      "cell_type": "code",
      "metadata": {
        "id": "AeUCVK3ZoiJd"
      },
      "source": [
        "nombres_paises_lista = ['Angola', 'Alemania', 'Brasil', 'México']"
      ],
      "execution_count": 2,
      "outputs": []
    },
    {
      "cell_type": "code",
      "metadata": {
        "id": "-voABrv3Zjwb"
      },
      "source": [
        "#['Angola', 'Alemania', 'Brasil', 'México'][0]\n",
        "nombres_paises_lista[0]"
      ],
      "execution_count": null,
      "outputs": []
    },
    {
      "cell_type": "code",
      "metadata": {
        "id": "irjcpqJFZjsr"
      },
      "source": [
        "# ['Angola', 'Alemania', 'Brasil', 'México'][1]\n",
        "nombres_paises_lista[1]"
      ],
      "execution_count": null,
      "outputs": []
    },
    {
      "cell_type": "code",
      "metadata": {
        "id": "UHY6AEhtZsbU"
      },
      "source": [
        "nombres_paises_lista[2]"
      ],
      "execution_count": null,
      "outputs": []
    },
    {
      "cell_type": "code",
      "metadata": {
        "id": "Gn7UK0ImZu6G"
      },
      "source": [
        "nombres_paises_lista[-1]"
      ],
      "execution_count": null,
      "outputs": []
    },
    {
      "cell_type": "code",
      "metadata": {
        "id": "Y5moiEv1Z1E0"
      },
      "source": [
        "nombres_paises_lista[-2]"
      ],
      "execution_count": null,
      "outputs": []
    },
    {
      "cell_type": "code",
      "source": [
        "nombres_paises_lista[-3]"
      ],
      "metadata": {
        "id": "0ECT3OBGCLOS"
      },
      "execution_count": null,
      "outputs": []
    },
    {
      "cell_type": "markdown",
      "metadata": {
        "id": "5BWnSHuSZcWR"
      },
      "source": [
        "### Mutables<br>\n",
        "Se pueden modificar una vez creadas"
      ]
    },
    {
      "cell_type": "code",
      "metadata": {
        "id": "N0ThSnXcpHfR",
        "outputId": "8e4206b4-2e0c-4682-98d6-6cf237814276",
        "colab": {
          "base_uri": "https://localhost:8080/"
        }
      },
      "source": [
        "print(nombres_paises_lista[0]) #Primer elemento de la lista"
      ],
      "execution_count": 7,
      "outputs": [
        {
          "output_type": "stream",
          "name": "stdout",
          "text": [
            "República de Angola\n"
          ]
        }
      ]
    },
    {
      "cell_type": "code",
      "metadata": {
        "id": "4nXj3IaqXn53",
        "outputId": "4ad8355c-b551-4a45-d249-38cdbe7bc8f1",
        "colab": {
          "base_uri": "https://localhost:8080/"
        }
      },
      "source": [
        "# Modificando el primer elemento de la lista\n",
        "nombres_paises_lista[0] = 'República de Angola'\n",
        "print(nombres_paises_lista)"
      ],
      "execution_count": 8,
      "outputs": [
        {
          "output_type": "stream",
          "name": "stdout",
          "text": [
            "['República de Angola', 'Alemania', 'Brasil', 'México']\n"
          ]
        }
      ]
    },
    {
      "cell_type": "markdown",
      "metadata": {
        "id": "DRs7ouKibv1W"
      },
      "source": [
        "Ya que las listas pueden recibir diferentes tipos de datos, podemos agregarle un número (float) a nuestra lista."
      ]
    },
    {
      "cell_type": "code",
      "metadata": {
        "id": "wMkJZ2UPadC7",
        "outputId": "8da7ea9a-c979-426c-e9f4-b2cb3befaf12",
        "colab": {
          "base_uri": "https://localhost:8080/"
        }
      },
      "source": [
        "# Modificando el segundo elemento de la lista\n",
        "nombres_paises_lista[1] = 3.1416\n",
        "print(nombres_paises_lista)"
      ],
      "execution_count": 9,
      "outputs": [
        {
          "output_type": "stream",
          "name": "stdout",
          "text": [
            "['República de Angola', 3.1416, 'Brasil', 'México']\n"
          ]
        }
      ]
    },
    {
      "cell_type": "markdown",
      "metadata": {
        "id": "5SeRbgQyijGJ"
      },
      "source": [
        "### Valores duplicados\n",
        "<br>\n",
        "Ya que las listas son indexadas, se pueden poner valores duplicados."
      ]
    },
    {
      "cell_type": "code",
      "metadata": {
        "id": "OTlsIuw7h7xX",
        "outputId": "2e27908d-e21e-4bf5-c456-502db6481845",
        "colab": {
          "base_uri": "https://localhost:8080/"
        }
      },
      "source": [
        "frutas_list = [\"mango\", \"durazno\", \"mamey\", \"mamey\", \"melón\", \"mamey\"]\n",
        "print(frutas_list)"
      ],
      "execution_count": 10,
      "outputs": [
        {
          "output_type": "stream",
          "name": "stdout",
          "text": [
            "['mango', 'durazno', 'mamey', 'mamey', 'melón', 'mamey']\n"
          ]
        }
      ]
    },
    {
      "cell_type": "code",
      "source": [
        "frutas_list[3]"
      ],
      "metadata": {
        "id": "FB3ZVS1dHG5X",
        "outputId": "ba75de5a-81c5-4cb0-9f2f-d68854fc2a97",
        "colab": {
          "base_uri": "https://localhost:8080/",
          "height": 36
        }
      },
      "execution_count": 11,
      "outputs": [
        {
          "output_type": "execute_result",
          "data": {
            "text/plain": [
              "'mamey'"
            ],
            "application/vnd.google.colaboratory.intrinsic+json": {
              "type": "string"
            }
          },
          "metadata": {},
          "execution_count": 11
        }
      ]
    },
    {
      "cell_type": "markdown",
      "metadata": {
        "id": "Fi1FZ_tQi7No"
      },
      "source": [
        "### Constructor list()\n",
        "<br>\n",
        "Podemos crear una lista de dos formas, usando corchetes y usando el constructor list()"
      ]
    },
    {
      "cell_type": "code",
      "metadata": {
        "id": "oMvyg-9ji6wh"
      },
      "source": [
        "frutas_list = list(\"mango\", \"durazno\", \"mamey\")\n",
        "print(frutas_list)"
      ],
      "execution_count": null,
      "outputs": []
    },
    {
      "cell_type": "markdown",
      "metadata": {
        "id": "g0qOUsW6jsYP"
      },
      "source": [
        "## Métodos<br>\n",
        "\n",
        "1. Función:Es una instrucción empaquetada encargada de cumplir con un objetivo.\n",
        "\n",
        "2. Método: Un método es una función que «pertenece a» un objeto.\n",
        "\n",
        "Función **help:** La función help invoca el sistema de ayuda integrado de Python"
      ]
    },
    {
      "cell_type": "code",
      "metadata": {
        "id": "RZSlm69mtRzb"
      },
      "source": [
        "# help(list)"
      ],
      "execution_count": 15,
      "outputs": []
    },
    {
      "cell_type": "code",
      "metadata": {
        "id": "jh4b2CaKtdq0",
        "outputId": "dd939951-87a6-4c2e-95a6-2a2eeb839eb3",
        "colab": {
          "base_uri": "https://localhost:8080/"
        }
      },
      "source": [
        "frutas_list = [\"mango\", \"durazno\", \"mamey\", \"melón\"]\n",
        "print(type(frutas_list))"
      ],
      "execution_count": 16,
      "outputs": [
        {
          "output_type": "stream",
          "name": "stdout",
          "text": [
            "<class 'list'>\n"
          ]
        }
      ]
    },
    {
      "cell_type": "code",
      "metadata": {
        "id": "dDgd4xEgthYI",
        "outputId": "f29d36cc-03c5-4622-a6df-7ac5b97a0b2b",
        "colab": {
          "base_uri": "https://localhost:8080/"
        }
      },
      "source": [
        "help(frutas_list)"
      ],
      "execution_count": 17,
      "outputs": [
        {
          "output_type": "stream",
          "name": "stdout",
          "text": [
            "Help on list object:\n",
            "\n",
            "class list(object)\n",
            " |  list(iterable=(), /)\n",
            " |  \n",
            " |  Built-in mutable sequence.\n",
            " |  \n",
            " |  If no argument is given, the constructor creates a new empty list.\n",
            " |  The argument must be an iterable if specified.\n",
            " |  \n",
            " |  Methods defined here:\n",
            " |  \n",
            " |  __add__(self, value, /)\n",
            " |      Return self+value.\n",
            " |  \n",
            " |  __contains__(self, key, /)\n",
            " |      Return key in self.\n",
            " |  \n",
            " |  __delitem__(self, key, /)\n",
            " |      Delete self[key].\n",
            " |  \n",
            " |  __eq__(self, value, /)\n",
            " |      Return self==value.\n",
            " |  \n",
            " |  __ge__(self, value, /)\n",
            " |      Return self>=value.\n",
            " |  \n",
            " |  __getattribute__(self, name, /)\n",
            " |      Return getattr(self, name).\n",
            " |  \n",
            " |  __getitem__(...)\n",
            " |      x.__getitem__(y) <==> x[y]\n",
            " |  \n",
            " |  __gt__(self, value, /)\n",
            " |      Return self>value.\n",
            " |  \n",
            " |  __iadd__(self, value, /)\n",
            " |      Implement self+=value.\n",
            " |  \n",
            " |  __imul__(self, value, /)\n",
            " |      Implement self*=value.\n",
            " |  \n",
            " |  __init__(self, /, *args, **kwargs)\n",
            " |      Initialize self.  See help(type(self)) for accurate signature.\n",
            " |  \n",
            " |  __iter__(self, /)\n",
            " |      Implement iter(self).\n",
            " |  \n",
            " |  __le__(self, value, /)\n",
            " |      Return self<=value.\n",
            " |  \n",
            " |  __len__(self, /)\n",
            " |      Return len(self).\n",
            " |  \n",
            " |  __lt__(self, value, /)\n",
            " |      Return self<value.\n",
            " |  \n",
            " |  __mul__(self, value, /)\n",
            " |      Return self*value.\n",
            " |  \n",
            " |  __ne__(self, value, /)\n",
            " |      Return self!=value.\n",
            " |  \n",
            " |  __repr__(self, /)\n",
            " |      Return repr(self).\n",
            " |  \n",
            " |  __reversed__(self, /)\n",
            " |      Return a reverse iterator over the list.\n",
            " |  \n",
            " |  __rmul__(self, value, /)\n",
            " |      Return value*self.\n",
            " |  \n",
            " |  __setitem__(self, key, value, /)\n",
            " |      Set self[key] to value.\n",
            " |  \n",
            " |  __sizeof__(self, /)\n",
            " |      Return the size of the list in memory, in bytes.\n",
            " |  \n",
            " |  append(self, object, /)\n",
            " |      Append object to the end of the list.\n",
            " |  \n",
            " |  clear(self, /)\n",
            " |      Remove all items from list.\n",
            " |  \n",
            " |  copy(self, /)\n",
            " |      Return a shallow copy of the list.\n",
            " |  \n",
            " |  count(self, value, /)\n",
            " |      Return number of occurrences of value.\n",
            " |  \n",
            " |  extend(self, iterable, /)\n",
            " |      Extend list by appending elements from the iterable.\n",
            " |  \n",
            " |  index(self, value, start=0, stop=9223372036854775807, /)\n",
            " |      Return first index of value.\n",
            " |      \n",
            " |      Raises ValueError if the value is not present.\n",
            " |  \n",
            " |  insert(self, index, object, /)\n",
            " |      Insert object before index.\n",
            " |  \n",
            " |  pop(self, index=-1, /)\n",
            " |      Remove and return item at index (default last).\n",
            " |      \n",
            " |      Raises IndexError if list is empty or index is out of range.\n",
            " |  \n",
            " |  remove(self, value, /)\n",
            " |      Remove first occurrence of value.\n",
            " |      \n",
            " |      Raises ValueError if the value is not present.\n",
            " |  \n",
            " |  reverse(self, /)\n",
            " |      Reverse *IN PLACE*.\n",
            " |  \n",
            " |  sort(self, /, *, key=None, reverse=False)\n",
            " |      Stable sort *IN PLACE*.\n",
            " |  \n",
            " |  ----------------------------------------------------------------------\n",
            " |  Static methods defined here:\n",
            " |  \n",
            " |  __new__(*args, **kwargs) from builtins.type\n",
            " |      Create and return a new object.  See help(type) for accurate signature.\n",
            " |  \n",
            " |  ----------------------------------------------------------------------\n",
            " |  Data and other attributes defined here:\n",
            " |  \n",
            " |  __hash__ = None\n",
            "\n"
          ]
        }
      ]
    },
    {
      "cell_type": "markdown",
      "source": [
        "## len()\n",
        "\n",
        "Regresa el número de elementos que existen en la lista."
      ],
      "metadata": {
        "id": "Tq7f-sjLfo9V"
      }
    },
    {
      "cell_type": "code",
      "source": [
        "frutas_list = [\"mango\", \"durazno\", \"mamey\", \"melón\"]\n",
        "len(frutas_list)"
      ],
      "metadata": {
        "id": "oSjchKwrftQF",
        "outputId": "7a28ebb2-8da7-4e78-b171-8da3176223d3",
        "colab": {
          "base_uri": "https://localhost:8080/"
        }
      },
      "execution_count": 30,
      "outputs": [
        {
          "output_type": "execute_result",
          "data": {
            "text/plain": [
              "4"
            ]
          },
          "metadata": {},
          "execution_count": 30
        }
      ]
    },
    {
      "cell_type": "code",
      "source": [
        "numeros_lista = [1, 2, 3, 4, 5, 6]\n",
        "len(numeros_lista)"
      ],
      "metadata": {
        "id": "utMpK4otf1Qj",
        "outputId": "3c0ebd5e-e315-4e1f-b2b7-8ad86052d939",
        "colab": {
          "base_uri": "https://localhost:8080/"
        }
      },
      "execution_count": 32,
      "outputs": [
        {
          "output_type": "execute_result",
          "data": {
            "text/plain": [
              "6"
            ]
          },
          "metadata": {},
          "execution_count": 32
        }
      ]
    },
    {
      "cell_type": "code",
      "source": [
        "vacio_lista = []\n",
        "len(vacio_lista)"
      ],
      "metadata": {
        "id": "fBZ9jQOMf7US",
        "outputId": "48c4e615-4c8c-444c-e577-a9291a0c09fd",
        "colab": {
          "base_uri": "https://localhost:8080/"
        }
      },
      "execution_count": 33,
      "outputs": [
        {
          "output_type": "execute_result",
          "data": {
            "text/plain": [
              "0"
            ]
          },
          "metadata": {},
          "execution_count": 33
        }
      ]
    },
    {
      "cell_type": "markdown",
      "metadata": {
        "id": "aRGPKzWQj0ZA"
      },
      "source": [
        "### append()\n",
        "<br>\n",
        "Este método agrega un elemento al final de una lista."
      ]
    },
    {
      "cell_type": "code",
      "source": [
        "list.append"
      ],
      "metadata": {
        "id": "mRoWpR4JIsQN",
        "outputId": "7a46771b-c6d2-49f7-e62a-a5eda660ddea",
        "colab": {
          "base_uri": "https://localhost:8080/"
        }
      },
      "execution_count": 18,
      "outputs": [
        {
          "output_type": "execute_result",
          "data": {
            "text/plain": [
              "<method 'append' of 'list' objects>"
            ]
          },
          "metadata": {},
          "execution_count": 18
        }
      ]
    },
    {
      "cell_type": "code",
      "source": [
        "help(list.append)"
      ],
      "metadata": {
        "id": "0dvwZDvnIvfH",
        "outputId": "67748170-a0c9-4cd5-b076-854c9e2d786e",
        "colab": {
          "base_uri": "https://localhost:8080/"
        }
      },
      "execution_count": 19,
      "outputs": [
        {
          "output_type": "stream",
          "name": "stdout",
          "text": [
            "Help on method_descriptor:\n",
            "\n",
            "append(self, object, /)\n",
            "    Append object to the end of the list.\n",
            "\n"
          ]
        }
      ]
    },
    {
      "cell_type": "code",
      "metadata": {
        "id": "PaEubaKRjRjX",
        "outputId": "d8dbf61a-a482-43ec-c216-2998a38f7d8e",
        "colab": {
          "base_uri": "https://localhost:8080/"
        }
      },
      "source": [
        "frutas_list = [\"mango\", \"durazno\", \"mamey\", \"melón\"]\n",
        "frutas_list.append(\"piña\")\n",
        "print(frutas_list)"
      ],
      "execution_count": 21,
      "outputs": [
        {
          "output_type": "stream",
          "name": "stdout",
          "text": [
            "['mango', 'durazno', 'mamey', 'melón', 'piña']\n"
          ]
        }
      ]
    },
    {
      "cell_type": "code",
      "metadata": {
        "id": "Z4U6hN51kRMs",
        "outputId": "cca5e250-3e6a-4bff-9890-5b994043faa8",
        "colab": {
          "base_uri": "https://localhost:8080/"
        }
      },
      "source": [
        "frutas_list.append(None)\n",
        "print(frutas_list)"
      ],
      "execution_count": 22,
      "outputs": [
        {
          "output_type": "stream",
          "name": "stdout",
          "text": [
            "['mango', 'durazno', 'mamey', 'melón', 'piña', None]\n"
          ]
        }
      ]
    },
    {
      "cell_type": "markdown",
      "metadata": {
        "id": "9AQXBwwekdG1"
      },
      "source": [
        "### extend()<br>\n",
        "Este método extiende una lista agregando un iterable al final."
      ]
    },
    {
      "cell_type": "code",
      "metadata": {
        "id": "_84p37lXkVYc"
      },
      "source": [
        "frutas_list = [\"mango\", \"durazno\", \"mamey\", \"melón\"]\n",
        "frutas_2_list = [\"manzana\", \"fresa\", \"melón\", \"piña\"]\n",
        "frutas_list.append(frutas_2_list)"
      ],
      "execution_count": 35,
      "outputs": []
    },
    {
      "cell_type": "code",
      "metadata": {
        "id": "lWgdGCuykxcy",
        "outputId": "27f83a7a-06f4-4562-e44f-8a0694f1f9f5",
        "colab": {
          "base_uri": "https://localhost:8080/"
        }
      },
      "source": [
        "print(frutas_list)"
      ],
      "execution_count": 36,
      "outputs": [
        {
          "output_type": "stream",
          "name": "stdout",
          "text": [
            "['mango', 'durazno', 'mamey', 'melón', ['manzana', 'fresa', 'melón', 'maíz']]\n"
          ]
        }
      ]
    },
    {
      "cell_type": "code",
      "metadata": {
        "id": "NnTerPazxFFb",
        "outputId": "a2e42031-0f89-4e83-a2d4-13afec61c65b",
        "colab": {
          "base_uri": "https://localhost:8080/"
        }
      },
      "source": [
        "# ¿Cuántos elementos hay en la lista?\n",
        "len(frutas_list)"
      ],
      "execution_count": 37,
      "outputs": [
        {
          "output_type": "execute_result",
          "data": {
            "text/plain": [
              "5"
            ]
          },
          "metadata": {},
          "execution_count": 37
        }
      ]
    },
    {
      "cell_type": "markdown",
      "metadata": {
        "id": "4YWJ7RLYlMCP"
      },
      "source": [
        "Nota que que si usamos **append** agrega el elemento como una lista, mientras que, si usamos **extend**, se agregaran todos los elementos a la list pero desempaquetados."
      ]
    },
    {
      "cell_type": "code",
      "metadata": {
        "id": "qfcc2fMHkz7X"
      },
      "source": [
        "frutas_list = [\"manzana\", \"fresa\", \"melón\", \"piña\"]\n",
        "frutas_2_list = [\"manzana\", \"fresa\", \"melón\", \"piña\"]\n",
        "frutas_list.extend(frutas_2_list)"
      ],
      "execution_count": 38,
      "outputs": []
    },
    {
      "cell_type": "code",
      "metadata": {
        "id": "NfQljnFvk9gE",
        "outputId": "e3d6d169-a65e-4a64-a534-a7d7e8b33e76",
        "colab": {
          "base_uri": "https://localhost:8080/"
        }
      },
      "source": [
        "print(frutas_list)"
      ],
      "execution_count": 39,
      "outputs": [
        {
          "output_type": "stream",
          "name": "stdout",
          "text": [
            "['manzana', 'fresa', 'melón', 'piña', 'manzana', 'fresa', 'melón', 'piña']\n"
          ]
        }
      ]
    },
    {
      "cell_type": "code",
      "metadata": {
        "id": "gVqkFhUuxH_S",
        "outputId": "94c44018-1e9a-48ec-abcb-aaaf1e6dffe4",
        "colab": {
          "base_uri": "https://localhost:8080/"
        }
      },
      "source": [
        "len(frutas_list)"
      ],
      "execution_count": 40,
      "outputs": [
        {
          "output_type": "execute_result",
          "data": {
            "text/plain": [
              "8"
            ]
          },
          "metadata": {},
          "execution_count": 40
        }
      ]
    },
    {
      "cell_type": "markdown",
      "metadata": {
        "id": "YjCd8y3WmHN5"
      },
      "source": [
        "### index()\n",
        "<br>\n",
        "Este método recibe un elemento como argumento, y devuelve el índice de su primera aparición en la lista."
      ]
    },
    {
      "cell_type": "code",
      "metadata": {
        "id": "KkOyzaGrk-0x",
        "outputId": "0cb859e7-aff0-482d-83ef-8980d1075c08",
        "colab": {
          "base_uri": "https://localhost:8080/"
        }
      },
      "source": [
        "frutas_list = [\"mango\", \"durazno\", \"mamey\", \"mamey\", \"melón\"]\n",
        "print(frutas_list.index(\"mango\"))"
      ],
      "execution_count": 41,
      "outputs": [
        {
          "output_type": "stream",
          "name": "stdout",
          "text": [
            "0\n"
          ]
        }
      ]
    },
    {
      "cell_type": "code",
      "metadata": {
        "id": "3gLdFVhfmUFF",
        "outputId": "b976fc13-2b32-4a92-f762-ce5e7a380285",
        "colab": {
          "base_uri": "https://localhost:8080/"
        }
      },
      "source": [
        "print(frutas_list.index(\"mamey\"))"
      ],
      "execution_count": 42,
      "outputs": [
        {
          "output_type": "stream",
          "name": "stdout",
          "text": [
            "2\n"
          ]
        }
      ]
    },
    {
      "cell_type": "code",
      "metadata": {
        "id": "r1pSVbrZmXkw",
        "outputId": "e6e2122a-5492-4cd4-e94d-ab5794fa09b5",
        "colab": {
          "base_uri": "https://localhost:8080/"
        }
      },
      "source": [
        "print(frutas_list[2])"
      ],
      "execution_count": 43,
      "outputs": [
        {
          "output_type": "stream",
          "name": "stdout",
          "text": [
            "mamey\n"
          ]
        }
      ]
    },
    {
      "cell_type": "markdown",
      "source": [
        "**IndexError:** Sucede cuando se intenta acceder a un índice que no existe en la lista"
      ],
      "metadata": {
        "id": "ugtXk4-2gbAU"
      }
    },
    {
      "cell_type": "code",
      "metadata": {
        "id": "61iUnZXamjc8",
        "outputId": "5d9cd977-e233-42b4-ed94-9501055a5336",
        "colab": {
          "base_uri": "https://localhost:8080/",
          "height": 170
        }
      },
      "source": [
        "frutas_list[5]"
      ],
      "execution_count": 44,
      "outputs": [
        {
          "output_type": "error",
          "ename": "IndexError",
          "evalue": "ignored",
          "traceback": [
            "\u001b[0;31m---------------------------------------------------------------------------\u001b[0m",
            "\u001b[0;31mIndexError\u001b[0m                                Traceback (most recent call last)",
            "\u001b[0;32m<ipython-input-44-8c04ade179a6>\u001b[0m in \u001b[0;36m<module>\u001b[0;34m\u001b[0m\n\u001b[0;32m----> 1\u001b[0;31m \u001b[0mfrutas_list\u001b[0m\u001b[0;34m[\u001b[0m\u001b[0;36m5\u001b[0m\u001b[0;34m]\u001b[0m\u001b[0;34m\u001b[0m\u001b[0;34m\u001b[0m\u001b[0m\n\u001b[0m",
            "\u001b[0;31mIndexError\u001b[0m: list index out of range"
          ]
        }
      ]
    },
    {
      "cell_type": "markdown",
      "metadata": {
        "id": "1QPlWPv8mxX7"
      },
      "source": [
        "### reverse()\n",
        "<br>\n",
        "Este método invierte el orden de los elementos de una lista."
      ]
    },
    {
      "cell_type": "code",
      "source": [
        "help(list.reverse)"
      ],
      "metadata": {
        "id": "OWkhEvbzg3YQ",
        "outputId": "4ea2562d-83ea-4903-92cb-6b384e6209ce",
        "colab": {
          "base_uri": "https://localhost:8080/"
        }
      },
      "execution_count": 48,
      "outputs": [
        {
          "output_type": "stream",
          "name": "stdout",
          "text": [
            "Help on method_descriptor:\n",
            "\n",
            "reverse(self, /)\n",
            "    Reverse *IN PLACE*.\n",
            "\n"
          ]
        }
      ]
    },
    {
      "cell_type": "code",
      "metadata": {
        "id": "NGoKVkDEm1Kl",
        "outputId": "08c8e7d0-148c-45c8-a602-0521731a3cc3",
        "colab": {
          "base_uri": "https://localhost:8080/"
        }
      },
      "source": [
        "frutas_list = [\"mango\", \"durazno\", \"mamey\", \"melón\"]\n",
        "# frutas_list = frutas_list.reverse()\n",
        "print(frutas_list.reverse())"
      ],
      "execution_count": 45,
      "outputs": [
        {
          "output_type": "stream",
          "name": "stdout",
          "text": [
            "None\n"
          ]
        }
      ]
    },
    {
      "cell_type": "code",
      "source": [
        "frutas_list = frutas_list.reverse()\n",
        "print(frutas_list)"
      ],
      "metadata": {
        "id": "vcKY7F15KUiL",
        "outputId": "b3d9af14-c0e2-4b14-c482-2234c23d96cc",
        "colab": {
          "base_uri": "https://localhost:8080/"
        }
      },
      "execution_count": 49,
      "outputs": [
        {
          "output_type": "stream",
          "name": "stdout",
          "text": [
            "None\n"
          ]
        }
      ]
    },
    {
      "cell_type": "code",
      "metadata": {
        "id": "xv2folxFm5dZ",
        "outputId": "fea5c91b-937b-42c9-abcf-3b214564bfae",
        "colab": {
          "base_uri": "https://localhost:8080/"
        }
      },
      "source": [
        "frutas_list = [\"mango\", \"durazno\", \"mamey\", \"melón\"]\n",
        "frutas_list.reverse()\n",
        "print(frutas_list)"
      ],
      "execution_count": 50,
      "outputs": [
        {
          "output_type": "stream",
          "name": "stdout",
          "text": [
            "['melón', 'mamey', 'durazno', 'mango']\n"
          ]
        }
      ]
    },
    {
      "cell_type": "markdown",
      "metadata": {
        "id": "o2Hij-gKnNeL"
      },
      "source": [
        "### sort()\n",
        "Este método ordena los elementos de una lista."
      ]
    },
    {
      "cell_type": "code",
      "metadata": {
        "id": "xGd65CUxnD50"
      },
      "source": [
        "frutas_list = [\"sandia\", \"mango\", \"durazno\", \"mamey\", \"melón\"]\n",
        "print(frutas_list.sort())"
      ],
      "execution_count": null,
      "outputs": []
    },
    {
      "cell_type": "code",
      "metadata": {
        "id": "UHVFHRN3nUZu"
      },
      "source": [
        "print(frutas_list)"
      ],
      "execution_count": null,
      "outputs": []
    },
    {
      "cell_type": "code",
      "metadata": {
        "id": "BIgWsYGVnW6f"
      },
      "source": [
        "numeros_list = [2, 3, 4, 1, 10]\n",
        "numeros_list.sort()"
      ],
      "execution_count": null,
      "outputs": []
    },
    {
      "cell_type": "code",
      "metadata": {
        "id": "XuvvkJinndH-"
      },
      "source": [
        "# buscar la diferencia entres sorted y sort\n",
        "print(numeros_list)"
      ],
      "execution_count": null,
      "outputs": []
    },
    {
      "cell_type": "code",
      "source": [
        "# fancy indexing, funciona con listas y strings\n",
        "'anita lava la tina'[::-1]"
      ],
      "metadata": {
        "id": "4YYpwdctKxzy"
      },
      "execution_count": null,
      "outputs": []
    },
    {
      "cell_type": "markdown",
      "metadata": {
        "id": "yEiqOM30MZBp"
      },
      "source": [
        "### Temporada de frutas en México"
      ]
    },
    {
      "cell_type": "code",
      "metadata": {
        "id": "3UqDM-cz0pIO"
      },
      "source": [
        "table = [\n",
        "         ['Guayaba', 'Psidium guajava', 'Febrero'],\n",
        "         ['Fresa', 'Fragaria', 'Enero'],\n",
        "         ['Mamey', 'Pouteria sapota', 'Marzo'],\n",
        "         ['Fresa', 'Fragaria', 'Enero'],\n",
        "         ]"
      ],
      "execution_count": 53,
      "outputs": []
    },
    {
      "cell_type": "code",
      "metadata": {
        "id": "jtVQnJfJMa64",
        "outputId": "5c84d43e-91b3-4d4b-ae39-14f8c2e47ec6",
        "colab": {
          "base_uri": "https://localhost:8080/",
          "height": 175
        }
      },
      "source": [
        "import pandas as pd\n",
        "\n",
        "pd.DataFrame(table)"
      ],
      "execution_count": 54,
      "outputs": [
        {
          "output_type": "execute_result",
          "data": {
            "text/plain": [
              "         0                1        2\n",
              "0  Guayaba  Psidium guajava  Febrero\n",
              "1    Fresa         Fragaria    Enero\n",
              "2    Mamey  Pouteria sapota    Marzo\n",
              "3    Fresa         Fragaria    Enero"
            ],
            "text/html": [
              "\n",
              "  <div id=\"df-8a2e23f7-2815-46a6-bbc3-e754f4123586\">\n",
              "    <div class=\"colab-df-container\">\n",
              "      <div>\n",
              "<style scoped>\n",
              "    .dataframe tbody tr th:only-of-type {\n",
              "        vertical-align: middle;\n",
              "    }\n",
              "\n",
              "    .dataframe tbody tr th {\n",
              "        vertical-align: top;\n",
              "    }\n",
              "\n",
              "    .dataframe thead th {\n",
              "        text-align: right;\n",
              "    }\n",
              "</style>\n",
              "<table border=\"1\" class=\"dataframe\">\n",
              "  <thead>\n",
              "    <tr style=\"text-align: right;\">\n",
              "      <th></th>\n",
              "      <th>0</th>\n",
              "      <th>1</th>\n",
              "      <th>2</th>\n",
              "    </tr>\n",
              "  </thead>\n",
              "  <tbody>\n",
              "    <tr>\n",
              "      <th>0</th>\n",
              "      <td>Guayaba</td>\n",
              "      <td>Psidium guajava</td>\n",
              "      <td>Febrero</td>\n",
              "    </tr>\n",
              "    <tr>\n",
              "      <th>1</th>\n",
              "      <td>Fresa</td>\n",
              "      <td>Fragaria</td>\n",
              "      <td>Enero</td>\n",
              "    </tr>\n",
              "    <tr>\n",
              "      <th>2</th>\n",
              "      <td>Mamey</td>\n",
              "      <td>Pouteria sapota</td>\n",
              "      <td>Marzo</td>\n",
              "    </tr>\n",
              "    <tr>\n",
              "      <th>3</th>\n",
              "      <td>Fresa</td>\n",
              "      <td>Fragaria</td>\n",
              "      <td>Enero</td>\n",
              "    </tr>\n",
              "  </tbody>\n",
              "</table>\n",
              "</div>\n",
              "      <button class=\"colab-df-convert\" onclick=\"convertToInteractive('df-8a2e23f7-2815-46a6-bbc3-e754f4123586')\"\n",
              "              title=\"Convert this dataframe to an interactive table.\"\n",
              "              style=\"display:none;\">\n",
              "        \n",
              "  <svg xmlns=\"http://www.w3.org/2000/svg\" height=\"24px\"viewBox=\"0 0 24 24\"\n",
              "       width=\"24px\">\n",
              "    <path d=\"M0 0h24v24H0V0z\" fill=\"none\"/>\n",
              "    <path d=\"M18.56 5.44l.94 2.06.94-2.06 2.06-.94-2.06-.94-.94-2.06-.94 2.06-2.06.94zm-11 1L8.5 8.5l.94-2.06 2.06-.94-2.06-.94L8.5 2.5l-.94 2.06-2.06.94zm10 10l.94 2.06.94-2.06 2.06-.94-2.06-.94-.94-2.06-.94 2.06-2.06.94z\"/><path d=\"M17.41 7.96l-1.37-1.37c-.4-.4-.92-.59-1.43-.59-.52 0-1.04.2-1.43.59L10.3 9.45l-7.72 7.72c-.78.78-.78 2.05 0 2.83L4 21.41c.39.39.9.59 1.41.59.51 0 1.02-.2 1.41-.59l7.78-7.78 2.81-2.81c.8-.78.8-2.07 0-2.86zM5.41 20L4 18.59l7.72-7.72 1.47 1.35L5.41 20z\"/>\n",
              "  </svg>\n",
              "      </button>\n",
              "      \n",
              "  <style>\n",
              "    .colab-df-container {\n",
              "      display:flex;\n",
              "      flex-wrap:wrap;\n",
              "      gap: 12px;\n",
              "    }\n",
              "\n",
              "    .colab-df-convert {\n",
              "      background-color: #E8F0FE;\n",
              "      border: none;\n",
              "      border-radius: 50%;\n",
              "      cursor: pointer;\n",
              "      display: none;\n",
              "      fill: #1967D2;\n",
              "      height: 32px;\n",
              "      padding: 0 0 0 0;\n",
              "      width: 32px;\n",
              "    }\n",
              "\n",
              "    .colab-df-convert:hover {\n",
              "      background-color: #E2EBFA;\n",
              "      box-shadow: 0px 1px 2px rgba(60, 64, 67, 0.3), 0px 1px 3px 1px rgba(60, 64, 67, 0.15);\n",
              "      fill: #174EA6;\n",
              "    }\n",
              "\n",
              "    [theme=dark] .colab-df-convert {\n",
              "      background-color: #3B4455;\n",
              "      fill: #D2E3FC;\n",
              "    }\n",
              "\n",
              "    [theme=dark] .colab-df-convert:hover {\n",
              "      background-color: #434B5C;\n",
              "      box-shadow: 0px 1px 3px 1px rgba(0, 0, 0, 0.15);\n",
              "      filter: drop-shadow(0px 1px 2px rgba(0, 0, 0, 0.3));\n",
              "      fill: #FFFFFF;\n",
              "    }\n",
              "  </style>\n",
              "\n",
              "      <script>\n",
              "        const buttonEl =\n",
              "          document.querySelector('#df-8a2e23f7-2815-46a6-bbc3-e754f4123586 button.colab-df-convert');\n",
              "        buttonEl.style.display =\n",
              "          google.colab.kernel.accessAllowed ? 'block' : 'none';\n",
              "\n",
              "        async function convertToInteractive(key) {\n",
              "          const element = document.querySelector('#df-8a2e23f7-2815-46a6-bbc3-e754f4123586');\n",
              "          const dataTable =\n",
              "            await google.colab.kernel.invokeFunction('convertToInteractive',\n",
              "                                                     [key], {});\n",
              "          if (!dataTable) return;\n",
              "\n",
              "          const docLinkHtml = 'Like what you see? Visit the ' +\n",
              "            '<a target=\"_blank\" href=https://colab.research.google.com/notebooks/data_table.ipynb>data table notebook</a>'\n",
              "            + ' to learn more about interactive tables.';\n",
              "          element.innerHTML = '';\n",
              "          dataTable['output_type'] = 'display_data';\n",
              "          await google.colab.output.renderOutput(dataTable, element);\n",
              "          const docLink = document.createElement('div');\n",
              "          docLink.innerHTML = docLinkHtml;\n",
              "          element.appendChild(docLink);\n",
              "        }\n",
              "      </script>\n",
              "    </div>\n",
              "  </div>\n",
              "  "
            ]
          },
          "metadata": {},
          "execution_count": 54
        }
      ]
    },
    {
      "cell_type": "code",
      "metadata": {
        "id": "F_l1P2VHMdB7"
      },
      "source": [
        "frutas_df = pd.DataFrame(table, columns=['Nombre común', 'Nombre científico', 'Temporada'])"
      ],
      "execution_count": 55,
      "outputs": []
    },
    {
      "cell_type": "code",
      "metadata": {
        "id": "_vpBIh0DNT-i",
        "outputId": "e54831de-bb91-4aba-dd76-112cb5f33c42",
        "colab": {
          "base_uri": "https://localhost:8080/",
          "height": 175
        }
      },
      "source": [
        "frutas_df"
      ],
      "execution_count": 56,
      "outputs": [
        {
          "output_type": "execute_result",
          "data": {
            "text/plain": [
              "  Nombre común Nombre científico Temporada\n",
              "0      Guayaba   Psidium guajava   Febrero\n",
              "1        Fresa          Fragaria     Enero\n",
              "2        Mamey   Pouteria sapota     Marzo\n",
              "3        Fresa          Fragaria     Enero"
            ],
            "text/html": [
              "\n",
              "  <div id=\"df-d4fa8cae-8024-49c0-8ebc-8bf8715e0e8a\">\n",
              "    <div class=\"colab-df-container\">\n",
              "      <div>\n",
              "<style scoped>\n",
              "    .dataframe tbody tr th:only-of-type {\n",
              "        vertical-align: middle;\n",
              "    }\n",
              "\n",
              "    .dataframe tbody tr th {\n",
              "        vertical-align: top;\n",
              "    }\n",
              "\n",
              "    .dataframe thead th {\n",
              "        text-align: right;\n",
              "    }\n",
              "</style>\n",
              "<table border=\"1\" class=\"dataframe\">\n",
              "  <thead>\n",
              "    <tr style=\"text-align: right;\">\n",
              "      <th></th>\n",
              "      <th>Nombre común</th>\n",
              "      <th>Nombre científico</th>\n",
              "      <th>Temporada</th>\n",
              "    </tr>\n",
              "  </thead>\n",
              "  <tbody>\n",
              "    <tr>\n",
              "      <th>0</th>\n",
              "      <td>Guayaba</td>\n",
              "      <td>Psidium guajava</td>\n",
              "      <td>Febrero</td>\n",
              "    </tr>\n",
              "    <tr>\n",
              "      <th>1</th>\n",
              "      <td>Fresa</td>\n",
              "      <td>Fragaria</td>\n",
              "      <td>Enero</td>\n",
              "    </tr>\n",
              "    <tr>\n",
              "      <th>2</th>\n",
              "      <td>Mamey</td>\n",
              "      <td>Pouteria sapota</td>\n",
              "      <td>Marzo</td>\n",
              "    </tr>\n",
              "    <tr>\n",
              "      <th>3</th>\n",
              "      <td>Fresa</td>\n",
              "      <td>Fragaria</td>\n",
              "      <td>Enero</td>\n",
              "    </tr>\n",
              "  </tbody>\n",
              "</table>\n",
              "</div>\n",
              "      <button class=\"colab-df-convert\" onclick=\"convertToInteractive('df-d4fa8cae-8024-49c0-8ebc-8bf8715e0e8a')\"\n",
              "              title=\"Convert this dataframe to an interactive table.\"\n",
              "              style=\"display:none;\">\n",
              "        \n",
              "  <svg xmlns=\"http://www.w3.org/2000/svg\" height=\"24px\"viewBox=\"0 0 24 24\"\n",
              "       width=\"24px\">\n",
              "    <path d=\"M0 0h24v24H0V0z\" fill=\"none\"/>\n",
              "    <path d=\"M18.56 5.44l.94 2.06.94-2.06 2.06-.94-2.06-.94-.94-2.06-.94 2.06-2.06.94zm-11 1L8.5 8.5l.94-2.06 2.06-.94-2.06-.94L8.5 2.5l-.94 2.06-2.06.94zm10 10l.94 2.06.94-2.06 2.06-.94-2.06-.94-.94-2.06-.94 2.06-2.06.94z\"/><path d=\"M17.41 7.96l-1.37-1.37c-.4-.4-.92-.59-1.43-.59-.52 0-1.04.2-1.43.59L10.3 9.45l-7.72 7.72c-.78.78-.78 2.05 0 2.83L4 21.41c.39.39.9.59 1.41.59.51 0 1.02-.2 1.41-.59l7.78-7.78 2.81-2.81c.8-.78.8-2.07 0-2.86zM5.41 20L4 18.59l7.72-7.72 1.47 1.35L5.41 20z\"/>\n",
              "  </svg>\n",
              "      </button>\n",
              "      \n",
              "  <style>\n",
              "    .colab-df-container {\n",
              "      display:flex;\n",
              "      flex-wrap:wrap;\n",
              "      gap: 12px;\n",
              "    }\n",
              "\n",
              "    .colab-df-convert {\n",
              "      background-color: #E8F0FE;\n",
              "      border: none;\n",
              "      border-radius: 50%;\n",
              "      cursor: pointer;\n",
              "      display: none;\n",
              "      fill: #1967D2;\n",
              "      height: 32px;\n",
              "      padding: 0 0 0 0;\n",
              "      width: 32px;\n",
              "    }\n",
              "\n",
              "    .colab-df-convert:hover {\n",
              "      background-color: #E2EBFA;\n",
              "      box-shadow: 0px 1px 2px rgba(60, 64, 67, 0.3), 0px 1px 3px 1px rgba(60, 64, 67, 0.15);\n",
              "      fill: #174EA6;\n",
              "    }\n",
              "\n",
              "    [theme=dark] .colab-df-convert {\n",
              "      background-color: #3B4455;\n",
              "      fill: #D2E3FC;\n",
              "    }\n",
              "\n",
              "    [theme=dark] .colab-df-convert:hover {\n",
              "      background-color: #434B5C;\n",
              "      box-shadow: 0px 1px 3px 1px rgba(0, 0, 0, 0.15);\n",
              "      filter: drop-shadow(0px 1px 2px rgba(0, 0, 0, 0.3));\n",
              "      fill: #FFFFFF;\n",
              "    }\n",
              "  </style>\n",
              "\n",
              "      <script>\n",
              "        const buttonEl =\n",
              "          document.querySelector('#df-d4fa8cae-8024-49c0-8ebc-8bf8715e0e8a button.colab-df-convert');\n",
              "        buttonEl.style.display =\n",
              "          google.colab.kernel.accessAllowed ? 'block' : 'none';\n",
              "\n",
              "        async function convertToInteractive(key) {\n",
              "          const element = document.querySelector('#df-d4fa8cae-8024-49c0-8ebc-8bf8715e0e8a');\n",
              "          const dataTable =\n",
              "            await google.colab.kernel.invokeFunction('convertToInteractive',\n",
              "                                                     [key], {});\n",
              "          if (!dataTable) return;\n",
              "\n",
              "          const docLinkHtml = 'Like what you see? Visit the ' +\n",
              "            '<a target=\"_blank\" href=https://colab.research.google.com/notebooks/data_table.ipynb>data table notebook</a>'\n",
              "            + ' to learn more about interactive tables.';\n",
              "          element.innerHTML = '';\n",
              "          dataTable['output_type'] = 'display_data';\n",
              "          await google.colab.output.renderOutput(dataTable, element);\n",
              "          const docLink = document.createElement('div');\n",
              "          docLink.innerHTML = docLinkHtml;\n",
              "          element.appendChild(docLink);\n",
              "        }\n",
              "      </script>\n",
              "    </div>\n",
              "  </div>\n",
              "  "
            ]
          },
          "metadata": {},
          "execution_count": 56
        }
      ]
    },
    {
      "cell_type": "code",
      "metadata": {
        "id": "yAp_SFNDNFBC",
        "outputId": "e6c672cd-340a-49d0-fd32-49d582af6544",
        "colab": {
          "base_uri": "https://localhost:8080/",
          "height": 206
        }
      },
      "source": [
        "to_append = ['Naranja', 'Citrus X sinensis', 'Abril']\n",
        "a_series = pd.Series(to_append, index=frutas_df.columns)\n",
        "df = frutas_df.append(a_series, ignore_index=True)\n",
        "df"
      ],
      "execution_count": 58,
      "outputs": [
        {
          "output_type": "execute_result",
          "data": {
            "text/plain": [
              "  Nombre común  Nombre científico Temporada\n",
              "0      Guayaba    Psidium guajava   Febrero\n",
              "1        Fresa           Fragaria     Enero\n",
              "2        Mamey    Pouteria sapota     Marzo\n",
              "3        Fresa           Fragaria     Enero\n",
              "4      Naranja  Citrus X sinensis     Abril"
            ],
            "text/html": [
              "\n",
              "  <div id=\"df-5ff4d952-f7ed-4a8b-8235-f18aaebd982d\">\n",
              "    <div class=\"colab-df-container\">\n",
              "      <div>\n",
              "<style scoped>\n",
              "    .dataframe tbody tr th:only-of-type {\n",
              "        vertical-align: middle;\n",
              "    }\n",
              "\n",
              "    .dataframe tbody tr th {\n",
              "        vertical-align: top;\n",
              "    }\n",
              "\n",
              "    .dataframe thead th {\n",
              "        text-align: right;\n",
              "    }\n",
              "</style>\n",
              "<table border=\"1\" class=\"dataframe\">\n",
              "  <thead>\n",
              "    <tr style=\"text-align: right;\">\n",
              "      <th></th>\n",
              "      <th>Nombre común</th>\n",
              "      <th>Nombre científico</th>\n",
              "      <th>Temporada</th>\n",
              "    </tr>\n",
              "  </thead>\n",
              "  <tbody>\n",
              "    <tr>\n",
              "      <th>0</th>\n",
              "      <td>Guayaba</td>\n",
              "      <td>Psidium guajava</td>\n",
              "      <td>Febrero</td>\n",
              "    </tr>\n",
              "    <tr>\n",
              "      <th>1</th>\n",
              "      <td>Fresa</td>\n",
              "      <td>Fragaria</td>\n",
              "      <td>Enero</td>\n",
              "    </tr>\n",
              "    <tr>\n",
              "      <th>2</th>\n",
              "      <td>Mamey</td>\n",
              "      <td>Pouteria sapota</td>\n",
              "      <td>Marzo</td>\n",
              "    </tr>\n",
              "    <tr>\n",
              "      <th>3</th>\n",
              "      <td>Fresa</td>\n",
              "      <td>Fragaria</td>\n",
              "      <td>Enero</td>\n",
              "    </tr>\n",
              "    <tr>\n",
              "      <th>4</th>\n",
              "      <td>Naranja</td>\n",
              "      <td>Citrus X sinensis</td>\n",
              "      <td>Abril</td>\n",
              "    </tr>\n",
              "  </tbody>\n",
              "</table>\n",
              "</div>\n",
              "      <button class=\"colab-df-convert\" onclick=\"convertToInteractive('df-5ff4d952-f7ed-4a8b-8235-f18aaebd982d')\"\n",
              "              title=\"Convert this dataframe to an interactive table.\"\n",
              "              style=\"display:none;\">\n",
              "        \n",
              "  <svg xmlns=\"http://www.w3.org/2000/svg\" height=\"24px\"viewBox=\"0 0 24 24\"\n",
              "       width=\"24px\">\n",
              "    <path d=\"M0 0h24v24H0V0z\" fill=\"none\"/>\n",
              "    <path d=\"M18.56 5.44l.94 2.06.94-2.06 2.06-.94-2.06-.94-.94-2.06-.94 2.06-2.06.94zm-11 1L8.5 8.5l.94-2.06 2.06-.94-2.06-.94L8.5 2.5l-.94 2.06-2.06.94zm10 10l.94 2.06.94-2.06 2.06-.94-2.06-.94-.94-2.06-.94 2.06-2.06.94z\"/><path d=\"M17.41 7.96l-1.37-1.37c-.4-.4-.92-.59-1.43-.59-.52 0-1.04.2-1.43.59L10.3 9.45l-7.72 7.72c-.78.78-.78 2.05 0 2.83L4 21.41c.39.39.9.59 1.41.59.51 0 1.02-.2 1.41-.59l7.78-7.78 2.81-2.81c.8-.78.8-2.07 0-2.86zM5.41 20L4 18.59l7.72-7.72 1.47 1.35L5.41 20z\"/>\n",
              "  </svg>\n",
              "      </button>\n",
              "      \n",
              "  <style>\n",
              "    .colab-df-container {\n",
              "      display:flex;\n",
              "      flex-wrap:wrap;\n",
              "      gap: 12px;\n",
              "    }\n",
              "\n",
              "    .colab-df-convert {\n",
              "      background-color: #E8F0FE;\n",
              "      border: none;\n",
              "      border-radius: 50%;\n",
              "      cursor: pointer;\n",
              "      display: none;\n",
              "      fill: #1967D2;\n",
              "      height: 32px;\n",
              "      padding: 0 0 0 0;\n",
              "      width: 32px;\n",
              "    }\n",
              "\n",
              "    .colab-df-convert:hover {\n",
              "      background-color: #E2EBFA;\n",
              "      box-shadow: 0px 1px 2px rgba(60, 64, 67, 0.3), 0px 1px 3px 1px rgba(60, 64, 67, 0.15);\n",
              "      fill: #174EA6;\n",
              "    }\n",
              "\n",
              "    [theme=dark] .colab-df-convert {\n",
              "      background-color: #3B4455;\n",
              "      fill: #D2E3FC;\n",
              "    }\n",
              "\n",
              "    [theme=dark] .colab-df-convert:hover {\n",
              "      background-color: #434B5C;\n",
              "      box-shadow: 0px 1px 3px 1px rgba(0, 0, 0, 0.15);\n",
              "      filter: drop-shadow(0px 1px 2px rgba(0, 0, 0, 0.3));\n",
              "      fill: #FFFFFF;\n",
              "    }\n",
              "  </style>\n",
              "\n",
              "      <script>\n",
              "        const buttonEl =\n",
              "          document.querySelector('#df-5ff4d952-f7ed-4a8b-8235-f18aaebd982d button.colab-df-convert');\n",
              "        buttonEl.style.display =\n",
              "          google.colab.kernel.accessAllowed ? 'block' : 'none';\n",
              "\n",
              "        async function convertToInteractive(key) {\n",
              "          const element = document.querySelector('#df-5ff4d952-f7ed-4a8b-8235-f18aaebd982d');\n",
              "          const dataTable =\n",
              "            await google.colab.kernel.invokeFunction('convertToInteractive',\n",
              "                                                     [key], {});\n",
              "          if (!dataTable) return;\n",
              "\n",
              "          const docLinkHtml = 'Like what you see? Visit the ' +\n",
              "            '<a target=\"_blank\" href=https://colab.research.google.com/notebooks/data_table.ipynb>data table notebook</a>'\n",
              "            + ' to learn more about interactive tables.';\n",
              "          element.innerHTML = '';\n",
              "          dataTable['output_type'] = 'display_data';\n",
              "          await google.colab.output.renderOutput(dataTable, element);\n",
              "          const docLink = document.createElement('div');\n",
              "          docLink.innerHTML = docLinkHtml;\n",
              "          element.appendChild(docLink);\n",
              "        }\n",
              "      </script>\n",
              "    </div>\n",
              "  </div>\n",
              "  "
            ]
          },
          "metadata": {},
          "execution_count": 58
        }
      ]
    },
    {
      "cell_type": "markdown",
      "source": [
        "## Ejercicio"
      ],
      "metadata": {
        "id": "CmFHJSc1nL_K"
      }
    },
    {
      "cell_type": "markdown",
      "source": [
        "# Diccionarios"
      ],
      "metadata": {
        "id": "p8Qm4kLUAd4J"
      }
    },
    {
      "cell_type": "code",
      "source": [],
      "metadata": {
        "id": "0a53WyumAdiF"
      },
      "execution_count": null,
      "outputs": []
    },
    {
      "cell_type": "markdown",
      "source": [
        "## Conjuntos"
      ],
      "metadata": {
        "id": "WA7kOPlZAg9Z"
      }
    },
    {
      "cell_type": "code",
      "source": [],
      "metadata": {
        "id": "04_YYGHPAh5t"
      },
      "execution_count": null,
      "outputs": []
    },
    {
      "cell_type": "markdown",
      "source": [
        "# Range\n",
        "range es un tipo de dato que representa una secuencia de números inmutable. Calcula los items al vuelo o cunado son requridos. \n",
        "\n",
        "Entonces es más óptimo, por que ocupa menos espacio de memoria\n"
      ],
      "metadata": {
        "id": "B3kHJ8_8Amxa"
      }
    },
    {
      "cell_type": "code",
      "source": [
        "import sys\n",
        "\n",
        "# Nos devuelve el tamaño de un objeto en bytes\n",
        "\n",
        "sys.getsizeof(4)"
      ],
      "metadata": {
        "colab": {
          "base_uri": "https://localhost:8080/"
        },
        "id": "JidZz2OkCufM",
        "outputId": "690cb220-4336-4e44-f643-adae4326b870"
      },
      "execution_count": null,
      "outputs": [
        {
          "output_type": "execute_result",
          "data": {
            "text/plain": [
              "28"
            ]
          },
          "metadata": {},
          "execution_count": 2
        }
      ]
    },
    {
      "cell_type": "code",
      "source": [
        "sys.getsizeof('hola')"
      ],
      "metadata": {
        "colab": {
          "base_uri": "https://localhost:8080/"
        },
        "id": "75_jJEeSC9lH",
        "outputId": "418d4c65-3cd3-4e11-a177-b63534bac75a"
      },
      "execution_count": null,
      "outputs": [
        {
          "output_type": "execute_result",
          "data": {
            "text/plain": [
              "53"
            ]
          },
          "metadata": {},
          "execution_count": 3
        }
      ]
    },
    {
      "cell_type": "code",
      "source": [
        "# Tamaño inicial 72 kb\n",
        "# Más 8 por item adicional\n",
        "sys.getsizeof([1, 2, 3])"
      ],
      "metadata": {
        "colab": {
          "base_uri": "https://localhost:8080/"
        },
        "id": "cpPk9G_KDMkd",
        "outputId": "fb9528fc-68eb-4dde-db1f-858bd987f67c"
      },
      "execution_count": null,
      "outputs": [
        {
          "output_type": "execute_result",
          "data": {
            "text/plain": [
              "96"
            ]
          },
          "metadata": {},
          "execution_count": 9
        }
      ]
    },
    {
      "cell_type": "code",
      "source": [
        "million_list = [item for item in range(100_000_000)]\n",
        "kb = sys.getsizeof(million_list)\n",
        "mb = kb / 1_000_000\n",
        "print(f'{mb:,}')"
      ],
      "metadata": {
        "colab": {
          "base_uri": "https://localhost:8080/"
        },
        "id": "Zq7EwYnMDTLn",
        "outputId": "aae28e7f-9c5b-4089-ded0-02ccc5a5a63b"
      },
      "execution_count": null,
      "outputs": [
        {
          "output_type": "stream",
          "name": "stdout",
          "text": [
            "859.72448\n"
          ]
        }
      ]
    },
    {
      "cell_type": "code",
      "source": [
        "sys.getsizeof(range(100_000_000))"
      ],
      "metadata": {
        "colab": {
          "base_uri": "https://localhost:8080/"
        },
        "id": "0mnmN7BxESej",
        "outputId": "3a8084c3-e813-48f3-bd83-694afbead76b"
      },
      "execution_count": null,
      "outputs": [
        {
          "output_type": "execute_result",
          "data": {
            "text/plain": [
              "48"
            ]
          },
          "metadata": {},
          "execution_count": 20
        }
      ]
    },
    {
      "cell_type": "code",
      "source": [
        "# testing timeit()\n",
        "import timeit\n",
        "print(timeit.timeit('output = 10*5'))"
      ],
      "metadata": {
        "colab": {
          "base_uri": "https://localhost:8080/"
        },
        "id": "H85LWpRfFYYj",
        "outputId": "e22b7ece-4f75-414c-aff0-49025965fe1e"
      },
      "execution_count": null,
      "outputs": [
        {
          "output_type": "stream",
          "name": "stdout",
          "text": [
            "0.02613392399996428\n"
          ]
        }
      ]
    },
    {
      "cell_type": "code",
      "source": [
        "print(timeit.repeat('5 in range(100_000_000)', repeat=5))"
      ],
      "metadata": {
        "colab": {
          "base_uri": "https://localhost:8080/"
        },
        "id": "vGmJN65pFaQH",
        "outputId": "a33fea25-eaf1-496c-c7d5-b72ad6813dd9"
      },
      "execution_count": null,
      "outputs": [
        {
          "output_type": "stream",
          "name": "stdout",
          "text": [
            "[0.3657033549999369, 0.30538606699997217, 0.3086029820000249, 0.3157006389999424, 0.30496414399999594]\n"
          ]
        }
      ]
    },
    {
      "cell_type": "code",
      "source": [
        "%%timeit\n",
        "5 in range(100_000_000)"
      ],
      "metadata": {
        "colab": {
          "base_uri": "https://localhost:8080/"
        },
        "id": "CpmFLP54EwH4",
        "outputId": "8d9ad722-9a34-43aa-b920-49c4f4cce4e4"
      },
      "execution_count": null,
      "outputs": [
        {
          "output_type": "stream",
          "name": "stdout",
          "text": [
            "309 ns ± 13.8 ns per loop (mean ± std. dev. of 7 runs, 1000000 loops each)\n"
          ]
        }
      ]
    },
    {
      "cell_type": "code",
      "source": [
        "%%timeit\n",
        "5 < 100_000_000"
      ],
      "metadata": {
        "colab": {
          "base_uri": "https://localhost:8080/"
        },
        "id": "tiRwek_bE0qU",
        "outputId": "ae6b7a8a-c1e6-47df-d553-6d5a79708602"
      },
      "execution_count": null,
      "outputs": [
        {
          "output_type": "stream",
          "name": "stdout",
          "text": [
            "39.3 ns ± 0.764 ns per loop (mean ± std. dev. of 7 runs, 10000000 loops each)\n"
          ]
        }
      ]
    },
    {
      "cell_type": "markdown",
      "source": [
        "# Str"
      ],
      "metadata": {
        "id": "yy4Xcht4CZbe"
      }
    },
    {
      "cell_type": "code",
      "source": [],
      "metadata": {
        "id": "L_t45bnGAmUl"
      },
      "execution_count": null,
      "outputs": []
    },
    {
      "cell_type": "markdown",
      "source": [
        "# Tipos de datos avanzados"
      ],
      "metadata": {
        "id": "Jsb8zN5cAoOy"
      }
    },
    {
      "cell_type": "code",
      "source": [],
      "metadata": {
        "id": "CwXUFASYAqg4"
      },
      "execution_count": null,
      "outputs": []
    },
    {
      "cell_type": "markdown",
      "source": [
        "Los operadores de pertenencia se utilizan para comprobar si un valor o variable se encuentran en una secuencia (list, tuple, dict, set o str).\n",
        "\n",
        "\n",
        "in Devuelve True si el valor se encuentra en una secuencia; False en caso contrario.\n",
        "not int\n",
        "\n",
        "Devuelve True si el valor se encuentra en una secuencia; False en caso contrario."
      ],
      "metadata": {
        "id": "VV0Wy-8Ih9ji"
      }
    },
    {
      "cell_type": "code",
      "source": [
        ">>> lista = [1, 3, 2, 7, 9, 8, 6]\n",
        ">>> 4 in lista\n",
        "False\n",
        ">>> 3 in lista\n",
        "True\n",
        ">>> 4 not in lista\n",
        "True"
      ],
      "metadata": {
        "id": "WB0rmvCSh9J9",
        "outputId": "3c828bf2-e771-4f2f-c691-9141f4ff7fac",
        "colab": {
          "base_uri": "https://localhost:8080/"
        }
      },
      "execution_count": 59,
      "outputs": [
        {
          "output_type": "execute_result",
          "data": {
            "text/plain": [
              "True"
            ]
          },
          "metadata": {},
          "execution_count": 59
        }
      ]
    },
    {
      "cell_type": "code",
      "source": [],
      "metadata": {
        "id": "gfgC4SRYiT1H"
      },
      "execution_count": null,
      "outputs": []
    }
  ]
}
