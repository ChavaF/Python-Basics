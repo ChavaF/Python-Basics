{
  "nbformat": 4,
  "nbformat_minor": 0,
  "metadata": {
    "colab": {
      "provenance": [],
      "collapsed_sections": [],
      "authorship_tag": "ABX9TyOpDyY+3U16hmOJr0322Rye",
      "include_colab_link": true
    },
    "kernelspec": {
      "name": "python3",
      "display_name": "Python 3"
    },
    "language_info": {
      "name": "python"
    }
  },
  "cells": [
    {
      "cell_type": "markdown",
      "metadata": {
        "id": "view-in-github",
        "colab_type": "text"
      },
      "source": [
        "<a href=\"https://colab.research.google.com/github/cuauhtemocbe/Python-Basics/blob/main/4.%20Tipos_de_datos_complejos.ipynb\" target=\"_parent\"><img src=\"https://colab.research.google.com/assets/colab-badge.svg\" alt=\"Open In Colab\"/></a>"
      ]
    },
    {
      "cell_type": "markdown",
      "source": [
        "## Tipos de datos complejos\n",
        "\n",
        "Son tipos de datos más avanzados que str, float, int o bool. <br>\n",
        "\n",
        "Son muy útiles para almacenar elementos (items) de una forma ordenada. \n",
        "\n",
        "**Palabras clave:** list, dict, set, range <br>\n",
        "**Vocabulario:** índice, heterogeneidad, mutables, llaves (keys), duplicados"
      ],
      "metadata": {
        "id": "nBKAPTioALGz"
      }
    },
    {
      "cell_type": "markdown",
      "metadata": {
        "id": "TuXvj2G5V6K_"
      },
      "source": [
        "# Listas"
      ]
    },
    {
      "cell_type": "markdown",
      "metadata": {
        "id": "pJk9JeyjWBEz"
      },
      "source": [
        "La **lista** en Python son un tipo de dato muy útil para almacenar datos. <br>\n",
        "De manera interna python asigna cada elemento a un índice. <br>\n",
        "Nota: Un array o matriz/vector es una serie de elementos ordenados en filas o columnas."
      ]
    },
    {
      "cell_type": "markdown",
      "metadata": {
        "id": "OJdOYljzYFew"
      },
      "source": [
        "Las listas son muy vérsatiles. Para crear una lista se mete la secuencia de datos dentro de corchetes **[ ]**"
      ]
    },
    {
      "cell_type": "code",
      "metadata": {
        "id": "CxzMzj8aYEoe"
      },
      "source": [
        "mi_primer_lista = []\n",
        "print('mi primera lista:', mi_primer_lista)\n",
        "print(type(mi_primer_lista))"
      ],
      "execution_count": null,
      "outputs": []
    },
    {
      "cell_type": "code",
      "metadata": {
        "id": "jVktw5M6CXLU"
      },
      "source": [
        "mi_segunda_lista = ['estoy adentro de la lista']\n",
        "print(mi_segunda_lista)"
      ],
      "execution_count": null,
      "outputs": []
    },
    {
      "cell_type": "code",
      "metadata": {
        "id": "NwnTODZSrcZu"
      },
      "source": [
        "mi_tercera_lista = ['estoy', 'adentro', 'de', 'la', 'lista']\n",
        "print(mi_tercera_lista)"
      ],
      "execution_count": null,
      "outputs": []
    },
    {
      "cell_type": "markdown",
      "metadata": {
        "id": "7XSkwBUBY1KM"
      },
      "source": [
        "Las listas en Python son:\n",
        "\n",
        "- **heterogéneas**: pueden estar conformadas por elementos de distintos tipo, incluidos otras listas.\n",
        "- **ordenadas**: La información se guarda mediante índices (index)\n",
        "- **mutables**: sus elementos pueden modificarse."
      ]
    },
    {
      "cell_type": "markdown",
      "metadata": {
        "id": "TD_tubqxZU95"
      },
      "source": [
        "### Heterogeneidad"
      ]
    },
    {
      "cell_type": "code",
      "metadata": {
        "id": "Vqk44wq5WA15"
      },
      "source": [
        "# Secuencia de elementos del mismo tipo\n",
        "nombres_paises_lista = ['Angola', 'Alemania', 'Brasil', 'México']\n",
        "print(type(nombres_paises_lista))\n",
        "print(nombres_paises_lista)"
      ],
      "execution_count": null,
      "outputs": []
    },
    {
      "cell_type": "code",
      "metadata": {
        "id": "L5PaTx9OXoE8"
      },
      "source": [
        "# Secuencia de elementos de diferentes tipos\n",
        "mix_datos_lista = [1, 'Alameda', None, True, 10_000.05]\n",
        "print(type(mix_datos_lista))\n",
        "print(mix_datos_lista)"
      ],
      "execution_count": null,
      "outputs": []
    },
    {
      "cell_type": "markdown",
      "metadata": {
        "id": "PXLaOL0_ZZbV"
      },
      "source": [
        "### Orden <br>\n",
        "Los elementos de una lista pueden accederse mediante su índice, siendo 0 el índice del primer elemento."
      ]
    },
    {
      "cell_type": "code",
      "metadata": {
        "id": "AeUCVK3ZoiJd"
      },
      "source": [
        "nombres_paises_lista = ['Angola', 'Alemania', 'Brasil', 'México']"
      ],
      "execution_count": null,
      "outputs": []
    },
    {
      "cell_type": "code",
      "metadata": {
        "id": "-voABrv3Zjwb"
      },
      "source": [
        "#['Angola', 'Alemania', 'Brasil', 'México'][0]\n",
        "nombres_paises_lista[0]"
      ],
      "execution_count": null,
      "outputs": []
    },
    {
      "cell_type": "code",
      "metadata": {
        "id": "irjcpqJFZjsr"
      },
      "source": [
        "# ['Angola', 'Alemania', 'Brasil', 'México'][1]\n",
        "nombres_paises_lista[1]"
      ],
      "execution_count": null,
      "outputs": []
    },
    {
      "cell_type": "code",
      "metadata": {
        "id": "UHY6AEhtZsbU"
      },
      "source": [
        "nombres_paises_lista[2]"
      ],
      "execution_count": null,
      "outputs": []
    },
    {
      "cell_type": "code",
      "metadata": {
        "id": "Gn7UK0ImZu6G"
      },
      "source": [
        "nombres_paises_lista[-1]"
      ],
      "execution_count": null,
      "outputs": []
    },
    {
      "cell_type": "code",
      "metadata": {
        "id": "Y5moiEv1Z1E0"
      },
      "source": [
        "nombres_paises_lista[-2]"
      ],
      "execution_count": null,
      "outputs": []
    },
    {
      "cell_type": "code",
      "source": [
        "nombres_paises_lista[-3]"
      ],
      "metadata": {
        "id": "0ECT3OBGCLOS"
      },
      "execution_count": null,
      "outputs": []
    },
    {
      "cell_type": "markdown",
      "metadata": {
        "id": "5BWnSHuSZcWR"
      },
      "source": [
        "### Mutables<br>\n",
        "Se pueden modificar una vez creadas"
      ]
    },
    {
      "cell_type": "code",
      "metadata": {
        "id": "N0ThSnXcpHfR"
      },
      "source": [
        "print(nombres_paises_lista[0]) #Primer elemento de la lista"
      ],
      "execution_count": null,
      "outputs": []
    },
    {
      "cell_type": "code",
      "metadata": {
        "id": "4nXj3IaqXn53"
      },
      "source": [
        "# Modificando el primer elemento de la lista\n",
        "nombres_paises_lista[0] = 'República de Angola'\n",
        "print(nombres_paises_lista)"
      ],
      "execution_count": null,
      "outputs": []
    },
    {
      "cell_type": "markdown",
      "metadata": {
        "id": "DRs7ouKibv1W"
      },
      "source": [
        "Ya que las listas pueden recibir diferentes tipos de datos, podemos agregarle un número (float) a nuestra lista."
      ]
    },
    {
      "cell_type": "code",
      "metadata": {
        "id": "wMkJZ2UPadC7"
      },
      "source": [
        "# Modificando el segundo elemento de la lista\n",
        "nombres_paises_lista[1] = 3.1416\n",
        "print(nombres_paises_lista)"
      ],
      "execution_count": null,
      "outputs": []
    },
    {
      "cell_type": "markdown",
      "metadata": {
        "id": "5SeRbgQyijGJ"
      },
      "source": [
        "### Valores duplicados\n",
        "<br>\n",
        "Ya que las listas son indexadas, se pueden poner valores duplicados."
      ]
    },
    {
      "cell_type": "code",
      "metadata": {
        "id": "OTlsIuw7h7xX"
      },
      "source": [
        "frutas_list = [\"mango\", \"durazno\", \"mamey\", \"mamey\", \"melón\", \"mamey\"]\n",
        "print(frutas_list)"
      ],
      "execution_count": null,
      "outputs": []
    },
    {
      "cell_type": "code",
      "source": [
        "frutas_list[3]"
      ],
      "metadata": {
        "id": "FB3ZVS1dHG5X"
      },
      "execution_count": null,
      "outputs": []
    },
    {
      "cell_type": "markdown",
      "metadata": {
        "id": "Fi1FZ_tQi7No"
      },
      "source": [
        "### Formas adicionales de crear una lista\n"
      ]
    },
    {
      "cell_type": "markdown",
      "source": [
        "##### Constructor list()\n",
        "Podemos crear una lista de dos formas, usando corchetes y usando el constructor list()"
      ],
      "metadata": {
        "id": "2t7w0AgfzvKi"
      }
    },
    {
      "cell_type": "code",
      "metadata": {
        "id": "oMvyg-9ji6wh"
      },
      "source": [
        "frutas_list = list(\"mango\", \"durazno\", \"mamey\")\n",
        "print(frutas_list)"
      ],
      "execution_count": null,
      "outputs": []
    },
    {
      "cell_type": "markdown",
      "source": [
        "##### Método split\n",
        "Es un método que puedes encontrar en los string, que se utiliza para partir un string por un patrón."
      ],
      "metadata": {
        "id": "nkd59lOtzxAR"
      }
    },
    {
      "cell_type": "code",
      "source": [
        "frutas_str = \"mango, durazno, mamey\"\n",
        "type(frutas_str)"
      ],
      "metadata": {
        "id": "srRLD0DL0GHH"
      },
      "execution_count": null,
      "outputs": []
    },
    {
      "cell_type": "code",
      "source": [
        "frutas_list = frutas_str.split(',')\n",
        "print(frutas_list)"
      ],
      "metadata": {
        "id": "qdAM9JZE0L1a"
      },
      "execution_count": null,
      "outputs": []
    },
    {
      "cell_type": "markdown",
      "metadata": {
        "id": "g0qOUsW6jsYP"
      },
      "source": [
        "## Funciones y métodos<br>\n",
        "\n",
        "1. **Función:** Es una instrucción empaquetada encargada de cumplir con un objetivo.\n",
        "\n",
        "2. **Método:** Un método es una función que «pertenece a» un objeto.\n",
        "\n",
        "Función **help:** La función help invoca el sistema de ayuda integrado de Python"
      ]
    },
    {
      "cell_type": "markdown",
      "source": [
        "## Métodos"
      ],
      "metadata": {
        "id": "x51OQx9Tsgf2"
      }
    },
    {
      "cell_type": "code",
      "metadata": {
        "id": "RZSlm69mtRzb"
      },
      "source": [
        "# help(list)"
      ],
      "execution_count": null,
      "outputs": []
    },
    {
      "cell_type": "code",
      "metadata": {
        "id": "jh4b2CaKtdq0"
      },
      "source": [
        "frutas_list = [\"mango\", \"durazno\", \"mamey\", \"melón\"]\n",
        "print(type(frutas_list))"
      ],
      "execution_count": null,
      "outputs": []
    },
    {
      "cell_type": "code",
      "metadata": {
        "id": "dDgd4xEgthYI"
      },
      "source": [
        "# help(frutas_list)"
      ],
      "execution_count": null,
      "outputs": []
    },
    {
      "cell_type": "markdown",
      "source": [
        "### len\n",
        "\n",
        "Regresa el número de elementos que existen en la lista."
      ],
      "metadata": {
        "id": "Tq7f-sjLfo9V"
      }
    },
    {
      "cell_type": "code",
      "source": [
        "frutas_list = [\"mango\", \"durazno\", \"mamey\", \"melón\"]\n",
        "len(frutas_list)"
      ],
      "metadata": {
        "id": "oSjchKwrftQF"
      },
      "execution_count": null,
      "outputs": []
    },
    {
      "cell_type": "code",
      "source": [
        "numeros_lista = [1, 2, 3, 4, 5, 6]\n",
        "len(numeros_lista)"
      ],
      "metadata": {
        "id": "utMpK4otf1Qj"
      },
      "execution_count": null,
      "outputs": []
    },
    {
      "cell_type": "code",
      "source": [
        "vacio_lista = []\n",
        "len(vacio_lista)"
      ],
      "metadata": {
        "id": "fBZ9jQOMf7US"
      },
      "execution_count": null,
      "outputs": []
    },
    {
      "cell_type": "markdown",
      "metadata": {
        "id": "aRGPKzWQj0ZA"
      },
      "source": [
        "### append\n",
        "Este método agrega un elemento al final de una lista."
      ]
    },
    {
      "cell_type": "code",
      "source": [
        "list.append"
      ],
      "metadata": {
        "id": "mRoWpR4JIsQN"
      },
      "execution_count": null,
      "outputs": []
    },
    {
      "cell_type": "code",
      "source": [
        "help(list.append)"
      ],
      "metadata": {
        "id": "0dvwZDvnIvfH"
      },
      "execution_count": null,
      "outputs": []
    },
    {
      "cell_type": "code",
      "metadata": {
        "id": "PaEubaKRjRjX"
      },
      "source": [
        "frutas_list = [\"mango\", \"durazno\", \"mamey\", \"melón\"]\n",
        "frutas_list.append(\"piña\")\n",
        "print(frutas_list)"
      ],
      "execution_count": null,
      "outputs": []
    },
    {
      "cell_type": "code",
      "metadata": {
        "id": "Z4U6hN51kRMs"
      },
      "source": [
        "frutas_list.append(None)\n",
        "print(frutas_list)"
      ],
      "execution_count": null,
      "outputs": []
    },
    {
      "cell_type": "markdown",
      "metadata": {
        "id": "9AQXBwwekdG1"
      },
      "source": [
        "### extend\n",
        "Este método extiende una lista agregando un iterable al final."
      ]
    },
    {
      "cell_type": "code",
      "metadata": {
        "id": "_84p37lXkVYc"
      },
      "source": [
        "frutas_list = [\"mango\", \"durazno\", \"mamey\", \"melón\"]\n",
        "frutas_2_list = [\"manzana\", \"fresa\", \"melón\", \"piña\"]\n",
        "frutas_list.append(frutas_2_list)"
      ],
      "execution_count": null,
      "outputs": []
    },
    {
      "cell_type": "code",
      "metadata": {
        "id": "lWgdGCuykxcy"
      },
      "source": [
        "print(frutas_list)"
      ],
      "execution_count": null,
      "outputs": []
    },
    {
      "cell_type": "code",
      "metadata": {
        "id": "NnTerPazxFFb"
      },
      "source": [
        "# ¿Cuántos elementos hay en la lista?\n",
        "len(frutas_list)"
      ],
      "execution_count": null,
      "outputs": []
    },
    {
      "cell_type": "markdown",
      "metadata": {
        "id": "4YWJ7RLYlMCP"
      },
      "source": [
        "Nota que que si usamos **append** agrega el elemento como una lista, mientras que, si usamos **extend**, se agregaran todos los elementos a la list pero desempaquetados."
      ]
    },
    {
      "cell_type": "code",
      "metadata": {
        "id": "qfcc2fMHkz7X"
      },
      "source": [
        "frutas_list = [\"manzana\", \"fresa\", \"melón\", \"piña\"]\n",
        "frutas_2_list = [\"manzana\", \"fresa\", \"melón\", \"piña\"]\n",
        "frutas_list.extend(frutas_2_list)"
      ],
      "execution_count": null,
      "outputs": []
    },
    {
      "cell_type": "code",
      "metadata": {
        "id": "NfQljnFvk9gE"
      },
      "source": [
        "print(frutas_list)"
      ],
      "execution_count": null,
      "outputs": []
    },
    {
      "cell_type": "code",
      "metadata": {
        "id": "gVqkFhUuxH_S"
      },
      "source": [
        "len(frutas_list)"
      ],
      "execution_count": null,
      "outputs": []
    },
    {
      "cell_type": "markdown",
      "metadata": {
        "id": "YjCd8y3WmHN5"
      },
      "source": [
        "### index\n",
        "Este método recibe un elemento como argumento, y devuelve el índice de su primera aparición en la lista."
      ]
    },
    {
      "cell_type": "code",
      "metadata": {
        "id": "KkOyzaGrk-0x"
      },
      "source": [
        "frutas_list = [\"mango\", \"durazno\", \"mamey\", \"mamey\", \"melón\"]\n",
        "print(frutas_list.index(\"mango\"))"
      ],
      "execution_count": null,
      "outputs": []
    },
    {
      "cell_type": "code",
      "metadata": {
        "id": "3gLdFVhfmUFF"
      },
      "source": [
        "print(frutas_list.index(\"mamey\"))"
      ],
      "execution_count": null,
      "outputs": []
    },
    {
      "cell_type": "code",
      "metadata": {
        "id": "r1pSVbrZmXkw"
      },
      "source": [
        "print(frutas_list[2])"
      ],
      "execution_count": null,
      "outputs": []
    },
    {
      "cell_type": "markdown",
      "source": [
        "**IndexError:** Sucede cuando se intenta acceder a un índice que no existe en la lista"
      ],
      "metadata": {
        "id": "ugtXk4-2gbAU"
      }
    },
    {
      "cell_type": "code",
      "metadata": {
        "id": "61iUnZXamjc8"
      },
      "source": [
        "frutas_list[5]"
      ],
      "execution_count": null,
      "outputs": []
    },
    {
      "cell_type": "markdown",
      "metadata": {
        "id": "1QPlWPv8mxX7"
      },
      "source": [
        "### reverse\n",
        "Este método invierte el orden de los elementos de una lista."
      ]
    },
    {
      "cell_type": "code",
      "source": [
        "help(list.reverse)"
      ],
      "metadata": {
        "id": "OWkhEvbzg3YQ"
      },
      "execution_count": null,
      "outputs": []
    },
    {
      "cell_type": "code",
      "metadata": {
        "id": "NGoKVkDEm1Kl"
      },
      "source": [
        "frutas_list = [\"mango\", \"durazno\", \"mamey\", \"melón\"]\n",
        "# frutas_list = frutas_list.reverse()\n",
        "print(frutas_list.reverse())"
      ],
      "execution_count": null,
      "outputs": []
    },
    {
      "cell_type": "code",
      "source": [
        "frutas_list = frutas_list.reverse()\n",
        "print(frutas_list)"
      ],
      "metadata": {
        "id": "vcKY7F15KUiL"
      },
      "execution_count": null,
      "outputs": []
    },
    {
      "cell_type": "code",
      "metadata": {
        "id": "xv2folxFm5dZ"
      },
      "source": [
        "frutas_list = [\"mango\", \"durazno\", \"mamey\", \"melón\"]\n",
        "frutas_list.reverse()\n",
        "print(frutas_list)"
      ],
      "execution_count": null,
      "outputs": []
    },
    {
      "cell_type": "markdown",
      "metadata": {
        "id": "o2Hij-gKnNeL"
      },
      "source": [
        "### sort\n",
        "Este método ordena los elementos de una lista y regresa un valor None"
      ]
    },
    {
      "cell_type": "code",
      "metadata": {
        "id": "xGd65CUxnD50"
      },
      "source": [
        "frutas_list = [\"sandia\", \"mango\", \"durazno\", \"mamey\", \"melón\"]\n",
        "print(frutas_list.sort())"
      ],
      "execution_count": null,
      "outputs": []
    },
    {
      "cell_type": "code",
      "source": [
        "type(frutas_list.sort())"
      ],
      "metadata": {
        "id": "0CzWZdBzs5GH"
      },
      "execution_count": null,
      "outputs": []
    },
    {
      "cell_type": "code",
      "metadata": {
        "id": "UHVFHRN3nUZu"
      },
      "source": [
        "print(frutas_list)"
      ],
      "execution_count": null,
      "outputs": []
    },
    {
      "cell_type": "code",
      "metadata": {
        "id": "BIgWsYGVnW6f"
      },
      "source": [
        "numeros_list = [2, 3, 4, 1, 10]\n",
        "numeros_list.sort()"
      ],
      "execution_count": null,
      "outputs": []
    },
    {
      "cell_type": "code",
      "source": [
        "numeros_list"
      ],
      "metadata": {
        "id": "wnIWtPMTtCa5"
      },
      "execution_count": null,
      "outputs": []
    },
    {
      "cell_type": "markdown",
      "source": [
        "## Funciones"
      ],
      "metadata": {
        "id": "_dImwniSsny9"
      }
    },
    {
      "cell_type": "markdown",
      "source": [
        "### sorted\n",
        "Ordena los elementos de un iterable"
      ],
      "metadata": {
        "id": "9PJXxglPsN3P"
      }
    },
    {
      "cell_type": "code",
      "source": [
        "numeros_list = [2, 3, 4, 1, 10]"
      ],
      "metadata": {
        "id": "xwhgUxTls0_N"
      },
      "execution_count": null,
      "outputs": []
    },
    {
      "cell_type": "code",
      "source": [
        "sorted(numeros_list)"
      ],
      "metadata": {
        "id": "VOAXbQ9StFxt"
      },
      "execution_count": null,
      "outputs": []
    },
    {
      "cell_type": "markdown",
      "source": [
        "### sum"
      ],
      "metadata": {
        "id": "HnuVlkswtJAX"
      }
    },
    {
      "cell_type": "code",
      "source": [
        "numeros_list = [2, 3, 4, 1, 10]\n",
        "sum(numeros_list)"
      ],
      "metadata": {
        "id": "vVXlAnT9tK7W"
      },
      "execution_count": null,
      "outputs": []
    },
    {
      "cell_type": "markdown",
      "source": [
        "### max"
      ],
      "metadata": {
        "id": "RRKLxtZgtOMJ"
      }
    },
    {
      "cell_type": "code",
      "source": [
        "numeros_list = [2, 3, 4, 1, 10]\n",
        "max(numeros_list)"
      ],
      "metadata": {
        "id": "eGEcm2OVtQGC"
      },
      "execution_count": null,
      "outputs": []
    },
    {
      "cell_type": "markdown",
      "metadata": {
        "id": "yEiqOM30MZBp"
      },
      "source": [
        "### Temporada de frutas en México"
      ]
    },
    {
      "cell_type": "code",
      "metadata": {
        "id": "3UqDM-cz0pIO"
      },
      "source": [
        "table = [\n",
        "         ['Guayaba', 'Psidium guajava', 'Febrero'],\n",
        "         ['Fresa', 'Fragaria', 'Enero'],\n",
        "         ['Mamey', 'Pouteria sapota', 'Marzo'],\n",
        "         ['Fresa', 'Fragaria', 'Enero'],\n",
        "         ]"
      ],
      "execution_count": null,
      "outputs": []
    },
    {
      "cell_type": "code",
      "metadata": {
        "id": "jtVQnJfJMa64"
      },
      "source": [
        "import pandas as pd\n",
        "\n",
        "pd.DataFrame(table)"
      ],
      "execution_count": null,
      "outputs": []
    },
    {
      "cell_type": "code",
      "metadata": {
        "id": "F_l1P2VHMdB7"
      },
      "source": [
        "frutas_df = pd.DataFrame(table, columns=['Nombre común', 'Nombre científico', 'Temporada'])"
      ],
      "execution_count": null,
      "outputs": []
    },
    {
      "cell_type": "code",
      "metadata": {
        "id": "_vpBIh0DNT-i"
      },
      "source": [
        "frutas_df"
      ],
      "execution_count": null,
      "outputs": []
    },
    {
      "cell_type": "code",
      "metadata": {
        "id": "yAp_SFNDNFBC"
      },
      "source": [
        "to_append = ['Naranja', 'Citrus X sinensis', 'Abril']\n",
        "a_series = pd.Series(to_append, index=frutas_df.columns)\n",
        "df = frutas_df.append(a_series, ignore_index=True)\n",
        "df"
      ],
      "execution_count": null,
      "outputs": []
    },
    {
      "cell_type": "markdown",
      "source": [
        "## Ejercicio"
      ],
      "metadata": {
        "id": "CmFHJSc1nL_K"
      }
    },
    {
      "cell_type": "markdown",
      "source": [
        "# Diccionarios"
      ],
      "metadata": {
        "id": "p8Qm4kLUAd4J"
      }
    },
    {
      "cell_type": "code",
      "source": [],
      "metadata": {
        "id": "0a53WyumAdiF"
      },
      "execution_count": null,
      "outputs": []
    },
    {
      "cell_type": "markdown",
      "source": [
        "## Conjuntos"
      ],
      "metadata": {
        "id": "WA7kOPlZAg9Z"
      }
    },
    {
      "cell_type": "code",
      "source": [
        "million_list = [item for item in range(100_000_000)]\n",
        "kb = sys.getsizeof(million_list)\n",
        "mb = kb / 1_000_000\n",
        "print(f'{mb:,}')"
      ],
      "metadata": {
        "id": "Zq7EwYnMDTLn"
      },
      "execution_count": null,
      "outputs": []
    },
    {
      "cell_type": "code",
      "source": [
        "sys.getsizeof(range(100_000_000))"
      ],
      "metadata": {
        "id": "0mnmN7BxESej"
      },
      "execution_count": null,
      "outputs": []
    },
    {
      "cell_type": "code",
      "source": [
        "# testing timeit()\n",
        "import timeit\n",
        "print(timeit.timeit('output = 10*5'))"
      ],
      "metadata": {
        "id": "H85LWpRfFYYj"
      },
      "execution_count": null,
      "outputs": []
    },
    {
      "cell_type": "code",
      "source": [
        "print(timeit.repeat('5 in range(100_000_000)', repeat=5))"
      ],
      "metadata": {
        "id": "vGmJN65pFaQH"
      },
      "execution_count": null,
      "outputs": []
    },
    {
      "cell_type": "code",
      "source": [
        "%%timeit\n",
        "5 in range(100_000_000)"
      ],
      "metadata": {
        "id": "CpmFLP54EwH4"
      },
      "execution_count": null,
      "outputs": []
    },
    {
      "cell_type": "code",
      "source": [
        "%%timeit\n",
        "5 < 100_000_000"
      ],
      "metadata": {
        "id": "tiRwek_bE0qU"
      },
      "execution_count": null,
      "outputs": []
    },
    {
      "cell_type": "markdown",
      "source": [
        "# Str"
      ],
      "metadata": {
        "id": "yy4Xcht4CZbe"
      }
    },
    {
      "cell_type": "code",
      "source": [],
      "metadata": {
        "id": "L_t45bnGAmUl"
      },
      "execution_count": null,
      "outputs": []
    },
    {
      "cell_type": "markdown",
      "source": [
        "# Tipos de datos avanzados"
      ],
      "metadata": {
        "id": "Jsb8zN5cAoOy"
      }
    },
    {
      "cell_type": "code",
      "source": [],
      "metadata": {
        "id": "CwXUFASYAqg4"
      },
      "execution_count": null,
      "outputs": []
    },
    {
      "cell_type": "markdown",
      "source": [
        "# Operadores de pertenecia"
      ],
      "metadata": {
        "id": "T1CmV7xVt8g7"
      }
    },
    {
      "cell_type": "markdown",
      "source": [
        "Los operadores de pertenencia se utilizan para comprobar si un valor o variable se encuentran en una secuencia (list, tuple, dict, set o str).\n",
        "\n",
        "\n",
        "in Devuelve True si el valor se encuentra en una secuencia; False en caso contrario.\n",
        "not int\n",
        "\n",
        "Devuelve True si el valor se encuentra en una secuencia; False en caso contrario."
      ],
      "metadata": {
        "id": "VV0Wy-8Ih9ji"
      }
    },
    {
      "cell_type": "code",
      "source": [],
      "metadata": {
        "id": "gfgC4SRYiT1H"
      },
      "execution_count": null,
      "outputs": []
    }
  ]
}