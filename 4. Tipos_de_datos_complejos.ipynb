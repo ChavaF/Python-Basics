{
  "nbformat": 4,
  "nbformat_minor": 0,
  "metadata": {
    "colab": {
      "provenance": [],
      "collapsed_sections": [],
      "authorship_tag": "ABX9TyPpRG1KeRcr78/cb7oMHLfi",
      "include_colab_link": true
    },
    "kernelspec": {
      "name": "python3",
      "display_name": "Python 3"
    },
    "language_info": {
      "name": "python"
    }
  },
  "cells": [
    {
      "cell_type": "markdown",
      "metadata": {
        "id": "view-in-github",
        "colab_type": "text"
      },
      "source": [
        "<a href=\"https://colab.research.google.com/github/cuauhtemocbe/Python-Basics/blob/main/4. Tipos_de_datos_complejos.ipynb\" target=\"_parent\"><img src=\"https://colab.research.google.com/assets/colab-badge.svg\" alt=\"Open In Colab\"/></a>"
      ]
    },
    {
      "cell_type": "markdown",
      "source": [
        "## Tipos de datos complejos\n",
        "\n",
        "Son tipos de datos más avanzados que str, float, int o bool. \n",
        "\n",
        "**Palabras clave:** list, dict, set, range <br>\n",
        "**Vocabulario:** índice, heterogeneidad, mutables, llaves (keys), duplicados"
      ],
      "metadata": {
        "id": "nBKAPTioALGz"
      }
    },
    {
      "cell_type": "markdown",
      "metadata": {
        "id": "TuXvj2G5V6K_"
      },
      "source": [
        "# Listas"
      ]
    },
    {
      "cell_type": "markdown",
      "metadata": {
        "id": "pJk9JeyjWBEz"
      },
      "source": [
        "La **lista** en Python son un tipo de dato muy útil para almacenar datos. <br>\n",
        "De manera interna python asigna cada elemento a un índice. <br>\n",
        "Nota: Un array o matriz/vector es una serie de elementos ordenados en filas o columnas."
      ]
    },
    {
      "cell_type": "markdown",
      "metadata": {
        "id": "OJdOYljzYFew"
      },
      "source": [
        "Las listas son muy vérsatiles. Para crear una lista se mete la secuencia de datos dentro de corchetes **[ ]**"
      ]
    },
    {
      "cell_type": "code",
      "metadata": {
        "id": "CxzMzj8aYEoe",
        "colab": {
          "base_uri": "https://localhost:8080/"
        },
        "outputId": "aeac9c69-4015-4ba0-febf-08cbf43c3c5f"
      },
      "source": [
        "mi_primer_lista = []\n",
        "# mi_primer_list = list()\n",
        "print('mi primera lista:', mi_primer_lista)\n",
        "print(type(mi_primer_lista))"
      ],
      "execution_count": 1,
      "outputs": [
        {
          "output_type": "stream",
          "name": "stdout",
          "text": [
            "mi primera lista: []\n",
            "<class 'list'>\n"
          ]
        }
      ]
    },
    {
      "cell_type": "code",
      "metadata": {
        "id": "jVktw5M6CXLU",
        "colab": {
          "base_uri": "https://localhost:8080/"
        },
        "outputId": "86ecf868-1232-4231-f948-96d2e825dd0d"
      },
      "source": [
        "mi_segunda_lista = ['estoy adentro de la lista']\n",
        "print(mi_segunda_lista)"
      ],
      "execution_count": 2,
      "outputs": [
        {
          "output_type": "stream",
          "name": "stdout",
          "text": [
            "['estoy adentro de la lista']\n"
          ]
        }
      ]
    },
    {
      "cell_type": "code",
      "metadata": {
        "id": "NwnTODZSrcZu",
        "colab": {
          "base_uri": "https://localhost:8080/"
        },
        "outputId": "b938c386-4122-46d3-a862-9ae1f87ba334"
      },
      "source": [
        "mi_tercera_lista = ['estoy', 'adentro', 'de', 'la', 'lista']\n",
        "print(mi_tercera_lista)"
      ],
      "execution_count": 3,
      "outputs": [
        {
          "output_type": "stream",
          "name": "stdout",
          "text": [
            "['estoy', 'adentro', 'de', 'la', 'lista']\n"
          ]
        }
      ]
    },
    {
      "cell_type": "markdown",
      "metadata": {
        "id": "7XSkwBUBY1KM"
      },
      "source": [
        "Las listas en Python son:\n",
        "\n",
        "- **heterogéneas**: pueden estar conformadas por elementos de distintos tipo, incluidos otras listas.\n",
        "- **ordenadas**: La información se guarda mediante índices (index)\n",
        "- **mutables**: sus elementos pueden modificarse."
      ]
    },
    {
      "cell_type": "markdown",
      "metadata": {
        "id": "TD_tubqxZU95"
      },
      "source": [
        "### Heterogeneidad"
      ]
    },
    {
      "cell_type": "code",
      "metadata": {
        "id": "Vqk44wq5WA15",
        "colab": {
          "base_uri": "https://localhost:8080/"
        },
        "outputId": "fa8562ed-3073-44f2-89d3-54570ea9dec9"
      },
      "source": [
        "# Secuencia de elementos del mismo tipo\n",
        "nombres_paises_lista = ['Angola', 'Alemania', 'Brasil', 'México']\n",
        "print(type(nombres_paises_lista))\n",
        "print(nombres_paises_lista)"
      ],
      "execution_count": 5,
      "outputs": [
        {
          "output_type": "stream",
          "name": "stdout",
          "text": [
            "<class 'list'>\n",
            "['Angola', 'Alemania', 'Brasil', 'México']\n"
          ]
        }
      ]
    },
    {
      "cell_type": "code",
      "metadata": {
        "id": "L5PaTx9OXoE8"
      },
      "source": [
        "# Secuencia de elementos de diferentes tipos\n",
        "mix_datos_lista = [1, 'Alameda', None, True, 10_000.05]\n",
        "print(type(mix_datos_lista))\n",
        "print(mix_datos_lista)"
      ],
      "execution_count": null,
      "outputs": []
    },
    {
      "cell_type": "markdown",
      "metadata": {
        "id": "PXLaOL0_ZZbV"
      },
      "source": [
        "### Orden <br>\n",
        "Los elementos de una lista pueden accederse mediante su índice, siendo 0 el índice del primer elemento."
      ]
    },
    {
      "cell_type": "code",
      "metadata": {
        "id": "AeUCVK3ZoiJd"
      },
      "source": [
        "nombres_paises_lista"
      ],
      "execution_count": null,
      "outputs": []
    },
    {
      "cell_type": "code",
      "metadata": {
        "id": "-voABrv3Zjwb"
      },
      "source": [
        "nombres_paises_lista[0]"
      ],
      "execution_count": null,
      "outputs": []
    },
    {
      "cell_type": "code",
      "metadata": {
        "id": "irjcpqJFZjsr"
      },
      "source": [
        "nombres_paises_lista[1]"
      ],
      "execution_count": null,
      "outputs": []
    },
    {
      "cell_type": "code",
      "metadata": {
        "id": "UHY6AEhtZsbU"
      },
      "source": [
        "nombres_paises_lista[2]"
      ],
      "execution_count": null,
      "outputs": []
    },
    {
      "cell_type": "code",
      "metadata": {
        "id": "Gn7UK0ImZu6G"
      },
      "source": [
        "nombres_paises_lista[-1]"
      ],
      "execution_count": null,
      "outputs": []
    },
    {
      "cell_type": "code",
      "metadata": {
        "id": "Y5moiEv1Z1E0"
      },
      "source": [
        "nombres_paises_lista[-2]"
      ],
      "execution_count": null,
      "outputs": []
    },
    {
      "cell_type": "code",
      "metadata": {
        "id": "cBrkVSqBo5hi"
      },
      "source": [
        "len(nombres_paises_lista)"
      ],
      "execution_count": null,
      "outputs": []
    },
    {
      "cell_type": "code",
      "source": [
        "nombres_paises_lista[-3]"
      ],
      "metadata": {
        "id": "0ECT3OBGCLOS"
      },
      "execution_count": null,
      "outputs": []
    },
    {
      "cell_type": "markdown",
      "metadata": {
        "id": "5BWnSHuSZcWR"
      },
      "source": [
        "### Mutables<br>\n",
        "Se pueden modificar una vez creadas"
      ]
    },
    {
      "cell_type": "code",
      "metadata": {
        "id": "N0ThSnXcpHfR"
      },
      "source": [
        "print('Elementos dentro de la lista')\n",
        "print(nombres_paises_lista)\n",
        "print('\\nPrimer elemento en la lista')\n",
        "print(nombres_paises_lista[0])"
      ],
      "execution_count": null,
      "outputs": []
    },
    {
      "cell_type": "code",
      "metadata": {
        "id": "4nXj3IaqXn53"
      },
      "source": [
        "print('\\n >> Proceso: Modificando el país\\n')\n",
        "nombres_paises_lista[0] = 'México'\n",
        "print('\\nLista modificada')\n",
        "print(nombres_paises_lista)"
      ],
      "execution_count": null,
      "outputs": []
    },
    {
      "cell_type": "markdown",
      "metadata": {
        "id": "DRs7ouKibv1W"
      },
      "source": [
        "Ya que las listas pueden recibir diferentes tipos de datos, podemos agregarle un número (float) a nuestra lista."
      ]
    },
    {
      "cell_type": "code",
      "metadata": {
        "id": "wMkJZ2UPadC7"
      },
      "source": [
        "import math\n",
        "print('\\n >> Proceso: Modificando el segundo elemento en la lista\\n')\n",
        "nombres_paises_lista[1] = math.pi\n",
        "print('\\nLista final')\n",
        "print(nombres_paises_lista)"
      ],
      "execution_count": null,
      "outputs": []
    },
    {
      "cell_type": "markdown",
      "metadata": {
        "id": "5SeRbgQyijGJ"
      },
      "source": [
        "### Valores duplicados\n",
        "<br>\n",
        "Ya que las listas son indexadas, se pueden poner valores duplicados."
      ]
    },
    {
      "cell_type": "code",
      "metadata": {
        "id": "OTlsIuw7h7xX"
      },
      "source": [
        "frutas_list = [\"mango\", \"durazno\", \"mamey\", \"mamey\", \"melón\", \"mamey\"]\n",
        "print(frutas_list)"
      ],
      "execution_count": null,
      "outputs": []
    },
    {
      "cell_type": "code",
      "source": [
        "frutas_list[3]"
      ],
      "metadata": {
        "id": "FB3ZVS1dHG5X"
      },
      "execution_count": null,
      "outputs": []
    },
    {
      "cell_type": "markdown",
      "metadata": {
        "id": "Fi1FZ_tQi7No"
      },
      "source": [
        "### Constructor list()\n",
        "<br>\n",
        "Podemos crear una lista de dos formas, usando corchetes y usando el constructor list()"
      ]
    },
    {
      "cell_type": "code",
      "metadata": {
        "id": "oMvyg-9ji6wh"
      },
      "source": [
        "frutas_list = list(\"mango\", \"durazno\", \"mamey\")\n",
        "print(frutas_list)"
      ],
      "execution_count": null,
      "outputs": []
    },
    {
      "cell_type": "code",
      "metadata": {
        "id": "OQpy-7EFsgkF"
      },
      "source": [
        "frutas_list = list((\"mango\", \"durazno\", \"mamey\")) # nota los paréntesis dobles\n",
        "print(frutas_list)"
      ],
      "execution_count": null,
      "outputs": []
    },
    {
      "cell_type": "code",
      "source": [
        "type((\"mango\", \"durazno\", \"mamey\"))"
      ],
      "metadata": {
        "id": "0oq5xlgSH5Yz"
      },
      "execution_count": null,
      "outputs": []
    },
    {
      "cell_type": "markdown",
      "metadata": {
        "id": "g0qOUsW6jsYP"
      },
      "source": [
        "## Métodos<br>\n"
      ]
    },
    {
      "cell_type": "code",
      "metadata": {
        "id": "RZSlm69mtRzb"
      },
      "source": [
        "help(list)"
      ],
      "execution_count": null,
      "outputs": []
    },
    {
      "cell_type": "code",
      "metadata": {
        "id": "jh4b2CaKtdq0"
      },
      "source": [
        "frutas_list = [\"mango\", \"durazno\", \"mamey\", \"melón\"]\n",
        "print(type(frutas_list))"
      ],
      "execution_count": null,
      "outputs": []
    },
    {
      "cell_type": "code",
      "metadata": {
        "id": "dDgd4xEgthYI"
      },
      "source": [
        "help(frutas_list)"
      ],
      "execution_count": null,
      "outputs": []
    },
    {
      "cell_type": "markdown",
      "metadata": {
        "id": "aRGPKzWQj0ZA"
      },
      "source": [
        "### append()\n",
        "<br>\n",
        "Este método agrega un elemento al final de una lista."
      ]
    },
    {
      "cell_type": "code",
      "source": [
        "list.append"
      ],
      "metadata": {
        "id": "mRoWpR4JIsQN"
      },
      "execution_count": null,
      "outputs": []
    },
    {
      "cell_type": "code",
      "source": [
        "help(list.append)"
      ],
      "metadata": {
        "id": "0dvwZDvnIvfH"
      },
      "execution_count": null,
      "outputs": []
    },
    {
      "cell_type": "code",
      "metadata": {
        "id": "PaEubaKRjRjX"
      },
      "source": [
        "frutas_list = [\"mango\", \"durazno\", \"mamey\", \"melón\"]\n",
        "frutas_list.append(6)\n",
        "print(frutas_list)"
      ],
      "execution_count": null,
      "outputs": []
    },
    {
      "cell_type": "code",
      "metadata": {
        "id": "Z4U6hN51kRMs"
      },
      "source": [
        "frutas_list.append(None)\n",
        "print(frutas_list)"
      ],
      "execution_count": null,
      "outputs": []
    },
    {
      "cell_type": "markdown",
      "metadata": {
        "id": "9AQXBwwekdG1"
      },
      "source": [
        "### extend()<br>\n",
        "Este método extiende una lista agregando un iterable al final."
      ]
    },
    {
      "cell_type": "code",
      "metadata": {
        "id": "_84p37lXkVYc"
      },
      "source": [
        "frutas_list = [\"mango\", \"durazno\", \"mamey\", \"melón\"]\n",
        "numeros_list = [1, 3, 5, 6]\n",
        "frutas_list.append(numeros_list)"
      ],
      "execution_count": null,
      "outputs": []
    },
    {
      "cell_type": "code",
      "metadata": {
        "id": "lWgdGCuykxcy"
      },
      "source": [
        "print(frutas_list)"
      ],
      "execution_count": null,
      "outputs": []
    },
    {
      "cell_type": "code",
      "metadata": {
        "id": "NnTerPazxFFb"
      },
      "source": [
        "len(frutas_list)"
      ],
      "execution_count": null,
      "outputs": []
    },
    {
      "cell_type": "markdown",
      "metadata": {
        "id": "4YWJ7RLYlMCP"
      },
      "source": [
        "Nota que que si usamos **append** agrega el elemento como una lista, mientras que, si usamos **extend**, se agregaran todos los elementos a la list pero desempaquetados."
      ]
    },
    {
      "cell_type": "code",
      "metadata": {
        "id": "qfcc2fMHkz7X"
      },
      "source": [
        "frutas_list = [\"mango\", \"durazno\", \"mamey\", \"melón\"]\n",
        "numeros_list = [1, 3, 5, 6]\n",
        "frutas_list.extend(numeros_list)"
      ],
      "execution_count": null,
      "outputs": []
    },
    {
      "cell_type": "code",
      "metadata": {
        "id": "NfQljnFvk9gE"
      },
      "source": [
        "print(frutas_list)"
      ],
      "execution_count": null,
      "outputs": []
    },
    {
      "cell_type": "code",
      "metadata": {
        "id": "gVqkFhUuxH_S"
      },
      "source": [
        "len(frutas_list)"
      ],
      "execution_count": null,
      "outputs": []
    },
    {
      "cell_type": "markdown",
      "metadata": {
        "id": "YjCd8y3WmHN5"
      },
      "source": [
        "### index()\n",
        "<br>\n",
        "Este método recibe un elemento como argumento, y devuelve el índice de su primera aparición en la lista."
      ]
    },
    {
      "cell_type": "code",
      "metadata": {
        "id": "KkOyzaGrk-0x"
      },
      "source": [
        "frutas_list = [\"mango\", \"durazno\", \"mamey\", \"mamey\", \"melón\"]\n",
        "print(frutas_list.index(\"mango\"))"
      ],
      "execution_count": null,
      "outputs": []
    },
    {
      "cell_type": "code",
      "metadata": {
        "id": "3gLdFVhfmUFF"
      },
      "source": [
        "print(frutas_list.index(\"mamey\"))"
      ],
      "execution_count": null,
      "outputs": []
    },
    {
      "cell_type": "code",
      "metadata": {
        "id": "r1pSVbrZmXkw"
      },
      "source": [
        "print(frutas_list[2])"
      ],
      "execution_count": null,
      "outputs": []
    },
    {
      "cell_type": "code",
      "metadata": {
        "id": "61iUnZXamjc8"
      },
      "source": [
        "frutas_list[5]"
      ],
      "execution_count": null,
      "outputs": []
    },
    {
      "cell_type": "markdown",
      "metadata": {
        "id": "2Vw8kZUomisX"
      },
      "source": [
        "El método devuelve un excepción ValueError si el elemento no se encuentra en la lista, o en el entorno definido."
      ]
    },
    {
      "cell_type": "markdown",
      "metadata": {
        "id": "1QPlWPv8mxX7"
      },
      "source": [
        "### reverse()\n",
        "<br>\n",
        "Este método invierte el orden de los elementos de una lista."
      ]
    },
    {
      "cell_type": "code",
      "metadata": {
        "id": "NGoKVkDEm1Kl"
      },
      "source": [
        "frutas_list = [\"mango\", \"durazno\", \"mamey\", \"melón\"]\n",
        "# frutas_list = frutas_list.reverse()\n",
        "print(frutas_list.reverse())"
      ],
      "execution_count": null,
      "outputs": []
    },
    {
      "cell_type": "code",
      "source": [
        "frutas_list = frutas_list.reverse()\n",
        "print(frutas_list)"
      ],
      "metadata": {
        "id": "vcKY7F15KUiL"
      },
      "execution_count": null,
      "outputs": []
    },
    {
      "cell_type": "code",
      "metadata": {
        "id": "xv2folxFm5dZ"
      },
      "source": [
        "frutas_list = [\"mango\", \"durazno\", \"mamey\", \"melón\"]\n",
        "frutas_list.reverse()\n",
        "print(frutas_list)"
      ],
      "execution_count": null,
      "outputs": []
    },
    {
      "cell_type": "code",
      "metadata": {
        "id": "X7Hzs3nDyq2U"
      },
      "source": [
        "word = 'murcielago'\n",
        "print(word)\n",
        "word.reverse()\n",
        "print(word)"
      ],
      "execution_count": null,
      "outputs": []
    },
    {
      "cell_type": "code",
      "metadata": {
        "id": "rXJbP7pxy6wb"
      },
      "source": [
        "word[::-1]"
      ],
      "execution_count": null,
      "outputs": []
    },
    {
      "cell_type": "code",
      "source": [
        "# fancy indexing, funciona con listas y strings\n",
        "'anita lava la tina'[::-1]"
      ],
      "metadata": {
        "id": "4YYpwdctKxzy"
      },
      "execution_count": null,
      "outputs": []
    },
    {
      "cell_type": "markdown",
      "metadata": {
        "id": "o2Hij-gKnNeL"
      },
      "source": [
        "### sort()\n",
        "Este método ordena los elementos de una lista."
      ]
    },
    {
      "cell_type": "code",
      "metadata": {
        "id": "xGd65CUxnD50"
      },
      "source": [
        "frutas_list = [\"sandia\", \"mango\", \"durazno\", \"mamey\", \"melón\"]\n",
        "print(frutas_list.sort())"
      ],
      "execution_count": null,
      "outputs": []
    },
    {
      "cell_type": "code",
      "metadata": {
        "id": "UHVFHRN3nUZu"
      },
      "source": [
        "print(frutas_list)"
      ],
      "execution_count": null,
      "outputs": []
    },
    {
      "cell_type": "code",
      "metadata": {
        "id": "BIgWsYGVnW6f"
      },
      "source": [
        "numeros_list = [2, 3, 4, 1, 10]\n",
        "numeros_list.sort()"
      ],
      "execution_count": null,
      "outputs": []
    },
    {
      "cell_type": "code",
      "metadata": {
        "id": "XuvvkJinndH-"
      },
      "source": [
        "# buscar la diferencia entres sorted y sort\n",
        "print(numeros_list)"
      ],
      "execution_count": null,
      "outputs": []
    },
    {
      "cell_type": "markdown",
      "metadata": {
        "id": "yEiqOM30MZBp"
      },
      "source": [
        "### Temporada de frutas en México"
      ]
    },
    {
      "cell_type": "code",
      "metadata": {
        "id": "3UqDM-cz0pIO"
      },
      "source": [
        "table = [\n",
        "         ['Guayaba', 'Psidium guajava', 'Febrero'],\n",
        "         ['Fresa', 'Fragaria', 'Enero'],\n",
        "         ['Mamey', 'Pouteria sapota', 'Marzo'],\n",
        "         ['Fresa', 'Fragaria', 'Enero'],\n",
        "         ]"
      ],
      "execution_count": null,
      "outputs": []
    },
    {
      "cell_type": "code",
      "metadata": {
        "id": "jtVQnJfJMa64"
      },
      "source": [
        "import pandas as pd\n",
        "\n",
        "pd.DataFrame(table)"
      ],
      "execution_count": null,
      "outputs": []
    },
    {
      "cell_type": "code",
      "metadata": {
        "id": "F_l1P2VHMdB7"
      },
      "source": [
        "frutas_df = pd.DataFrame(table, columns=['Nombre común', 'Nombre científico', 'Temporada'])"
      ],
      "execution_count": null,
      "outputs": []
    },
    {
      "cell_type": "code",
      "metadata": {
        "id": "_vpBIh0DNT-i"
      },
      "source": [
        "frutas_df"
      ],
      "execution_count": null,
      "outputs": []
    },
    {
      "cell_type": "code",
      "source": [
        "frutas_df.describe()"
      ],
      "metadata": {
        "id": "CcrBjSZQCI6t"
      },
      "execution_count": null,
      "outputs": []
    },
    {
      "cell_type": "code",
      "metadata": {
        "id": "yAp_SFNDNFBC"
      },
      "source": [
        "to_append = ['Naranja', 'Citrus X sinensis', 'Abril']\n",
        "a_series = pd.Series(to_append, index = frutas_df.columns)\n",
        "df = frutas_df.append(a_series, ignore_index=True)\n",
        "df"
      ],
      "execution_count": null,
      "outputs": []
    },
    {
      "cell_type": "markdown",
      "metadata": {
        "id": "dKsptg9QOkf2"
      },
      "source": [
        "https://vidabirdman.com/blogs/recetas-saludables-veganas/frutas-de-temporada-en-mexico-por-mes"
      ]
    },
    {
      "cell_type": "markdown",
      "source": [
        "# Diccionarios"
      ],
      "metadata": {
        "id": "p8Qm4kLUAd4J"
      }
    },
    {
      "cell_type": "code",
      "source": [],
      "metadata": {
        "id": "0a53WyumAdiF"
      },
      "execution_count": null,
      "outputs": []
    },
    {
      "cell_type": "markdown",
      "source": [
        "## Conjuntos"
      ],
      "metadata": {
        "id": "WA7kOPlZAg9Z"
      }
    },
    {
      "cell_type": "code",
      "source": [],
      "metadata": {
        "id": "04_YYGHPAh5t"
      },
      "execution_count": null,
      "outputs": []
    },
    {
      "cell_type": "markdown",
      "source": [
        "# Range\n",
        "range es un tipo de dato que representa una secuencia de números inmutable. Calcula los items al vuelo o cunado son requridos. \n",
        "\n",
        "Entonces es más óptimo, por que ocupa menos espacio de memoria\n"
      ],
      "metadata": {
        "id": "B3kHJ8_8Amxa"
      }
    },
    {
      "cell_type": "code",
      "source": [
        "import sys\n",
        "\n",
        "# Nos devuelve el tamaño de un objeto en bytes\n",
        "\n",
        "sys.getsizeof(4)"
      ],
      "metadata": {
        "colab": {
          "base_uri": "https://localhost:8080/"
        },
        "id": "JidZz2OkCufM",
        "outputId": "690cb220-4336-4e44-f643-adae4326b870"
      },
      "execution_count": null,
      "outputs": [
        {
          "output_type": "execute_result",
          "data": {
            "text/plain": [
              "28"
            ]
          },
          "metadata": {},
          "execution_count": 2
        }
      ]
    },
    {
      "cell_type": "code",
      "source": [
        "sys.getsizeof('hola')"
      ],
      "metadata": {
        "colab": {
          "base_uri": "https://localhost:8080/"
        },
        "id": "75_jJEeSC9lH",
        "outputId": "418d4c65-3cd3-4e11-a177-b63534bac75a"
      },
      "execution_count": null,
      "outputs": [
        {
          "output_type": "execute_result",
          "data": {
            "text/plain": [
              "53"
            ]
          },
          "metadata": {},
          "execution_count": 3
        }
      ]
    },
    {
      "cell_type": "code",
      "source": [
        "# Tamaño inicial 72 kb\n",
        "# Más 8 por item adicional\n",
        "sys.getsizeof([1, 2, 3])"
      ],
      "metadata": {
        "colab": {
          "base_uri": "https://localhost:8080/"
        },
        "id": "cpPk9G_KDMkd",
        "outputId": "fb9528fc-68eb-4dde-db1f-858bd987f67c"
      },
      "execution_count": null,
      "outputs": [
        {
          "output_type": "execute_result",
          "data": {
            "text/plain": [
              "96"
            ]
          },
          "metadata": {},
          "execution_count": 9
        }
      ]
    },
    {
      "cell_type": "code",
      "source": [
        "million_list = [item for item in range(100_000_000)]\n",
        "kb = sys.getsizeof(million_list)\n",
        "mb = kb / 1_000_000\n",
        "print(f'{mb:,}')"
      ],
      "metadata": {
        "colab": {
          "base_uri": "https://localhost:8080/"
        },
        "id": "Zq7EwYnMDTLn",
        "outputId": "aae28e7f-9c5b-4089-ded0-02ccc5a5a63b"
      },
      "execution_count": null,
      "outputs": [
        {
          "output_type": "stream",
          "name": "stdout",
          "text": [
            "859.72448\n"
          ]
        }
      ]
    },
    {
      "cell_type": "code",
      "source": [
        "sys.getsizeof(range(100_000_000))"
      ],
      "metadata": {
        "colab": {
          "base_uri": "https://localhost:8080/"
        },
        "id": "0mnmN7BxESej",
        "outputId": "3a8084c3-e813-48f3-bd83-694afbead76b"
      },
      "execution_count": null,
      "outputs": [
        {
          "output_type": "execute_result",
          "data": {
            "text/plain": [
              "48"
            ]
          },
          "metadata": {},
          "execution_count": 20
        }
      ]
    },
    {
      "cell_type": "code",
      "source": [
        "# testing timeit()\n",
        "import timeit\n",
        "print(timeit.timeit('output = 10*5'))"
      ],
      "metadata": {
        "colab": {
          "base_uri": "https://localhost:8080/"
        },
        "id": "H85LWpRfFYYj",
        "outputId": "e22b7ece-4f75-414c-aff0-49025965fe1e"
      },
      "execution_count": null,
      "outputs": [
        {
          "output_type": "stream",
          "name": "stdout",
          "text": [
            "0.02613392399996428\n"
          ]
        }
      ]
    },
    {
      "cell_type": "code",
      "source": [
        "print(timeit.repeat('5 in range(100_000_000)', repeat=5))"
      ],
      "metadata": {
        "colab": {
          "base_uri": "https://localhost:8080/"
        },
        "id": "vGmJN65pFaQH",
        "outputId": "a33fea25-eaf1-496c-c7d5-b72ad6813dd9"
      },
      "execution_count": null,
      "outputs": [
        {
          "output_type": "stream",
          "name": "stdout",
          "text": [
            "[0.3657033549999369, 0.30538606699997217, 0.3086029820000249, 0.3157006389999424, 0.30496414399999594]\n"
          ]
        }
      ]
    },
    {
      "cell_type": "code",
      "source": [
        "%%timeit\n",
        "5 in range(100_000_000)"
      ],
      "metadata": {
        "colab": {
          "base_uri": "https://localhost:8080/"
        },
        "id": "CpmFLP54EwH4",
        "outputId": "8d9ad722-9a34-43aa-b920-49c4f4cce4e4"
      },
      "execution_count": null,
      "outputs": [
        {
          "output_type": "stream",
          "name": "stdout",
          "text": [
            "309 ns ± 13.8 ns per loop (mean ± std. dev. of 7 runs, 1000000 loops each)\n"
          ]
        }
      ]
    },
    {
      "cell_type": "code",
      "source": [
        "%%timeit\n",
        "5 < 100_000_000"
      ],
      "metadata": {
        "colab": {
          "base_uri": "https://localhost:8080/"
        },
        "id": "tiRwek_bE0qU",
        "outputId": "ae6b7a8a-c1e6-47df-d553-6d5a79708602"
      },
      "execution_count": null,
      "outputs": [
        {
          "output_type": "stream",
          "name": "stdout",
          "text": [
            "39.3 ns ± 0.764 ns per loop (mean ± std. dev. of 7 runs, 10000000 loops each)\n"
          ]
        }
      ]
    },
    {
      "cell_type": "markdown",
      "source": [
        "# Str"
      ],
      "metadata": {
        "id": "yy4Xcht4CZbe"
      }
    },
    {
      "cell_type": "code",
      "source": [],
      "metadata": {
        "id": "L_t45bnGAmUl"
      },
      "execution_count": null,
      "outputs": []
    },
    {
      "cell_type": "markdown",
      "source": [
        "# Tipos de datos avanzados"
      ],
      "metadata": {
        "id": "Jsb8zN5cAoOy"
      }
    },
    {
      "cell_type": "code",
      "source": [],
      "metadata": {
        "id": "CwXUFASYAqg4"
      },
      "execution_count": null,
      "outputs": []
    }
  ]
}
